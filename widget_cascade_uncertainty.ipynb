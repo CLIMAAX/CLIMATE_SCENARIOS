{
 "cells": [
  {
   "cell_type": "code",
   "execution_count": 2,
   "metadata": {},
   "outputs": [
    {
     "data": {
      "application/vnd.jupyter.widget-view+json": {
       "model_id": "65c5af4004b048b4bf4a7428794eaa7e",
       "version_major": 2,
       "version_minor": 0
      },
      "text/plain": [
       "interactive(children=(Dropdown(description='Region:', options=('NEU', 'MED', 'WCE', 'EEU'), value='NEU'), Drop…"
      ]
     },
     "metadata": {},
     "output_type": "display_data"
    },
    {
     "data": {
      "application/vnd.plotly.v1+json": {
       "config": {
        "plotlyServerURL": "https://plot.ly"
       },
       "data": [
        {
         "hoverinfo": "text",
         "line": {
          "color": "#402575",
          "width": 2
         },
         "mode": "lines",
         "showlegend": false,
         "text": "Model: MPI-M-MPI-ESM-LR_r1i1p1_KNMI-RACMO22E_v1<br>SSP: rcp26<br>Change: -507.33 Degree Days",
         "type": "scatter",
         "x": [
          -507.3328464999999,
          -497.1906809999999
         ],
         "y": [
          0,
          1
         ]
        },
        {
         "hoverinfo": "text",
         "line": {
          "color": "#E64139",
          "width": 2
         },
         "mode": "lines",
         "showlegend": false,
         "text": "Model: MPI-M-MPI-ESM-LR_r1i1p1_KNMI-RACMO22E_v1<br>SSP: rcp85<br>Change: -795.09 Degree Days",
         "type": "scatter",
         "x": [
          -795.0942630000001,
          -796.7569795
         ],
         "y": [
          0,
          1
         ]
        },
        {
         "hoverinfo": "text",
         "line": {
          "color": "#402575",
          "width": 2
         },
         "mode": "lines",
         "showlegend": false,
         "text": "Model: MOHC-HadGEM2-ES_r1i1p1_SMHI-RCA4_v1<br>SSP: rcp26<br>Change: -521.66 Degree Days",
         "type": "scatter",
         "x": [
          -521.6632545,
          -497.1906809999999
         ],
         "y": [
          0,
          1
         ]
        },
        {
         "hoverinfo": "text",
         "line": {
          "color": "#91ADD3",
          "width": 2
         },
         "mode": "lines",
         "showlegend": false,
         "text": "Model: MOHC-HadGEM2-ES_r1i1p1_SMHI-RCA4_v1<br>SSP: rcp45<br>Change: -823.02 Degree Days",
         "type": "scatter",
         "x": [
          -823.0165185,
          -530.644852
         ],
         "y": [
          0,
          1
         ]
        },
        {
         "hoverinfo": "text",
         "line": {
          "color": "#E64139",
          "width": 2
         },
         "mode": "lines",
         "showlegend": false,
         "text": "Model: MOHC-HadGEM2-ES_r1i1p1_SMHI-RCA4_v1<br>SSP: rcp85<br>Change: -940.78 Degree Days",
         "type": "scatter",
         "x": [
          -940.777105,
          -796.7569795
         ],
         "y": [
          0,
          1
         ]
        },
        {
         "hoverinfo": "text",
         "line": {
          "color": "#402575",
          "width": 2
         },
         "mode": "lines",
         "showlegend": false,
         "text": "Model: ICHEC-EC-EARTH_r12i1p1_KNMI-RACMO22E_v1<br>SSP: rcp26<br>Change: -676.68 Degree Days",
         "type": "scatter",
         "x": [
          -676.6782824999998,
          -497.1906809999999
         ],
         "y": [
          0,
          1
         ]
        },
        {
         "hoverinfo": "text",
         "line": {
          "color": "#91ADD3",
          "width": 2
         },
         "mode": "lines",
         "showlegend": false,
         "text": "Model: ICHEC-EC-EARTH_r12i1p1_KNMI-RACMO22E_v1<br>SSP: rcp45<br>Change: -678.30 Degree Days",
         "type": "scatter",
         "x": [
          -678.296537368421,
          -530.644852
         ],
         "y": [
          0,
          1
         ]
        },
        {
         "hoverinfo": "text",
         "line": {
          "color": "#E64139",
          "width": 2
         },
         "mode": "lines",
         "showlegend": false,
         "text": "Model: ICHEC-EC-EARTH_r12i1p1_KNMI-RACMO22E_v1<br>SSP: rcp85<br>Change: -944.98 Degree Days",
         "type": "scatter",
         "x": [
          -944.9844345,
          -796.7569795
         ],
         "y": [
          0,
          1
         ]
        },
        {
         "hoverinfo": "text",
         "line": {
          "color": "#402575",
          "width": 2
         },
         "mode": "lines",
         "showlegend": false,
         "text": "Model: CNRM-CERFACS-CNRM-CM5_r1i1p1_KNMI-RACMO22E_v2<br>SSP: rcp26<br>Change: -432.68 Degree Days",
         "type": "scatter",
         "x": [
          -432.676639,
          -497.1906809999999
         ],
         "y": [
          0,
          1
         ]
        },
        {
         "hoverinfo": "text",
         "line": {
          "color": "#91ADD3",
          "width": 2
         },
         "mode": "lines",
         "showlegend": false,
         "text": "Model: CNRM-CERFACS-CNRM-CM5_r1i1p1_KNMI-RACMO22E_v2<br>SSP: rcp45<br>Change: -575.42 Degree Days",
         "type": "scatter",
         "x": [
          -575.4227657894738,
          -530.644852
         ],
         "y": [
          0,
          1
         ]
        },
        {
         "hoverinfo": "text",
         "line": {
          "color": "#E64139",
          "width": 2
         },
         "mode": "lines",
         "showlegend": false,
         "text": "Model: CNRM-CERFACS-CNRM-CM5_r1i1p1_KNMI-RACMO22E_v2<br>SSP: rcp85<br>Change: -725.17 Degree Days",
         "type": "scatter",
         "x": [
          -725.1742419999998,
          -796.7569795
         ],
         "y": [
          0,
          1
         ]
        },
        {
         "hoverinfo": "text",
         "line": {
          "color": "#402575",
          "width": 2
         },
         "mode": "lines",
         "showlegend": false,
         "text": "Model: ICHEC-EC-EARTH_r12i1p1_SMHI-RCA4_v1<br>SSP: rcp26<br>Change: -703.92 Degree Days",
         "type": "scatter",
         "x": [
          -703.921465,
          -497.1906809999999
         ],
         "y": [
          0,
          1
         ]
        },
        {
         "hoverinfo": "text",
         "line": {
          "color": "#91ADD3",
          "width": 2
         },
         "mode": "lines",
         "showlegend": false,
         "text": "Model: ICHEC-EC-EARTH_r12i1p1_SMHI-RCA4_v1<br>SSP: rcp45<br>Change: -686.64 Degree Days",
         "type": "scatter",
         "x": [
          -686.6433000000002,
          -530.644852
         ],
         "y": [
          0,
          1
         ]
        },
        {
         "hoverinfo": "text",
         "line": {
          "color": "#E64139",
          "width": 2
         },
         "mode": "lines",
         "showlegend": false,
         "text": "Model: ICHEC-EC-EARTH_r12i1p1_SMHI-RCA4_v1<br>SSP: rcp85<br>Change: -962.77 Degree Days",
         "type": "scatter",
         "x": [
          -962.7704557894732,
          -796.7569795
         ],
         "y": [
          0,
          1
         ]
        },
        {
         "hoverinfo": "text",
         "line": {
          "color": "#402575",
          "width": 2
         },
         "mode": "lines",
         "showlegend": false,
         "text": "Model: mmm<br>SSP: rcp26<br>Impact: -497.19 Degree Days",
         "type": "scatter",
         "x": [
          -497.1906809999999,
          -497.1906809999999
         ],
         "y": [
          1,
          2
         ]
        },
        {
         "hoverinfo": "text",
         "line": {
          "color": "#91ADD3",
          "width": 2
         },
         "mode": "lines",
         "showlegend": false,
         "text": "Model: mmm<br>SSP: rcp45<br>Impact: -530.64 Degree Days",
         "type": "scatter",
         "x": [
          -530.644852,
          -530.644852
         ],
         "y": [
          1,
          2
         ]
        },
        {
         "hoverinfo": "text",
         "line": {
          "color": "#E64139",
          "width": 2
         },
         "mode": "lines",
         "showlegend": false,
         "text": "Model: mmm<br>SSP: rcp85<br>Impact: -796.76 Degree Days",
         "type": "scatter",
         "x": [
          -796.7569795,
          -796.7569795
         ],
         "y": [
          1,
          2
         ]
        },
        {
         "hoverinfo": "text",
         "line": {
          "color": "#402575",
          "width": 2
         },
         "mode": "lines",
         "showlegend": false,
         "text": "Model: MOHC-HadGEM2-ES_r1i1p1_DMI-HIRHAM5_v2<br>SSP: rcp26<br>Change: -564.13 Degree Days",
         "type": "scatter",
         "x": [
          -564.1302645,
          -497.1906809999999
         ],
         "y": [
          0,
          1
         ]
        },
        {
         "hoverinfo": "text",
         "line": {
          "color": "#91ADD3",
          "width": 2
         },
         "mode": "lines",
         "showlegend": false,
         "text": "Model: MOHC-HadGEM2-ES_r1i1p1_DMI-HIRHAM5_v2<br>SSP: rcp45<br>Change: -814.01 Degree Days",
         "type": "scatter",
         "x": [
          -814.0055130000001,
          -530.644852
         ],
         "y": [
          0,
          1
         ]
        },
        {
         "hoverinfo": "text",
         "line": {
          "color": "#E64139",
          "width": 2
         },
         "mode": "lines",
         "showlegend": false,
         "text": "Model: MOHC-HadGEM2-ES_r1i1p1_DMI-HIRHAM5_v2<br>SSP: rcp85<br>Change: -942.00 Degree Days",
         "type": "scatter",
         "x": [
          -942.000611,
          -796.7569795
         ],
         "y": [
          0,
          1
         ]
        },
        {
         "hoverinfo": "text",
         "line": {
          "color": "#402575",
          "width": 2
         },
         "mode": "lines",
         "showlegend": false,
         "text": "Model: ICHEC-EC-EARTH_r3i1p1_DMI-HIRHAM5_v2<br>SSP: rcp26<br>Change: -382.77 Degree Days",
         "type": "scatter",
         "x": [
          -382.76974616,
          -497.1906809999999
         ],
         "y": [
          0,
          1
         ]
        },
        {
         "hoverinfo": "text",
         "line": {
          "color": "#91ADD3",
          "width": 2
         },
         "mode": "lines",
         "showlegend": false,
         "text": "Model: ICHEC-EC-EARTH_r3i1p1_DMI-HIRHAM5_v2<br>SSP: rcp45<br>Change: -589.57 Degree Days",
         "type": "scatter",
         "x": [
          -589.5672555,
          -530.644852
         ],
         "y": [
          0,
          1
         ]
        },
        {
         "hoverinfo": "text",
         "line": {
          "color": "#E64139",
          "width": 2
         },
         "mode": "lines",
         "showlegend": false,
         "text": "Model: ICHEC-EC-EARTH_r3i1p1_DMI-HIRHAM5_v2<br>SSP: rcp85<br>Change: -884.46 Degree Days",
         "type": "scatter",
         "x": [
          -884.4564010526315,
          -796.7569795
         ],
         "y": [
          0,
          1
         ]
        },
        {
         "hoverinfo": "text",
         "line": {
          "color": "#402575",
          "width": 2
         },
         "mode": "lines",
         "showlegend": false,
         "text": "Model: MOHC-HadGEM2-ES_r1i1p1_KNMI-RACMO22E_v2<br>SSP: rcp26<br>Change: -590.20 Degree Days",
         "type": "scatter",
         "x": [
          -590.1967344999999,
          -497.1906809999999
         ],
         "y": [
          0,
          1
         ]
        },
        {
         "hoverinfo": "text",
         "line": {
          "color": "#91ADD3",
          "width": 2
         },
         "mode": "lines",
         "showlegend": false,
         "text": "Model: MOHC-HadGEM2-ES_r1i1p1_KNMI-RACMO22E_v2<br>SSP: rcp45<br>Change: -857.25 Degree Days",
         "type": "scatter",
         "x": [
          -857.249595,
          -530.644852
         ],
         "y": [
          0,
          1
         ]
        },
        {
         "hoverinfo": "text",
         "line": {
          "color": "#E64139",
          "width": 2
         },
         "mode": "lines",
         "showlegend": false,
         "text": "Model: MOHC-HadGEM2-ES_r1i1p1_KNMI-RACMO22E_v2<br>SSP: rcp85<br>Change: -982.44 Degree Days",
         "type": "scatter",
         "x": [
          -982.437043,
          -796.7569795
         ],
         "y": [
          0,
          1
         ]
        },
        {
         "hoverinfo": "text",
         "line": {
          "color": "#402575",
          "width": 2
         },
         "mode": "lines",
         "showlegend": false,
         "text": "Model: NCC-NorESM1-M_r1i1p1_GERICS-REMO2015_v1<br>SSP: rcp26<br>Change: -451.42 Degree Days",
         "type": "scatter",
         "x": [
          -451.4199817500001,
          -497.1906809999999
         ],
         "y": [
          0,
          1
         ]
        },
        {
         "hoverinfo": "text",
         "line": {
          "color": "#91ADD3",
          "width": 2
         },
         "mode": "lines",
         "showlegend": false,
         "text": "Model: NCC-NorESM1-M_r1i1p1_GERICS-REMO2015_v1<br>SSP: rcp45<br>Change: -618.40 Degree Days",
         "type": "scatter",
         "x": [
          -618.3991644999999,
          -530.644852
         ],
         "y": [
          0,
          1
         ]
        },
        {
         "hoverinfo": "text",
         "line": {
          "color": "#E64139",
          "width": 2
         },
         "mode": "lines",
         "showlegend": false,
         "text": "Model: NCC-NorESM1-M_r1i1p1_GERICS-REMO2015_v1<br>SSP: rcp85<br>Change: -687.68 Degree Days",
         "type": "scatter",
         "x": [
          -687.68314385,
          -796.7569795
         ],
         "y": [
          0,
          1
         ]
        },
        {
         "hoverinfo": "text",
         "line": {
          "color": "#402575",
          "width": 2
         },
         "mode": "lines",
         "showlegend": false,
         "text": "Model: NCC-NorESM1-M_r1i1p1_SMHI-RCA4_v1<br>SSP: rcp26<br>Change: -436.47 Degree Days",
         "type": "scatter",
         "x": [
          -436.47449549999993,
          -497.1906809999999
         ],
         "y": [
          0,
          1
         ]
        },
        {
         "hoverinfo": "text",
         "line": {
          "color": "#91ADD3",
          "width": 2
         },
         "mode": "lines",
         "showlegend": false,
         "text": "Model: NCC-NorESM1-M_r1i1p1_SMHI-RCA4_v1<br>SSP: rcp45<br>Change: -677.98 Degree Days",
         "type": "scatter",
         "x": [
          -677.9760964999999,
          -530.644852
         ],
         "y": [
          0,
          1
         ]
        },
        {
         "hoverinfo": "text",
         "line": {
          "color": "#E64139",
          "width": 2
         },
         "mode": "lines",
         "showlegend": false,
         "text": "Model: NCC-NorESM1-M_r1i1p1_SMHI-RCA4_v1<br>SSP: rcp85<br>Change: -715.69 Degree Days",
         "type": "scatter",
         "x": [
          -715.6946486,
          -796.7569795
         ],
         "y": [
          0,
          1
         ]
        },
        {
         "hoverinfo": "text",
         "line": {
          "color": "#402575",
          "width": 2
         },
         "mode": "lines",
         "showlegend": false,
         "text": "Model: MOHC-HadGEM2-ES_r1i1p1_ICTP-RegCM4-6_v1<br>SSP: rcp26<br>Change: -498.40 Degree Days",
         "type": "scatter",
         "x": [
          -498.40240499999993,
          -497.1906809999999
         ],
         "y": [
          0,
          1
         ]
        },
        {
         "hoverinfo": "text",
         "line": {
          "color": "#E64139",
          "width": 2
         },
         "mode": "lines",
         "showlegend": false,
         "text": "Model: MOHC-HadGEM2-ES_r1i1p1_ICTP-RegCM4-6_v1<br>SSP: rcp85<br>Change: -886.71 Degree Days",
         "type": "scatter",
         "x": [
          -886.7056104999999,
          -796.7569795
         ],
         "y": [
          0,
          1
         ]
        },
        {
         "hoverinfo": "text",
         "line": {
          "color": "#402575",
          "width": 2
         },
         "mode": "lines",
         "showlegend": false,
         "text": "Model: MPI-M-MPI-ESM-LR_r1i1p1_MPI-CSC-REMO2009_v1<br>SSP: rcp26<br>Change: -448.43 Degree Days",
         "type": "scatter",
         "x": [
          -448.4316010000001,
          -497.1906809999999
         ],
         "y": [
          0,
          1
         ]
        },
        {
         "hoverinfo": "text",
         "line": {
          "color": "#91ADD3",
          "width": 2
         },
         "mode": "lines",
         "showlegend": false,
         "text": "Model: MPI-M-MPI-ESM-LR_r1i1p1_MPI-CSC-REMO2009_v1<br>SSP: rcp45<br>Change: -413.35 Degree Days",
         "type": "scatter",
         "x": [
          -413.34529275,
          -530.644852
         ],
         "y": [
          0,
          1
         ]
        },
        {
         "hoverinfo": "text",
         "line": {
          "color": "#E64139",
          "width": 2
         },
         "mode": "lines",
         "showlegend": false,
         "text": "Model: MPI-M-MPI-ESM-LR_r1i1p1_MPI-CSC-REMO2009_v1<br>SSP: rcp85<br>Change: -686.36 Degree Days",
         "type": "scatter",
         "x": [
          -686.3611205,
          -796.7569795
         ],
         "y": [
          0,
          1
         ]
        },
        {
         "hoverinfo": "text",
         "line": {
          "color": "#402575",
          "width": 2
         },
         "mode": "lines",
         "showlegend": false,
         "text": "Model: ICHEC-EC-EARTH_r12i1p1_CLMcom-CCLM4-8-17_v1<br>SSP: rcp26<br>Change: -593.77 Degree Days",
         "type": "scatter",
         "x": [
          -593.7723689999999,
          -497.1906809999999
         ],
         "y": [
          0,
          1
         ]
        },
        {
         "hoverinfo": "text",
         "line": {
          "color": "#91ADD3",
          "width": 2
         },
         "mode": "lines",
         "showlegend": false,
         "text": "Model: ICHEC-EC-EARTH_r12i1p1_CLMcom-CCLM4-8-17_v1<br>SSP: rcp45<br>Change: -614.92 Degree Days",
         "type": "scatter",
         "x": [
          -614.9151159999999,
          -530.644852
         ],
         "y": [
          0,
          1
         ]
        },
        {
         "hoverinfo": "text",
         "line": {
          "color": "#E64139",
          "width": 2
         },
         "mode": "lines",
         "showlegend": false,
         "text": "Model: ICHEC-EC-EARTH_r12i1p1_CLMcom-CCLM4-8-17_v1<br>SSP: rcp85<br>Change: -812.75 Degree Days",
         "type": "scatter",
         "x": [
          -812.7527285,
          -796.7569795
         ],
         "y": [
          0,
          1
         ]
        },
        {
         "hoverinfo": "text",
         "line": {
          "color": "#402575",
          "width": 2
         },
         "mode": "lines",
         "showlegend": false,
         "text": "Model: CNRM-CERFACS-CNRM-CM5_r1i1p1_GERICS-REMO2015_v2<br>SSP: rcp26<br>Change: -420.29 Degree Days",
         "type": "scatter",
         "x": [
          -420.2875021052632,
          -497.1906809999999
         ],
         "y": [
          0,
          1
         ]
        },
        {
         "hoverinfo": "text",
         "line": {
          "color": "#E64139",
          "width": 2
         },
         "mode": "lines",
         "showlegend": false,
         "text": "Model: CNRM-CERFACS-CNRM-CM5_r1i1p1_GERICS-REMO2015_v2<br>SSP: rcp85<br>Change: -727.05 Degree Days",
         "type": "scatter",
         "x": [
          -727.0493210526316,
          -796.7569795
         ],
         "y": [
          0,
          1
         ]
        },
        {
         "hoverinfo": "text",
         "line": {
          "color": "#402575",
          "width": 2
         },
         "mode": "lines",
         "showlegend": false,
         "text": "Model: MOHC-HadGEM2-ES_r1i1p1_MOHC-HadREM3-GA7-05_v1<br>SSP: rcp26<br>Change: -561.67 Degree Days",
         "type": "scatter",
         "x": [
          -561.6700000000001,
          -497.1906809999999
         ],
         "y": [
          0,
          1
         ]
        },
        {
         "hoverinfo": "text",
         "line": {
          "color": "#E64139",
          "width": 2
         },
         "mode": "lines",
         "showlegend": false,
         "text": "Model: MOHC-HadGEM2-ES_r1i1p1_MOHC-HadREM3-GA7-05_v1<br>SSP: rcp85<br>Change: -989.77 Degree Days",
         "type": "scatter",
         "x": [
          -989.772045,
          -796.7569795
         ],
         "y": [
          0,
          1
         ]
        },
        {
         "hoverinfo": "text",
         "line": {
          "color": "#402575",
          "width": 2
         },
         "mode": "lines",
         "showlegend": false,
         "text": "Model: MPI-M-MPI-ESM-LR_r1i1p1_ICTP-RegCM4-6_v1<br>SSP: rcp26<br>Change: -485.91 Degree Days",
         "type": "scatter",
         "x": [
          -485.9092775,
          -497.1906809999999
         ],
         "y": [
          0,
          1
         ]
        },
        {
         "hoverinfo": "text",
         "line": {
          "color": "#E64139",
          "width": 2
         },
         "mode": "lines",
         "showlegend": false,
         "text": "Model: MPI-M-MPI-ESM-LR_r1i1p1_ICTP-RegCM4-6_v1<br>SSP: rcp85<br>Change: -725.99 Degree Days",
         "type": "scatter",
         "x": [
          -725.9939589999999,
          -796.7569795
         ],
         "y": [
          0,
          1
         ]
        },
        {
         "hoverinfo": "text",
         "line": {
          "color": "#402575",
          "width": 2
         },
         "mode": "lines",
         "showlegend": false,
         "text": "Model: MPI-M-MPI-ESM-LR_r1i1p1_SMHI-RCA4_v1a<br>SSP: rcp26<br>Change: -485.72 Degree Days",
         "type": "scatter",
         "x": [
          -485.716403,
          -497.1906809999999
         ],
         "y": [
          0,
          1
         ]
        },
        {
         "hoverinfo": "text",
         "line": {
          "color": "#91ADD3",
          "width": 2
         },
         "mode": "lines",
         "showlegend": false,
         "text": "Model: MPI-M-MPI-ESM-LR_r1i1p1_SMHI-RCA4_v1a<br>SSP: rcp45<br>Change: -456.87 Degree Days",
         "type": "scatter",
         "x": [
          -456.8710785000001,
          -530.644852
         ],
         "y": [
          0,
          1
         ]
        },
        {
         "hoverinfo": "text",
         "line": {
          "color": "#E64139",
          "width": 2
         },
         "mode": "lines",
         "showlegend": false,
         "text": "Model: MPI-M-MPI-ESM-LR_r1i1p1_SMHI-RCA4_v1a<br>SSP: rcp85<br>Change: -798.11 Degree Days",
         "type": "scatter",
         "x": [
          -798.1089375000001,
          -796.7569795
         ],
         "y": [
          0,
          1
         ]
        },
        {
         "hoverinfo": "text",
         "line": {
          "color": "#402575",
          "width": 2
         },
         "mode": "lines",
         "showlegend": false,
         "text": "Model: NCC-NorESM1-M_r1i1p1_KNMI-RACMO22E_v1<br>SSP: rcp26<br>Change: -403.58 Degree Days",
         "type": "scatter",
         "x": [
          -403.5839823999999,
          -497.1906809999999
         ],
         "y": [
          0,
          1
         ]
        },
        {
         "hoverinfo": "text",
         "line": {
          "color": "#E64139",
          "width": 2
         },
         "mode": "lines",
         "showlegend": false,
         "text": "Model: NCC-NorESM1-M_r1i1p1_KNMI-RACMO22E_v1<br>SSP: rcp85<br>Change: -714.63 Degree Days",
         "type": "scatter",
         "x": [
          -714.6304944999999,
          -796.7569795
         ],
         "y": [
          0,
          1
         ]
        },
        {
         "hoverinfo": "text",
         "line": {
          "color": "#402575",
          "width": 2
         },
         "mode": "lines",
         "showlegend": false,
         "text": "Model: CNRM-CERFACS-CNRM-CM5_r1i1p1_CNRM-ALADIN63_v2<br>SSP: rcp26<br>Change: -406.17 Degree Days",
         "type": "scatter",
         "x": [
          -406.174354,
          -497.1906809999999
         ],
         "y": [
          0,
          1
         ]
        },
        {
         "hoverinfo": "text",
         "line": {
          "color": "#91ADD3",
          "width": 2
         },
         "mode": "lines",
         "showlegend": false,
         "text": "Model: CNRM-CERFACS-CNRM-CM5_r1i1p1_CNRM-ALADIN63_v2<br>SSP: rcp45<br>Change: -492.16 Degree Days",
         "type": "scatter",
         "x": [
          -492.163274,
          -530.644852
         ],
         "y": [
          0,
          1
         ]
        },
        {
         "hoverinfo": "text",
         "line": {
          "color": "#E64139",
          "width": 2
         },
         "mode": "lines",
         "showlegend": false,
         "text": "Model: CNRM-CERFACS-CNRM-CM5_r1i1p1_CNRM-ALADIN63_v2<br>SSP: rcp85<br>Change: -641.12 Degree Days",
         "type": "scatter",
         "x": [
          -641.123061,
          -796.7569795
         ],
         "y": [
          0,
          1
         ]
        },
        {
         "line": {
          "color": "#402575",
          "width": 4
         },
         "mode": "lines",
         "name": "rcp26",
         "type": "scatter",
         "x": [
          null
         ],
         "y": [
          null
         ]
        },
        {
         "line": {
          "color": "#91ADD3",
          "width": 4
         },
         "mode": "lines",
         "name": "rcp45",
         "type": "scatter",
         "x": [
          null
         ],
         "y": [
          null
         ]
        },
        {
         "line": {
          "color": "#E64139",
          "width": 4
         },
         "mode": "lines",
         "name": "rcp85",
         "type": "scatter",
         "x": [
          null
         ],
         "y": [
          null
         ]
        }
       ],
       "layout": {
        "height": 500,
        "legend": {
         "orientation": "h",
         "x": 0.5,
         "xanchor": "center",
         "y": 1.05,
         "yanchor": "top"
        },
        "margin": {
         "b": 50,
         "l": 20,
         "r": 20,
         "t": 50
        },
        "paper_bgcolor": "white",
        "plot_bgcolor": "white",
        "template": {
         "data": {
          "bar": [
           {
            "error_x": {
             "color": "#2a3f5f"
            },
            "error_y": {
             "color": "#2a3f5f"
            },
            "marker": {
             "line": {
              "color": "#E5ECF6",
              "width": 0.5
             },
             "pattern": {
              "fillmode": "overlay",
              "size": 10,
              "solidity": 0.2
             }
            },
            "type": "bar"
           }
          ],
          "barpolar": [
           {
            "marker": {
             "line": {
              "color": "#E5ECF6",
              "width": 0.5
             },
             "pattern": {
              "fillmode": "overlay",
              "size": 10,
              "solidity": 0.2
             }
            },
            "type": "barpolar"
           }
          ],
          "carpet": [
           {
            "aaxis": {
             "endlinecolor": "#2a3f5f",
             "gridcolor": "white",
             "linecolor": "white",
             "minorgridcolor": "white",
             "startlinecolor": "#2a3f5f"
            },
            "baxis": {
             "endlinecolor": "#2a3f5f",
             "gridcolor": "white",
             "linecolor": "white",
             "minorgridcolor": "white",
             "startlinecolor": "#2a3f5f"
            },
            "type": "carpet"
           }
          ],
          "choropleth": [
           {
            "colorbar": {
             "outlinewidth": 0,
             "ticks": ""
            },
            "type": "choropleth"
           }
          ],
          "contour": [
           {
            "colorbar": {
             "outlinewidth": 0,
             "ticks": ""
            },
            "colorscale": [
             [
              0,
              "#0d0887"
             ],
             [
              0.1111111111111111,
              "#46039f"
             ],
             [
              0.2222222222222222,
              "#7201a8"
             ],
             [
              0.3333333333333333,
              "#9c179e"
             ],
             [
              0.4444444444444444,
              "#bd3786"
             ],
             [
              0.5555555555555556,
              "#d8576b"
             ],
             [
              0.6666666666666666,
              "#ed7953"
             ],
             [
              0.7777777777777778,
              "#fb9f3a"
             ],
             [
              0.8888888888888888,
              "#fdca26"
             ],
             [
              1,
              "#f0f921"
             ]
            ],
            "type": "contour"
           }
          ],
          "contourcarpet": [
           {
            "colorbar": {
             "outlinewidth": 0,
             "ticks": ""
            },
            "type": "contourcarpet"
           }
          ],
          "heatmap": [
           {
            "colorbar": {
             "outlinewidth": 0,
             "ticks": ""
            },
            "colorscale": [
             [
              0,
              "#0d0887"
             ],
             [
              0.1111111111111111,
              "#46039f"
             ],
             [
              0.2222222222222222,
              "#7201a8"
             ],
             [
              0.3333333333333333,
              "#9c179e"
             ],
             [
              0.4444444444444444,
              "#bd3786"
             ],
             [
              0.5555555555555556,
              "#d8576b"
             ],
             [
              0.6666666666666666,
              "#ed7953"
             ],
             [
              0.7777777777777778,
              "#fb9f3a"
             ],
             [
              0.8888888888888888,
              "#fdca26"
             ],
             [
              1,
              "#f0f921"
             ]
            ],
            "type": "heatmap"
           }
          ],
          "heatmapgl": [
           {
            "colorbar": {
             "outlinewidth": 0,
             "ticks": ""
            },
            "colorscale": [
             [
              0,
              "#0d0887"
             ],
             [
              0.1111111111111111,
              "#46039f"
             ],
             [
              0.2222222222222222,
              "#7201a8"
             ],
             [
              0.3333333333333333,
              "#9c179e"
             ],
             [
              0.4444444444444444,
              "#bd3786"
             ],
             [
              0.5555555555555556,
              "#d8576b"
             ],
             [
              0.6666666666666666,
              "#ed7953"
             ],
             [
              0.7777777777777778,
              "#fb9f3a"
             ],
             [
              0.8888888888888888,
              "#fdca26"
             ],
             [
              1,
              "#f0f921"
             ]
            ],
            "type": "heatmapgl"
           }
          ],
          "histogram": [
           {
            "marker": {
             "pattern": {
              "fillmode": "overlay",
              "size": 10,
              "solidity": 0.2
             }
            },
            "type": "histogram"
           }
          ],
          "histogram2d": [
           {
            "colorbar": {
             "outlinewidth": 0,
             "ticks": ""
            },
            "colorscale": [
             [
              0,
              "#0d0887"
             ],
             [
              0.1111111111111111,
              "#46039f"
             ],
             [
              0.2222222222222222,
              "#7201a8"
             ],
             [
              0.3333333333333333,
              "#9c179e"
             ],
             [
              0.4444444444444444,
              "#bd3786"
             ],
             [
              0.5555555555555556,
              "#d8576b"
             ],
             [
              0.6666666666666666,
              "#ed7953"
             ],
             [
              0.7777777777777778,
              "#fb9f3a"
             ],
             [
              0.8888888888888888,
              "#fdca26"
             ],
             [
              1,
              "#f0f921"
             ]
            ],
            "type": "histogram2d"
           }
          ],
          "histogram2dcontour": [
           {
            "colorbar": {
             "outlinewidth": 0,
             "ticks": ""
            },
            "colorscale": [
             [
              0,
              "#0d0887"
             ],
             [
              0.1111111111111111,
              "#46039f"
             ],
             [
              0.2222222222222222,
              "#7201a8"
             ],
             [
              0.3333333333333333,
              "#9c179e"
             ],
             [
              0.4444444444444444,
              "#bd3786"
             ],
             [
              0.5555555555555556,
              "#d8576b"
             ],
             [
              0.6666666666666666,
              "#ed7953"
             ],
             [
              0.7777777777777778,
              "#fb9f3a"
             ],
             [
              0.8888888888888888,
              "#fdca26"
             ],
             [
              1,
              "#f0f921"
             ]
            ],
            "type": "histogram2dcontour"
           }
          ],
          "mesh3d": [
           {
            "colorbar": {
             "outlinewidth": 0,
             "ticks": ""
            },
            "type": "mesh3d"
           }
          ],
          "parcoords": [
           {
            "line": {
             "colorbar": {
              "outlinewidth": 0,
              "ticks": ""
             }
            },
            "type": "parcoords"
           }
          ],
          "pie": [
           {
            "automargin": true,
            "type": "pie"
           }
          ],
          "scatter": [
           {
            "fillpattern": {
             "fillmode": "overlay",
             "size": 10,
             "solidity": 0.2
            },
            "type": "scatter"
           }
          ],
          "scatter3d": [
           {
            "line": {
             "colorbar": {
              "outlinewidth": 0,
              "ticks": ""
             }
            },
            "marker": {
             "colorbar": {
              "outlinewidth": 0,
              "ticks": ""
             }
            },
            "type": "scatter3d"
           }
          ],
          "scattercarpet": [
           {
            "marker": {
             "colorbar": {
              "outlinewidth": 0,
              "ticks": ""
             }
            },
            "type": "scattercarpet"
           }
          ],
          "scattergeo": [
           {
            "marker": {
             "colorbar": {
              "outlinewidth": 0,
              "ticks": ""
             }
            },
            "type": "scattergeo"
           }
          ],
          "scattergl": [
           {
            "marker": {
             "colorbar": {
              "outlinewidth": 0,
              "ticks": ""
             }
            },
            "type": "scattergl"
           }
          ],
          "scattermapbox": [
           {
            "marker": {
             "colorbar": {
              "outlinewidth": 0,
              "ticks": ""
             }
            },
            "type": "scattermapbox"
           }
          ],
          "scatterpolar": [
           {
            "marker": {
             "colorbar": {
              "outlinewidth": 0,
              "ticks": ""
             }
            },
            "type": "scatterpolar"
           }
          ],
          "scatterpolargl": [
           {
            "marker": {
             "colorbar": {
              "outlinewidth": 0,
              "ticks": ""
             }
            },
            "type": "scatterpolargl"
           }
          ],
          "scatterternary": [
           {
            "marker": {
             "colorbar": {
              "outlinewidth": 0,
              "ticks": ""
             }
            },
            "type": "scatterternary"
           }
          ],
          "surface": [
           {
            "colorbar": {
             "outlinewidth": 0,
             "ticks": ""
            },
            "colorscale": [
             [
              0,
              "#0d0887"
             ],
             [
              0.1111111111111111,
              "#46039f"
             ],
             [
              0.2222222222222222,
              "#7201a8"
             ],
             [
              0.3333333333333333,
              "#9c179e"
             ],
             [
              0.4444444444444444,
              "#bd3786"
             ],
             [
              0.5555555555555556,
              "#d8576b"
             ],
             [
              0.6666666666666666,
              "#ed7953"
             ],
             [
              0.7777777777777778,
              "#fb9f3a"
             ],
             [
              0.8888888888888888,
              "#fdca26"
             ],
             [
              1,
              "#f0f921"
             ]
            ],
            "type": "surface"
           }
          ],
          "table": [
           {
            "cells": {
             "fill": {
              "color": "#EBF0F8"
             },
             "line": {
              "color": "white"
             }
            },
            "header": {
             "fill": {
              "color": "#C8D4E3"
             },
             "line": {
              "color": "white"
             }
            },
            "type": "table"
           }
          ]
         },
         "layout": {
          "annotationdefaults": {
           "arrowcolor": "#2a3f5f",
           "arrowhead": 0,
           "arrowwidth": 1
          },
          "autotypenumbers": "strict",
          "coloraxis": {
           "colorbar": {
            "outlinewidth": 0,
            "ticks": ""
           }
          },
          "colorscale": {
           "diverging": [
            [
             0,
             "#8e0152"
            ],
            [
             0.1,
             "#c51b7d"
            ],
            [
             0.2,
             "#de77ae"
            ],
            [
             0.3,
             "#f1b6da"
            ],
            [
             0.4,
             "#fde0ef"
            ],
            [
             0.5,
             "#f7f7f7"
            ],
            [
             0.6,
             "#e6f5d0"
            ],
            [
             0.7,
             "#b8e186"
            ],
            [
             0.8,
             "#7fbc41"
            ],
            [
             0.9,
             "#4d9221"
            ],
            [
             1,
             "#276419"
            ]
           ],
           "sequential": [
            [
             0,
             "#0d0887"
            ],
            [
             0.1111111111111111,
             "#46039f"
            ],
            [
             0.2222222222222222,
             "#7201a8"
            ],
            [
             0.3333333333333333,
             "#9c179e"
            ],
            [
             0.4444444444444444,
             "#bd3786"
            ],
            [
             0.5555555555555556,
             "#d8576b"
            ],
            [
             0.6666666666666666,
             "#ed7953"
            ],
            [
             0.7777777777777778,
             "#fb9f3a"
            ],
            [
             0.8888888888888888,
             "#fdca26"
            ],
            [
             1,
             "#f0f921"
            ]
           ],
           "sequentialminus": [
            [
             0,
             "#0d0887"
            ],
            [
             0.1111111111111111,
             "#46039f"
            ],
            [
             0.2222222222222222,
             "#7201a8"
            ],
            [
             0.3333333333333333,
             "#9c179e"
            ],
            [
             0.4444444444444444,
             "#bd3786"
            ],
            [
             0.5555555555555556,
             "#d8576b"
            ],
            [
             0.6666666666666666,
             "#ed7953"
            ],
            [
             0.7777777777777778,
             "#fb9f3a"
            ],
            [
             0.8888888888888888,
             "#fdca26"
            ],
            [
             1,
             "#f0f921"
            ]
           ]
          },
          "colorway": [
           "#636efa",
           "#EF553B",
           "#00cc96",
           "#ab63fa",
           "#FFA15A",
           "#19d3f3",
           "#FF6692",
           "#B6E880",
           "#FF97FF",
           "#FECB52"
          ],
          "font": {
           "color": "#2a3f5f"
          },
          "geo": {
           "bgcolor": "white",
           "lakecolor": "white",
           "landcolor": "#E5ECF6",
           "showlakes": true,
           "showland": true,
           "subunitcolor": "white"
          },
          "hoverlabel": {
           "align": "left"
          },
          "hovermode": "closest",
          "mapbox": {
           "style": "light"
          },
          "paper_bgcolor": "white",
          "plot_bgcolor": "#E5ECF6",
          "polar": {
           "angularaxis": {
            "gridcolor": "white",
            "linecolor": "white",
            "ticks": ""
           },
           "bgcolor": "#E5ECF6",
           "radialaxis": {
            "gridcolor": "white",
            "linecolor": "white",
            "ticks": ""
           }
          },
          "scene": {
           "xaxis": {
            "backgroundcolor": "#E5ECF6",
            "gridcolor": "white",
            "gridwidth": 2,
            "linecolor": "white",
            "showbackground": true,
            "ticks": "",
            "zerolinecolor": "white"
           },
           "yaxis": {
            "backgroundcolor": "#E5ECF6",
            "gridcolor": "white",
            "gridwidth": 2,
            "linecolor": "white",
            "showbackground": true,
            "ticks": "",
            "zerolinecolor": "white"
           },
           "zaxis": {
            "backgroundcolor": "#E5ECF6",
            "gridcolor": "white",
            "gridwidth": 2,
            "linecolor": "white",
            "showbackground": true,
            "ticks": "",
            "zerolinecolor": "white"
           }
          },
          "shapedefaults": {
           "line": {
            "color": "#2a3f5f"
           }
          },
          "ternary": {
           "aaxis": {
            "gridcolor": "white",
            "linecolor": "white",
            "ticks": ""
           },
           "baxis": {
            "gridcolor": "white",
            "linecolor": "white",
            "ticks": ""
           },
           "bgcolor": "#E5ECF6",
           "caxis": {
            "gridcolor": "white",
            "linecolor": "white",
            "ticks": ""
           }
          },
          "title": {
           "x": 0.05
          },
          "xaxis": {
           "automargin": true,
           "gridcolor": "white",
           "linecolor": "white",
           "ticks": "",
           "title": {
            "standoff": 15
           },
           "zerolinecolor": "white",
           "zerolinewidth": 2
          },
          "yaxis": {
           "automargin": true,
           "gridcolor": "white",
           "linecolor": "white",
           "ticks": "",
           "title": {
            "standoff": 15
           },
           "zerolinecolor": "white",
           "zerolinewidth": 2
          }
         }
        },
        "title": {
         "text": "Projected changes CORDEX in NEU for Heating Degree Days during year between 2041-2060",
         "x": 0.5,
         "xanchor": "center"
        },
        "xaxis": {
         "linecolor": "black",
         "linewidth": 1,
         "range": [
          -1020.122159942,
          -352.419631218
         ],
         "showgrid": false,
         "showline": true,
         "tickcolor": "black",
         "ticklen": 3,
         "tickmode": "auto",
         "ticks": "outside",
         "tickwidth": 1,
         "title": {
          "text": "Change in Heating Degree Days [Degree Days]"
         },
         "zeroline": false
        },
        "yaxis": {
         "showgrid": false,
         "tickmode": "array",
         "ticktext": [
          "Model",
          "RCP",
          ""
         ],
         "tickvals": [
          0,
          1,
          2
         ],
         "zeroline": false
        }
       }
      }
     },
     "metadata": {},
     "output_type": "display_data"
    },
    {
     "data": {
      "text/plain": [
       "<function __main__.update_plot(region, dataset, variable, time_filter, timeframe)>"
      ]
     },
     "execution_count": 2,
     "metadata": {},
     "output_type": "execute_result"
    }
   ],
   "source": [
    "import ipywidgets as widgets\n",
    "from ipywidgets import interact\n",
    "from IPython.display import clear_output\n",
    "import pandas as pd\n",
    "import numpy as np\n",
    "import plotly.graph_objects as go\n",
    "\n",
    "# Define variables and their full names\n",
    "atmos_variables = [\n",
    "    'tas', 'tasmin', 'TNn', 'fd', 'hdd',\n",
    "    'tasmax', 'TXx', 'tx35', 'TX35bc', 'tx40', 'TX40bc', 'cdd',\n",
    "    'pr', 'Rx1day', 'Rx5day', 'ds', 'spi6',\n",
    "    'prsn', 'sfcWind'\n",
    "]\n",
    "\n",
    "# Mapping of variable codes to their full names\n",
    "variable_full_names = {\n",
    "    'tas': 'Mean Temperature',\n",
    "    'tasmin': 'Minimum Temperature',\n",
    "    'TNn': 'Minimum of Minimum Temperature',\n",
    "    'fd': 'Frost Days',\n",
    "    'hdd': 'Heating Degree Days',\n",
    "    'tasmax': 'Maximum Temperature',\n",
    "    'TXx': 'Maximum of Maximum Temperature',\n",
    "    'tx35': 'Days with Temperature > 35°C',\n",
    "    'TX35bc': 'Days with Temperature > 35°C (Bias Corrected)',\n",
    "    'tx40': 'Days with Temperature > 40°C',\n",
    "    'TX40bc': 'Days with Temperature > 40°C (Bias Corrected)',\n",
    "    'cdd': 'Cooling Degree Days',\n",
    "    'pr': 'Total Precipitation',\n",
    "    'Rx1day': 'Maximum 1-Day Precipitation',\n",
    "    'Rx5day': 'Maximum 5-Day Precipitation',\n",
    "    'ds': 'Consecutive Dry Days',\n",
    "    'spi6': 'Standardized Precipitation Index (6 months)',\n",
    "    'prsn': 'Total Snowfall',\n",
    "    'sfcWind': 'Surface Wind Speed'\n",
    "}\n",
    "\n",
    "# Mapping of variable codes to their units\n",
    "variable_units = {\n",
    "    'tas': '°C',\n",
    "    'tasmin': '°C',\n",
    "    'tasmax': '°C',\n",
    "    'TNn': '°C',\n",
    "    'TXx': '°C',\n",
    "    'pr': '%',\n",
    "    'Rx1day': '%',\n",
    "    'Rx5day': '%',\n",
    "    'spi6': '%',\n",
    "    'sfcWind': '%',\n",
    "    'prsn': 'mm/day',\n",
    "    'cdd': 'Degree Days',\n",
    "    'hdd': 'Degree Days'\n",
    "}\n",
    "\n",
    "# Define scenarios and their corresponding colors for each dataset\n",
    "scenarios_and_colors = {\n",
    "    'CMIP6': {\n",
    "        'scenarios': ['ssp126', 'ssp245', 'ssp370', 'ssp585'],\n",
    "        'colors': {\n",
    "            'ssp126': '#402575',  # Deep blue\n",
    "            'ssp245': '#91ADD3',  # Light blue\n",
    "            'ssp370': '#F19D6F',  # Orange\n",
    "            'ssp585': '#E64139'   # Red\n",
    "        }\n",
    "    },\n",
    "    'CORDEX': {\n",
    "        'scenarios': ['rcp26', 'rcp45', 'rcp85'],\n",
    "        'colors': {\n",
    "            'rcp26': '#402575',  # Deep blue\n",
    "            'rcp45': '#91ADD3',  # Light blue\n",
    "            'rcp85': '#E64139'   # Red\n",
    "        }\n",
    "    }\n",
    "}\n",
    "\n",
    "# Define the available regions and variables\n",
    "regions = ['NEU', 'MED', 'WCE', 'EEU']\n",
    "variables = [(variable_full_names[var], var) for var in atmos_variables]\n",
    "time_filters = ['year', 'DecFeb', 'MarMay', 'JunAug', 'SepNov']\n",
    "timeframes = [2021, 2041, 2081]\n",
    "\n",
    "# Create the dropdowns for user interaction\n",
    "region_dropdown = widgets.Dropdown(\n",
    "    options=regions,\n",
    "    value='NEU',\n",
    "    description='Region:',\n",
    ")\n",
    "\n",
    "data_set_dropdown = widgets.Dropdown(\n",
    "    options=['CMIP6', 'CORDEX'],\n",
    "    value='CMIP6',\n",
    "    description='Dataset:',\n",
    ")\n",
    "\n",
    "variable_dropdown = widgets.Dropdown(\n",
    "    options=variables,\n",
    "    value='tas',\n",
    "    description='Variable:',\n",
    ")\n",
    "\n",
    "time_filter_dropdown = widgets.Dropdown(\n",
    "    options=time_filters,\n",
    "    value='year',\n",
    "    description='Time Filter:',\n",
    ")\n",
    "\n",
    "timeframe_dropdown = widgets.Dropdown(\n",
    "    options=timeframes,\n",
    "    value=2041,\n",
    "    description='Timeframe:',\n",
    ")\n",
    "\n",
    "# Flag to check if it's the first click\n",
    "first_click = True\n",
    "\n",
    "# Function to update the plot based on user selection\n",
    "def update_plot(region, dataset, variable, time_filter, timeframe):\n",
    "    global first_click\n",
    "    clear_output(wait=True)  # Clear previous output\n",
    "    ref_time = 'preIndustrial'\n",
    "    landmask = 'True'\n",
    "    variable_full_name = variable_full_names.get(variable, variable)\n",
    "    unit = variable_units.get(variable, 'days')\n",
    "\n",
    "    # Load the data\n",
    "    try:\n",
    "        data = pd.read_csv(\n",
    "            f'data/{region}/{region}_{dataset}_{ref_time}_landmask={landmask}.csv'\n",
    "        )\n",
    "    except FileNotFoundError:\n",
    "        print(\"Data file not found.\")\n",
    "        return\n",
    "\n",
    "    # Process the data\n",
    "    data = data.set_index(['variable', 'model', 'date', 'scenario', 'season'])\n",
    "    data = data.loc[(variable, slice(None), timeframe, slice(None), time_filter)]\n",
    "    data_restructured = data.reset_index()\n",
    "    data_restructured = data_restructured.set_index('model')\n",
    "    data_restructured = data_restructured.rename(columns={'scenario': 'ssp', 'value': 'impact'})\n",
    "\n",
    "    # Check if the data is empty\n",
    "    if data_restructured.empty:\n",
    "        # Create an empty figure with a message\n",
    "        fig = go.Figure()\n",
    "        fig.update_layout(\n",
    "            height=500,\n",
    "            margin=dict(l=20, r=20, t=50, b=50),\n",
    "            plot_bgcolor='white',\n",
    "            paper_bgcolor='white',\n",
    "            xaxis=dict(showgrid=False, zeroline=False, showticklabels=False),\n",
    "            yaxis=dict(showgrid=False, zeroline=False, showticklabels=False),\n",
    "            title=dict(\n",
    "                text=f'Projected changes {dataset} in {region} for {variable_full_name} during {time_filter} between {timeframe}-{int(timeframe) + 19}',\n",
    "                x=0.5,\n",
    "                xanchor='center'\n",
    "            )\n",
    "        )\n",
    "        fig.add_annotation(\n",
    "            text=\"Data set not available, try another one\",\n",
    "            x=0.5, y=0.5,\n",
    "            xref=\"paper\", yref=\"paper\",\n",
    "            showarrow=False,\n",
    "            font=dict(size=25, color=\"black\"),\n",
    "            align=\"center\",\n",
    "            valign=\"middle\",\n",
    "        )\n",
    "        fig.show()\n",
    "        return\n",
    "\n",
    "    # Get multi-model mean (mmm)\n",
    "    mmm = data_restructured.loc[data_restructured.index == 'mmm']\n",
    "\n",
    "    # Assign SSP impacts based on scenarios\n",
    "    data_restructured['ssp_impact'] = np.nan\n",
    "    scenarios = scenarios_and_colors[dataset]['scenarios']\n",
    "    colors = scenarios_and_colors[dataset]['colors']\n",
    "\n",
    "    for scenario in scenarios:\n",
    "        if scenario in mmm['ssp'].values:\n",
    "            mmm_value = mmm[mmm['ssp'] == scenario]['impact'].values[0]\n",
    "            data_restructured.loc[data_restructured['ssp'] == scenario, 'ssp_impact'] = mmm_value\n",
    "\n",
    "    # Prepare data for plotting\n",
    "    data_restructured.reset_index(inplace=True)\n",
    "    df = data_restructured[['impact', 'ssp', 'ssp_impact', 'model']]\n",
    "\n",
    "    # Determine x-axis range\n",
    "    x_min = df['impact'].min()\n",
    "    x_max = df['impact'].max()\n",
    "    range_extension = 0.05 * (x_max - x_min)\n",
    "    x_range = [x_min - range_extension, x_max + range_extension]\n",
    "\n",
    "    # Mapping of y-values to numerical positions\n",
    "    y_mapping = {'Model': 0, 'SSP': 1, 'SSP Extension': 2}\n",
    "\n",
    "    # Initialize figure\n",
    "    fig = go.Figure()\n",
    "\n",
    "    # Plot lines for each model and SSP\n",
    "    for _, entry in df.iterrows():\n",
    "        ssp = entry['ssp']\n",
    "        color = colors.get(ssp, 'black')\n",
    "        model_name = entry['model']\n",
    "\n",
    "        if model_name == 'mmm':\n",
    "            x_vals = [entry['ssp_impact'], entry['ssp_impact']]\n",
    "            y_vals = [y_mapping['SSP'], y_mapping['SSP Extension']]\n",
    "            fig.add_trace(\n",
    "                go.Scatter(\n",
    "                    x=x_vals,\n",
    "                    y=y_vals,\n",
    "                    mode='lines',\n",
    "                    line=dict(color=color, width=2),\n",
    "                    showlegend=False,\n",
    "                    hoverinfo='text',\n",
    "                    text=f\"Model: {model_name}<br>SSP: {ssp}<br>Impact: {entry['ssp_impact']:.2f} {unit}\"\n",
    "                )\n",
    "            )\n",
    "            continue\n",
    "\n",
    "        x_vals = [entry['impact'], entry['ssp_impact']]\n",
    "        y_vals = [y_mapping['Model'], y_mapping['SSP']]\n",
    "        fig.add_trace(\n",
    "            go.Scatter(\n",
    "                x=x_vals,\n",
    "                y=y_vals,\n",
    "                mode='lines',\n",
    "                line=dict(color=color, width=2),\n",
    "                showlegend=False,\n",
    "                hoverinfo='text',\n",
    "                text=f\"Model: {model_name}<br>SSP: {ssp}<br>Change: {entry['impact']:.2f} {unit}\"\n",
    "            )\n",
    "        )\n",
    "\n",
    "    # Set x-axis properties\n",
    "    xaxis_title = f'Change in {variable_full_name} [{unit}]'\n",
    "    fig.update_xaxes(\n",
    "        title_text=xaxis_title,\n",
    "        range=x_range,\n",
    "        tickmode='auto',\n",
    "        showgrid=False,\n",
    "        zeroline=False,\n",
    "        ticks='outside',\n",
    "        ticklen=3,\n",
    "        tickwidth=1,\n",
    "        tickcolor='black',\n",
    "        showline=True,\n",
    "        linecolor='black',\n",
    "        linewidth=1\n",
    "    )\n",
    "\n",
    "    if dataset == 'CMIP6':\n",
    "        scenario_mean = 'SSP'\n",
    "    else:\n",
    "        scenario_mean = 'RCP'\n",
    "    # Set y-axis properties\n",
    "    fig.update_yaxes(\n",
    "        tickmode='array',\n",
    "        tickvals=[y_mapping['Model'], y_mapping['SSP'], y_mapping['SSP Extension']],\n",
    "        ticktext=['Model', scenario_mean, ''],\n",
    "        showgrid=False,\n",
    "        zeroline=False\n",
    "    )\n",
    "\n",
    "    # Adjust layout properties\n",
    "    fig.update_layout(\n",
    "        height=500,\n",
    "        margin=dict(l=20, r=20, t=50, b=50),\n",
    "        plot_bgcolor='white',\n",
    "        paper_bgcolor='white',\n",
    "        title=dict(\n",
    "            text=f'Projected changes {dataset} in {region} for {variable_full_name} during {time_filter} between {timeframe}-{int(timeframe) + 19}',\n",
    "            x=0.5,\n",
    "            xanchor='center'\n",
    "        ),\n",
    "        legend=dict(\n",
    "            orientation=\"h\",\n",
    "            yanchor=\"top\",\n",
    "            y=1.05,\n",
    "            xanchor=\"center\",\n",
    "            x=0.5\n",
    "        )\n",
    "    )\n",
    "\n",
    "    # Add a manual legend for SSPs\n",
    "    for ssp, color in colors.items():\n",
    "        fig.add_trace(\n",
    "            go.Scatter(\n",
    "                x=[None],\n",
    "                y=[None],\n",
    "                mode='lines',\n",
    "                line=dict(color=color, width=4),\n",
    "                name=ssp\n",
    "            )\n",
    "        )\n",
    "\n",
    "    # Show the figure\n",
    "    if first_click == False:\n",
    "        fig.show()\n",
    "    else:\n",
    "        first_click = False\n",
    "\n",
    "# Create the interactive widget\n",
    "interact(\n",
    "    update_plot,\n",
    "    region=region_dropdown,\n",
    "    dataset=data_set_dropdown,\n",
    "    variable=variable_dropdown,\n",
    "    time_filter=time_filter_dropdown,\n",
    "    timeframe=timeframe_dropdown\n",
    ")"
   ]
  },
  {
   "cell_type": "markdown",
   "metadata": {},
   "source": []
  }
 ],
 "metadata": {
  "kernelspec": {
   "display_name": "Python 3",
   "language": "python",
   "name": "python3"
  },
  "language_info": {
   "codemirror_mode": {
    "name": "ipython",
    "version": 3
   },
   "file_extension": ".py",
   "mimetype": "text/x-python",
   "name": "python",
   "nbconvert_exporter": "python",
   "pygments_lexer": "ipython3",
   "version": "3.11.4"
  }
 },
 "nbformat": 4,
 "nbformat_minor": 2
}
