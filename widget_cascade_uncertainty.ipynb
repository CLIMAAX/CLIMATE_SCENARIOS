{
 "cells": [
  {
   "cell_type": "code",
   "execution_count": 1,
   "metadata": {},
   "outputs": [
    {
     "data": {
      "application/vnd.jupyter.widget-view+json": {
       "model_id": "f19dab7967f540659290b93ff1debd43",
       "version_major": 2,
       "version_minor": 0
      },
      "text/plain": [
       "interactive(children=(Dropdown(description='Region:', options=('NEU', 'MED', 'WCE', 'EEU'), value='NEU'), Drop…"
      ]
     },
     "metadata": {},
     "output_type": "display_data"
    },
    {
     "data": {
      "application/vnd.plotly.v1+json": {
       "config": {
        "plotlyServerURL": "https://plot.ly"
       },
       "data": [
        {
         "hoverinfo": "text",
         "line": {
          "color": "#402575",
          "width": 2
         },
         "mode": "lines",
         "showlegend": false,
         "text": "Model: UKESM1-0-LL_r1i1p1f2<br>SSP: ssp126<br>Change: 4.26 %",
         "type": "scatter",
         "x": [
          4.255771759000001,
          3.3045708305
         ],
         "y": [
          0,
          1
         ]
        },
        {
         "hoverinfo": "text",
         "line": {
          "color": "#91ADD3",
          "width": 2
         },
         "mode": "lines",
         "showlegend": false,
         "text": "Model: UKESM1-0-LL_r1i1p1f2<br>SSP: ssp245<br>Change: -3.17 %",
         "type": "scatter",
         "x": [
          -3.1713841425,
          2.3995920275
         ],
         "y": [
          0,
          1
         ]
        },
        {
         "hoverinfo": "text",
         "line": {
          "color": "#F19D6F",
          "width": 2
         },
         "mode": "lines",
         "showlegend": false,
         "text": "Model: UKESM1-0-LL_r1i1p1f2<br>SSP: ssp370<br>Change: -4.28 %",
         "type": "scatter",
         "x": [
          -4.283096189849999,
          2.7674393525
         ],
         "y": [
          0,
          1
         ]
        },
        {
         "hoverinfo": "text",
         "line": {
          "color": "#E64139",
          "width": 2
         },
         "mode": "lines",
         "showlegend": false,
         "text": "Model: UKESM1-0-LL_r1i1p1f2<br>SSP: ssp585<br>Change: -10.14 %",
         "type": "scatter",
         "x": [
          -10.141246755,
          1.3235387829999998
         ],
         "y": [
          0,
          1
         ]
        },
        {
         "hoverinfo": "text",
         "line": {
          "color": "#402575",
          "width": 2
         },
         "mode": "lines",
         "showlegend": false,
         "text": "Model: CNRM-ESM2-1_r1i1p1f2<br>SSP: ssp126<br>Change: 6.93 %",
         "type": "scatter",
         "x": [
          6.9272801300000015,
          3.3045708305
         ],
         "y": [
          0,
          1
         ]
        },
        {
         "hoverinfo": "text",
         "line": {
          "color": "#91ADD3",
          "width": 2
         },
         "mode": "lines",
         "showlegend": false,
         "text": "Model: CNRM-ESM2-1_r1i1p1f2<br>SSP: ssp245<br>Change: 8.08 %",
         "type": "scatter",
         "x": [
          8.084039834999999,
          2.3995920275
         ],
         "y": [
          0,
          1
         ]
        },
        {
         "hoverinfo": "text",
         "line": {
          "color": "#F19D6F",
          "width": 2
         },
         "mode": "lines",
         "showlegend": false,
         "text": "Model: CNRM-ESM2-1_r1i1p1f2<br>SSP: ssp370<br>Change: 8.42 %",
         "type": "scatter",
         "x": [
          8.419398304999998,
          2.7674393525
         ],
         "y": [
          0,
          1
         ]
        },
        {
         "hoverinfo": "text",
         "line": {
          "color": "#E64139",
          "width": 2
         },
         "mode": "lines",
         "showlegend": false,
         "text": "Model: CNRM-ESM2-1_r1i1p1f2<br>SSP: ssp585<br>Change: 5.69 %",
         "type": "scatter",
         "x": [
          5.690085830000001,
          1.3235387829999998
         ],
         "y": [
          0,
          1
         ]
        },
        {
         "hoverinfo": "text",
         "line": {
          "color": "#402575",
          "width": 2
         },
         "mode": "lines",
         "showlegend": false,
         "text": "Model: FGOALS-g3_r1i1p1f1<br>SSP: ssp126<br>Change: 3.36 %",
         "type": "scatter",
         "x": [
          3.356260325,
          3.3045708305
         ],
         "y": [
          0,
          1
         ]
        },
        {
         "hoverinfo": "text",
         "line": {
          "color": "#91ADD3",
          "width": 2
         },
         "mode": "lines",
         "showlegend": false,
         "text": "Model: FGOALS-g3_r1i1p1f1<br>SSP: ssp245<br>Change: 9.60 %",
         "type": "scatter",
         "x": [
          9.600650235,
          2.3995920275
         ],
         "y": [
          0,
          1
         ]
        },
        {
         "hoverinfo": "text",
         "line": {
          "color": "#F19D6F",
          "width": 2
         },
         "mode": "lines",
         "showlegend": false,
         "text": "Model: FGOALS-g3_r1i1p1f1<br>SSP: ssp370<br>Change: 9.50 %",
         "type": "scatter",
         "x": [
          9.502210109999998,
          2.7674393525
         ],
         "y": [
          0,
          1
         ]
        },
        {
         "hoverinfo": "text",
         "line": {
          "color": "#E64139",
          "width": 2
         },
         "mode": "lines",
         "showlegend": false,
         "text": "Model: FGOALS-g3_r1i1p1f1<br>SSP: ssp585<br>Change: -0.96 %",
         "type": "scatter",
         "x": [
          -0.9608883034999998,
          1.3235387829999998
         ],
         "y": [
          0,
          1
         ]
        },
        {
         "hoverinfo": "text",
         "line": {
          "color": "#402575",
          "width": 2
         },
         "mode": "lines",
         "showlegend": false,
         "text": "Model: INM-CM4-8_r1i1p1f1<br>SSP: ssp126<br>Change: 3.00 %",
         "type": "scatter",
         "x": [
          3.003680008499999,
          3.3045708305
         ],
         "y": [
          0,
          1
         ]
        },
        {
         "hoverinfo": "text",
         "line": {
          "color": "#91ADD3",
          "width": 2
         },
         "mode": "lines",
         "showlegend": false,
         "text": "Model: INM-CM4-8_r1i1p1f1<br>SSP: ssp245<br>Change: 0.05 %",
         "type": "scatter",
         "x": [
          0.04714581,
          2.3995920275
         ],
         "y": [
          0,
          1
         ]
        },
        {
         "hoverinfo": "text",
         "line": {
          "color": "#F19D6F",
          "width": 2
         },
         "mode": "lines",
         "showlegend": false,
         "text": "Model: INM-CM4-8_r1i1p1f1<br>SSP: ssp370<br>Change: 3.28 %",
         "type": "scatter",
         "x": [
          3.28409567,
          2.7674393525
         ],
         "y": [
          0,
          1
         ]
        },
        {
         "hoverinfo": "text",
         "line": {
          "color": "#E64139",
          "width": 2
         },
         "mode": "lines",
         "showlegend": false,
         "text": "Model: INM-CM4-8_r1i1p1f1<br>SSP: ssp585<br>Change: 6.91 %",
         "type": "scatter",
         "x": [
          6.913282539999997,
          1.3235387829999998
         ],
         "y": [
          0,
          1
         ]
        },
        {
         "hoverinfo": "text",
         "line": {
          "color": "#402575",
          "width": 2
         },
         "mode": "lines",
         "showlegend": false,
         "text": "Model: MIROC6_r1i1p1f1<br>SSP: ssp126<br>Change: 3.68 %",
         "type": "scatter",
         "x": [
          3.678517880000002,
          3.3045708305
         ],
         "y": [
          0,
          1
         ]
        },
        {
         "hoverinfo": "text",
         "line": {
          "color": "#91ADD3",
          "width": 2
         },
         "mode": "lines",
         "showlegend": false,
         "text": "Model: MIROC6_r1i1p1f1<br>SSP: ssp245<br>Change: 7.97 %",
         "type": "scatter",
         "x": [
          7.9662388915,
          2.3995920275
         ],
         "y": [
          0,
          1
         ]
        },
        {
         "hoverinfo": "text",
         "line": {
          "color": "#F19D6F",
          "width": 2
         },
         "mode": "lines",
         "showlegend": false,
         "text": "Model: MIROC6_r1i1p1f1<br>SSP: ssp370<br>Change: 6.02 %",
         "type": "scatter",
         "x": [
          6.017498455,
          2.7674393525
         ],
         "y": [
          0,
          1
         ]
        },
        {
         "hoverinfo": "text",
         "line": {
          "color": "#E64139",
          "width": 2
         },
         "mode": "lines",
         "showlegend": false,
         "text": "Model: MIROC6_r1i1p1f1<br>SSP: ssp585<br>Change: 11.04 %",
         "type": "scatter",
         "x": [
          11.037848605,
          1.3235387829999998
         ],
         "y": [
          0,
          1
         ]
        },
        {
         "hoverinfo": "text",
         "line": {
          "color": "#402575",
          "width": 2
         },
         "mode": "lines",
         "showlegend": false,
         "text": "Model: mmm<br>SSP: ssp126<br>Impact: 3.30 %",
         "type": "scatter",
         "x": [
          3.3045708305,
          3.3045708305
         ],
         "y": [
          1,
          2
         ]
        },
        {
         "hoverinfo": "text",
         "line": {
          "color": "#91ADD3",
          "width": 2
         },
         "mode": "lines",
         "showlegend": false,
         "text": "Model: mmm<br>SSP: ssp245<br>Impact: 2.40 %",
         "type": "scatter",
         "x": [
          2.3995920275,
          2.3995920275
         ],
         "y": [
          1,
          2
         ]
        },
        {
         "hoverinfo": "text",
         "line": {
          "color": "#F19D6F",
          "width": 2
         },
         "mode": "lines",
         "showlegend": false,
         "text": "Model: mmm<br>SSP: ssp370<br>Impact: 2.77 %",
         "type": "scatter",
         "x": [
          2.7674393525,
          2.7674393525
         ],
         "y": [
          1,
          2
         ]
        },
        {
         "hoverinfo": "text",
         "line": {
          "color": "#E64139",
          "width": 2
         },
         "mode": "lines",
         "showlegend": false,
         "text": "Model: mmm<br>SSP: ssp585<br>Impact: 1.32 %",
         "type": "scatter",
         "x": [
          1.3235387829999998,
          1.3235387829999998
         ],
         "y": [
          1,
          2
         ]
        },
        {
         "hoverinfo": "text",
         "line": {
          "color": "#402575",
          "width": 2
         },
         "mode": "lines",
         "showlegend": false,
         "text": "Model: CNRM-CM6-1_r1i1p1f2<br>SSP: ssp126<br>Change: 7.66 %",
         "type": "scatter",
         "x": [
          7.662978170000001,
          3.3045708305
         ],
         "y": [
          0,
          1
         ]
        },
        {
         "hoverinfo": "text",
         "line": {
          "color": "#91ADD3",
          "width": 2
         },
         "mode": "lines",
         "showlegend": false,
         "text": "Model: CNRM-CM6-1_r1i1p1f2<br>SSP: ssp245<br>Change: 7.64 %",
         "type": "scatter",
         "x": [
          7.643919446500003,
          2.3995920275
         ],
         "y": [
          0,
          1
         ]
        },
        {
         "hoverinfo": "text",
         "line": {
          "color": "#F19D6F",
          "width": 2
         },
         "mode": "lines",
         "showlegend": false,
         "text": "Model: CNRM-CM6-1_r1i1p1f2<br>SSP: ssp370<br>Change: 5.17 %",
         "type": "scatter",
         "x": [
          5.165758030999999,
          2.7674393525
         ],
         "y": [
          0,
          1
         ]
        },
        {
         "hoverinfo": "text",
         "line": {
          "color": "#E64139",
          "width": 2
         },
         "mode": "lines",
         "showlegend": false,
         "text": "Model: CNRM-CM6-1_r1i1p1f2<br>SSP: ssp585<br>Change: 1.15 %",
         "type": "scatter",
         "x": [
          1.1487374711499998,
          1.3235387829999998
         ],
         "y": [
          0,
          1
         ]
        },
        {
         "hoverinfo": "text",
         "line": {
          "color": "#402575",
          "width": 2
         },
         "mode": "lines",
         "showlegend": false,
         "text": "Model: MRI-ESM2-0_r1i1p1f1<br>SSP: ssp126<br>Change: 1.52 %",
         "type": "scatter",
         "x": [
          1.5166303410000004,
          3.3045708305
         ],
         "y": [
          0,
          1
         ]
        },
        {
         "hoverinfo": "text",
         "line": {
          "color": "#91ADD3",
          "width": 2
         },
         "mode": "lines",
         "showlegend": false,
         "text": "Model: MRI-ESM2-0_r1i1p1f1<br>SSP: ssp245<br>Change: -4.40 %",
         "type": "scatter",
         "x": [
          -4.39533011,
          2.3995920275
         ],
         "y": [
          0,
          1
         ]
        },
        {
         "hoverinfo": "text",
         "line": {
          "color": "#F19D6F",
          "width": 2
         },
         "mode": "lines",
         "showlegend": false,
         "text": "Model: MRI-ESM2-0_r1i1p1f1<br>SSP: ssp370<br>Change: 1.24 %",
         "type": "scatter",
         "x": [
          1.2370717499999997,
          2.7674393525
         ],
         "y": [
          0,
          1
         ]
        },
        {
         "hoverinfo": "text",
         "line": {
          "color": "#E64139",
          "width": 2
         },
         "mode": "lines",
         "showlegend": false,
         "text": "Model: MRI-ESM2-0_r1i1p1f1<br>SSP: ssp585<br>Change: 9.80 %",
         "type": "scatter",
         "x": [
          9.795478909999998,
          1.3235387829999998
         ],
         "y": [
          0,
          1
         ]
        },
        {
         "hoverinfo": "text",
         "line": {
          "color": "#402575",
          "width": 2
         },
         "mode": "lines",
         "showlegend": false,
         "text": "Model: BCC-CSM2-MR_r1i1p1f1<br>SSP: ssp126<br>Change: 0.15 %",
         "type": "scatter",
         "x": [
          0.1490422250000002,
          3.3045708305
         ],
         "y": [
          0,
          1
         ]
        },
        {
         "hoverinfo": "text",
         "line": {
          "color": "#91ADD3",
          "width": 2
         },
         "mode": "lines",
         "showlegend": false,
         "text": "Model: BCC-CSM2-MR_r1i1p1f1<br>SSP: ssp245<br>Change: -1.09 %",
         "type": "scatter",
         "x": [
          -1.089807903,
          2.3995920275
         ],
         "y": [
          0,
          1
         ]
        },
        {
         "hoverinfo": "text",
         "line": {
          "color": "#F19D6F",
          "width": 2
         },
         "mode": "lines",
         "showlegend": false,
         "text": "Model: BCC-CSM2-MR_r1i1p1f1<br>SSP: ssp370<br>Change: 3.65 %",
         "type": "scatter",
         "x": [
          3.648485364999999,
          2.7674393525
         ],
         "y": [
          0,
          1
         ]
        },
        {
         "hoverinfo": "text",
         "line": {
          "color": "#E64139",
          "width": 2
         },
         "mode": "lines",
         "showlegend": false,
         "text": "Model: BCC-CSM2-MR_r1i1p1f1<br>SSP: ssp585<br>Change: -2.21 %",
         "type": "scatter",
         "x": [
          -2.205266705,
          1.3235387829999998
         ],
         "y": [
          0,
          1
         ]
        },
        {
         "hoverinfo": "text",
         "line": {
          "color": "#402575",
          "width": 2
         },
         "mode": "lines",
         "showlegend": false,
         "text": "Model: MPI-ESM1-2-LR_r1i1p1f1<br>SSP: ssp126<br>Change: -3.81 %",
         "type": "scatter",
         "x": [
          -3.808398505,
          3.3045708305
         ],
         "y": [
          0,
          1
         ]
        },
        {
         "hoverinfo": "text",
         "line": {
          "color": "#91ADD3",
          "width": 2
         },
         "mode": "lines",
         "showlegend": false,
         "text": "Model: MPI-ESM1-2-LR_r1i1p1f1<br>SSP: ssp245<br>Change: -6.72 %",
         "type": "scatter",
         "x": [
          -6.715958768999999,
          2.3995920275
         ],
         "y": [
          0,
          1
         ]
        },
        {
         "hoverinfo": "text",
         "line": {
          "color": "#F19D6F",
          "width": 2
         },
         "mode": "lines",
         "showlegend": false,
         "text": "Model: MPI-ESM1-2-LR_r1i1p1f1<br>SSP: ssp370<br>Change: 6.11 %",
         "type": "scatter",
         "x": [
          6.107615912499999,
          2.7674393525
         ],
         "y": [
          0,
          1
         ]
        },
        {
         "hoverinfo": "text",
         "line": {
          "color": "#E64139",
          "width": 2
         },
         "mode": "lines",
         "showlegend": false,
         "text": "Model: MPI-ESM1-2-LR_r1i1p1f1<br>SSP: ssp585<br>Change: -8.30 %",
         "type": "scatter",
         "x": [
          -8.29863205,
          1.3235387829999998
         ],
         "y": [
          0,
          1
         ]
        },
        {
         "hoverinfo": "text",
         "line": {
          "color": "#402575",
          "width": 2
         },
         "mode": "lines",
         "showlegend": false,
         "text": "Model: CESM2-WACCM_r1i1p1f1<br>SSP: ssp126<br>Change: 0.33 %",
         "type": "scatter",
         "x": [
          0.3317700640000002,
          3.3045708305
         ],
         "y": [
          0,
          1
         ]
        },
        {
         "hoverinfo": "text",
         "line": {
          "color": "#91ADD3",
          "width": 2
         },
         "mode": "lines",
         "showlegend": false,
         "text": "Model: CESM2-WACCM_r1i1p1f1<br>SSP: ssp245<br>Change: 6.69 %",
         "type": "scatter",
         "x": [
          6.685527465000002,
          2.3995920275
         ],
         "y": [
          0,
          1
         ]
        },
        {
         "hoverinfo": "text",
         "line": {
          "color": "#F19D6F",
          "width": 2
         },
         "mode": "lines",
         "showlegend": false,
         "text": "Model: CESM2-WACCM_r1i1p1f1<br>SSP: ssp370<br>Change: 4.34 %",
         "type": "scatter",
         "x": [
          4.3441293565,
          2.7674393525
         ],
         "y": [
          0,
          1
         ]
        },
        {
         "hoverinfo": "text",
         "line": {
          "color": "#E64139",
          "width": 2
         },
         "mode": "lines",
         "showlegend": false,
         "text": "Model: CESM2-WACCM_r1i1p1f1<br>SSP: ssp585<br>Change: 5.74 %",
         "type": "scatter",
         "x": [
          5.7393446075,
          1.3235387829999998
         ],
         "y": [
          0,
          1
         ]
        },
        {
         "hoverinfo": "text",
         "line": {
          "color": "#402575",
          "width": 2
         },
         "mode": "lines",
         "showlegend": false,
         "text": "Model: INM-CM5-0_r1i1p1f1<br>SSP: ssp126<br>Change: 12.68 %",
         "type": "scatter",
         "x": [
          12.6763412275,
          3.3045708305
         ],
         "y": [
          0,
          1
         ]
        },
        {
         "hoverinfo": "text",
         "line": {
          "color": "#91ADD3",
          "width": 2
         },
         "mode": "lines",
         "showlegend": false,
         "text": "Model: INM-CM5-0_r1i1p1f1<br>SSP: ssp245<br>Change: 6.26 %",
         "type": "scatter",
         "x": [
          6.264371165999999,
          2.3995920275
         ],
         "y": [
          0,
          1
         ]
        },
        {
         "hoverinfo": "text",
         "line": {
          "color": "#F19D6F",
          "width": 2
         },
         "mode": "lines",
         "showlegend": false,
         "text": "Model: INM-CM5-0_r1i1p1f1<br>SSP: ssp370<br>Change: 14.93 %",
         "type": "scatter",
         "x": [
          14.929927942,
          2.7674393525
         ],
         "y": [
          0,
          1
         ]
        },
        {
         "hoverinfo": "text",
         "line": {
          "color": "#E64139",
          "width": 2
         },
         "mode": "lines",
         "showlegend": false,
         "text": "Model: INM-CM5-0_r1i1p1f1<br>SSP: ssp585<br>Change: 6.56 %",
         "type": "scatter",
         "x": [
          6.5592845866000005,
          1.3235387829999998
         ],
         "y": [
          0,
          1
         ]
        },
        {
         "hoverinfo": "text",
         "line": {
          "color": "#402575",
          "width": 2
         },
         "mode": "lines",
         "showlegend": false,
         "text": "Model: CMCC-CM2-SR5_r1i1p1f1<br>SSP: ssp126<br>Change: -0.84 %",
         "type": "scatter",
         "x": [
          -0.8437758610000005,
          3.3045708305
         ],
         "y": [
          0,
          1
         ]
        },
        {
         "hoverinfo": "text",
         "line": {
          "color": "#91ADD3",
          "width": 2
         },
         "mode": "lines",
         "showlegend": false,
         "text": "Model: CMCC-CM2-SR5_r1i1p1f1<br>SSP: ssp245<br>Change: -3.09 %",
         "type": "scatter",
         "x": [
          -3.0930633985,
          2.3995920275
         ],
         "y": [
          0,
          1
         ]
        },
        {
         "hoverinfo": "text",
         "line": {
          "color": "#F19D6F",
          "width": 2
         },
         "mode": "lines",
         "showlegend": false,
         "text": "Model: CMCC-CM2-SR5_r1i1p1f1<br>SSP: ssp370<br>Change: -3.18 %",
         "type": "scatter",
         "x": [
          -3.177293385,
          2.7674393525
         ],
         "y": [
          0,
          1
         ]
        },
        {
         "hoverinfo": "text",
         "line": {
          "color": "#E64139",
          "width": 2
         },
         "mode": "lines",
         "showlegend": false,
         "text": "Model: CMCC-CM2-SR5_r1i1p1f1<br>SSP: ssp585<br>Change: -3.97 %",
         "type": "scatter",
         "x": [
          -3.9725081,
          1.3235387829999998
         ],
         "y": [
          0,
          1
         ]
        },
        {
         "hoverinfo": "text",
         "line": {
          "color": "#402575",
          "width": 2
         },
         "mode": "lines",
         "showlegend": false,
         "text": "Model: NorESM2-LM_r1i1p1f1<br>SSP: ssp126<br>Change: -7.02 %",
         "type": "scatter",
         "x": [
          -7.022402588,
          3.3045708305
         ],
         "y": [
          0,
          1
         ]
        },
        {
         "hoverinfo": "text",
         "line": {
          "color": "#91ADD3",
          "width": 2
         },
         "mode": "lines",
         "showlegend": false,
         "text": "Model: NorESM2-LM_r1i1p1f1<br>SSP: ssp245<br>Change: -4.61 %",
         "type": "scatter",
         "x": [
          -4.6084109305,
          2.3995920275
         ],
         "y": [
          0,
          1
         ]
        },
        {
         "hoverinfo": "text",
         "line": {
          "color": "#F19D6F",
          "width": 2
         },
         "mode": "lines",
         "showlegend": false,
         "text": "Model: NorESM2-LM_r1i1p1f1<br>SSP: ssp370<br>Change: -0.82 %",
         "type": "scatter",
         "x": [
          -0.8242035700000001,
          2.7674393525
         ],
         "y": [
          0,
          1
         ]
        },
        {
         "hoverinfo": "text",
         "line": {
          "color": "#E64139",
          "width": 2
         },
         "mode": "lines",
         "showlegend": false,
         "text": "Model: NorESM2-LM_r1i1p1f1<br>SSP: ssp585<br>Change: -5.03 %",
         "type": "scatter",
         "x": [
          -5.030543901500001,
          1.3235387829999998
         ],
         "y": [
          0,
          1
         ]
        },
        {
         "hoverinfo": "text",
         "line": {
          "color": "#402575",
          "width": 2
         },
         "mode": "lines",
         "showlegend": false,
         "text": "Model: CNRM-CM6-1-HR_r1i1p1f2<br>SSP: ssp126<br>Change: 3.00 %",
         "type": "scatter",
         "x": [
          2.999790265,
          3.3045708305
         ],
         "y": [
          0,
          1
         ]
        },
        {
         "hoverinfo": "text",
         "line": {
          "color": "#E64139",
          "width": 2
         },
         "mode": "lines",
         "showlegend": false,
         "text": "Model: CNRM-CM6-1-HR_r1i1p1f2<br>SSP: ssp585<br>Change: 6.40 %",
         "type": "scatter",
         "x": [
          6.402850290499998,
          1.3235387829999998
         ],
         "y": [
          0,
          1
         ]
        },
        {
         "hoverinfo": "text",
         "line": {
          "color": "#402575",
          "width": 2
         },
         "mode": "lines",
         "showlegend": false,
         "text": "Model: MPI-ESM1-2-HR_r1i1p1f1<br>SSP: ssp126<br>Change: -3.52 %",
         "type": "scatter",
         "x": [
          -3.5190647200000003,
          3.3045708305
         ],
         "y": [
          0,
          1
         ]
        },
        {
         "hoverinfo": "text",
         "line": {
          "color": "#91ADD3",
          "width": 2
         },
         "mode": "lines",
         "showlegend": false,
         "text": "Model: MPI-ESM1-2-HR_r1i1p1f1<br>SSP: ssp245<br>Change: 0.85 %",
         "type": "scatter",
         "x": [
          0.8474880499999999,
          2.3995920275
         ],
         "y": [
          0,
          1
         ]
        },
        {
         "hoverinfo": "text",
         "line": {
          "color": "#F19D6F",
          "width": 2
         },
         "mode": "lines",
         "showlegend": false,
         "text": "Model: MPI-ESM1-2-HR_r1i1p1f1<br>SSP: ssp370<br>Change: 2.78 %",
         "type": "scatter",
         "x": [
          2.77846794,
          2.7674393525
         ],
         "y": [
          0,
          1
         ]
        },
        {
         "hoverinfo": "text",
         "line": {
          "color": "#E64139",
          "width": 2
         },
         "mode": "lines",
         "showlegend": false,
         "text": "Model: MPI-ESM1-2-HR_r1i1p1f1<br>SSP: ssp585<br>Change: -0.68 %",
         "type": "scatter",
         "x": [
          -0.6792351430000003,
          1.3235387829999998
         ],
         "y": [
          0,
          1
         ]
        },
        {
         "hoverinfo": "text",
         "line": {
          "color": "#402575",
          "width": 2
         },
         "mode": "lines",
         "showlegend": false,
         "text": "Model: GFDL-ESM4_r1i1p1f1<br>SSP: ssp126<br>Change: 5.31 %",
         "type": "scatter",
         "x": [
          5.31432852,
          3.3045708305
         ],
         "y": [
          0,
          1
         ]
        },
        {
         "hoverinfo": "text",
         "line": {
          "color": "#91ADD3",
          "width": 2
         },
         "mode": "lines",
         "showlegend": false,
         "text": "Model: GFDL-ESM4_r1i1p1f1<br>SSP: ssp245<br>Change: 6.72 %",
         "type": "scatter",
         "x": [
          6.715287839999999,
          2.3995920275
         ],
         "y": [
          0,
          1
         ]
        },
        {
         "hoverinfo": "text",
         "line": {
          "color": "#F19D6F",
          "width": 2
         },
         "mode": "lines",
         "showlegend": false,
         "text": "Model: GFDL-ESM4_r1i1p1f1<br>SSP: ssp370<br>Change: -0.46 %",
         "type": "scatter",
         "x": [
          -0.4621925374999999,
          2.7674393525
         ],
         "y": [
          0,
          1
         ]
        },
        {
         "hoverinfo": "text",
         "line": {
          "color": "#E64139",
          "width": 2
         },
         "mode": "lines",
         "showlegend": false,
         "text": "Model: GFDL-ESM4_r1i1p1f1<br>SSP: ssp585<br>Change: 3.19 %",
         "type": "scatter",
         "x": [
          3.1850379769,
          1.3235387829999998
         ],
         "y": [
          0,
          1
         ]
        },
        {
         "hoverinfo": "text",
         "line": {
          "color": "#402575",
          "width": 2
         },
         "mode": "lines",
         "showlegend": false,
         "text": "Model: KACE-1-0-G_r2i1p1f1<br>SSP: ssp126<br>Change: -1.00 %",
         "type": "scatter",
         "x": [
          -0.9973828499999996,
          3.3045708305
         ],
         "y": [
          0,
          1
         ]
        },
        {
         "hoverinfo": "text",
         "line": {
          "color": "#91ADD3",
          "width": 2
         },
         "mode": "lines",
         "showlegend": false,
         "text": "Model: KACE-1-0-G_r2i1p1f1<br>SSP: ssp245<br>Change: -5.67 %",
         "type": "scatter",
         "x": [
          -5.673490524999999,
          2.3995920275
         ],
         "y": [
          0,
          1
         ]
        },
        {
         "hoverinfo": "text",
         "line": {
          "color": "#F19D6F",
          "width": 2
         },
         "mode": "lines",
         "showlegend": false,
         "text": "Model: KACE-1-0-G_r2i1p1f1<br>SSP: ssp370<br>Change: -4.36 %",
         "type": "scatter",
         "x": [
          -4.357052016999997,
          2.7674393525
         ],
         "y": [
          0,
          1
         ]
        },
        {
         "hoverinfo": "text",
         "line": {
          "color": "#E64139",
          "width": 2
         },
         "mode": "lines",
         "showlegend": false,
         "text": "Model: KACE-1-0-G_r2i1p1f1<br>SSP: ssp585<br>Change: -6.26 %",
         "type": "scatter",
         "x": [
          -6.258560061499999,
          1.3235387829999998
         ],
         "y": [
          0,
          1
         ]
        },
        {
         "hoverinfo": "text",
         "line": {
          "color": "#402575",
          "width": 2
         },
         "mode": "lines",
         "showlegend": false,
         "text": "Model: IPSL-CM6A-LR_r1i1p1f1<br>SSP: ssp126<br>Change: 0.78 %",
         "type": "scatter",
         "x": [
          0.7754225450000003,
          3.3045708305
         ],
         "y": [
          0,
          1
         ]
        },
        {
         "hoverinfo": "text",
         "line": {
          "color": "#91ADD3",
          "width": 2
         },
         "mode": "lines",
         "showlegend": false,
         "text": "Model: IPSL-CM6A-LR_r1i1p1f1<br>SSP: ssp245<br>Change: 0.32 %",
         "type": "scatter",
         "x": [
          0.3150504249999997,
          2.3995920275
         ],
         "y": [
          0,
          1
         ]
        },
        {
         "hoverinfo": "text",
         "line": {
          "color": "#F19D6F",
          "width": 2
         },
         "mode": "lines",
         "showlegend": false,
         "text": "Model: IPSL-CM6A-LR_r1i1p1f1<br>SSP: ssp370<br>Change: -0.20 %",
         "type": "scatter",
         "x": [
          -0.1984566350000002,
          2.7674393525
         ],
         "y": [
          0,
          1
         ]
        },
        {
         "hoverinfo": "text",
         "line": {
          "color": "#E64139",
          "width": 2
         },
         "mode": "lines",
         "showlegend": false,
         "text": "Model: IPSL-CM6A-LR_r1i1p1f1<br>SSP: ssp585<br>Change: 3.32 %",
         "type": "scatter",
         "x": [
          3.32151792,
          1.3235387829999998
         ],
         "y": [
          0,
          1
         ]
        },
        {
         "hoverinfo": "text",
         "line": {
          "color": "#402575",
          "width": 2
         },
         "mode": "lines",
         "showlegend": false,
         "text": "Model: MIROC-ES2L_r1i1p1f2<br>SSP: ssp126<br>Change: 13.41 %",
         "type": "scatter",
         "x": [
          13.41390698015,
          3.3045708305
         ],
         "y": [
          0,
          1
         ]
        },
        {
         "hoverinfo": "text",
         "line": {
          "color": "#91ADD3",
          "width": 2
         },
         "mode": "lines",
         "showlegend": false,
         "text": "Model: MIROC-ES2L_r1i1p1f2<br>SSP: ssp245<br>Change: 9.72 %",
         "type": "scatter",
         "x": [
          9.72297529,
          2.3995920275
         ],
         "y": [
          0,
          1
         ]
        },
        {
         "hoverinfo": "text",
         "line": {
          "color": "#F19D6F",
          "width": 2
         },
         "mode": "lines",
         "showlegend": false,
         "text": "Model: MIROC-ES2L_r1i1p1f2<br>SSP: ssp370<br>Change: 12.59 %",
         "type": "scatter",
         "x": [
          12.585386895850002,
          2.7674393525
         ],
         "y": [
          0,
          1
         ]
        },
        {
         "hoverinfo": "text",
         "line": {
          "color": "#E64139",
          "width": 2
         },
         "mode": "lines",
         "showlegend": false,
         "text": "Model: MIROC-ES2L_r1i1p1f2<br>SSP: ssp585<br>Change: 5.61 %",
         "type": "scatter",
         "x": [
          5.606008676499999,
          1.3235387829999998
         ],
         "y": [
          0,
          1
         ]
        },
        {
         "hoverinfo": "text",
         "line": {
          "color": "#402575",
          "width": 2
         },
         "mode": "lines",
         "showlegend": false,
         "text": "Model: ACCESS-CM2_r1i1p1f1<br>SSP: ssp126<br>Change: 4.41 %",
         "type": "scatter",
         "x": [
          4.414018035,
          3.3045708305
         ],
         "y": [
          0,
          1
         ]
        },
        {
         "hoverinfo": "text",
         "line": {
          "color": "#91ADD3",
          "width": 2
         },
         "mode": "lines",
         "showlegend": false,
         "text": "Model: ACCESS-CM2_r1i1p1f1<br>SSP: ssp245<br>Change: 1.77 %",
         "type": "scatter",
         "x": [
          1.7722506900000004,
          2.3995920275
         ],
         "y": [
          0,
          1
         ]
        },
        {
         "hoverinfo": "text",
         "line": {
          "color": "#F19D6F",
          "width": 2
         },
         "mode": "lines",
         "showlegend": false,
         "text": "Model: ACCESS-CM2_r1i1p1f1<br>SSP: ssp370<br>Change: -5.55 %",
         "type": "scatter",
         "x": [
          -5.551419495000003,
          2.7674393525
         ],
         "y": [
          0,
          1
         ]
        },
        {
         "hoverinfo": "text",
         "line": {
          "color": "#E64139",
          "width": 2
         },
         "mode": "lines",
         "showlegend": false,
         "text": "Model: ACCESS-CM2_r1i1p1f1<br>SSP: ssp585<br>Change: -6.54 %",
         "type": "scatter",
         "x": [
          -6.538800656000001,
          1.3235387829999998
         ],
         "y": [
          0,
          1
         ]
        },
        {
         "hoverinfo": "text",
         "line": {
          "color": "#402575",
          "width": 2
         },
         "mode": "lines",
         "showlegend": false,
         "text": "Model: CAMS-CSM1-0_r2i1p1f1<br>SSP: ssp126<br>Change: 2.52 %",
         "type": "scatter",
         "x": [
          2.5227956,
          3.3045708305
         ],
         "y": [
          0,
          1
         ]
        },
        {
         "hoverinfo": "text",
         "line": {
          "color": "#91ADD3",
          "width": 2
         },
         "mode": "lines",
         "showlegend": false,
         "text": "Model: CAMS-CSM1-0_r2i1p1f1<br>SSP: ssp245<br>Change: 1.01 %",
         "type": "scatter",
         "x": [
          1.0136178340000008,
          2.3995920275
         ],
         "y": [
          0,
          1
         ]
        },
        {
         "hoverinfo": "text",
         "line": {
          "color": "#F19D6F",
          "width": 2
         },
         "mode": "lines",
         "showlegend": false,
         "text": "Model: CAMS-CSM1-0_r2i1p1f1<br>SSP: ssp370<br>Change: 4.54 %",
         "type": "scatter",
         "x": [
          4.536528819350001,
          2.7674393525
         ],
         "y": [
          0,
          1
         ]
        },
        {
         "hoverinfo": "text",
         "line": {
          "color": "#E64139",
          "width": 2
         },
         "mode": "lines",
         "showlegend": false,
         "text": "Model: CAMS-CSM1-0_r2i1p1f1<br>SSP: ssp585<br>Change: 5.18 %",
         "type": "scatter",
         "x": [
          5.181455355000001,
          1.3235387829999998
         ],
         "y": [
          0,
          1
         ]
        },
        {
         "hoverinfo": "text",
         "line": {
          "color": "#402575",
          "width": 2
         },
         "mode": "lines",
         "showlegend": false,
         "text": "Model: HadGEM3-GC31-LL_r1i1p1f3<br>SSP: ssp126<br>Change: 6.87 %",
         "type": "scatter",
         "x": [
          6.867210833,
          3.3045708305
         ],
         "y": [
          0,
          1
         ]
        },
        {
         "hoverinfo": "text",
         "line": {
          "color": "#91ADD3",
          "width": 2
         },
         "mode": "lines",
         "showlegend": false,
         "text": "Model: HadGEM3-GC31-LL_r1i1p1f3<br>SSP: ssp245<br>Change: 0.82 %",
         "type": "scatter",
         "x": [
          0.824172755,
          2.3995920275
         ],
         "y": [
          0,
          1
         ]
        },
        {
         "hoverinfo": "text",
         "line": {
          "color": "#E64139",
          "width": 2
         },
         "mode": "lines",
         "showlegend": false,
         "text": "Model: HadGEM3-GC31-LL_r1i1p1f3<br>SSP: ssp585<br>Change: -1.52 %",
         "type": "scatter",
         "x": [
          -1.517109150000001,
          1.3235387829999998
         ],
         "y": [
          0,
          1
         ]
        },
        {
         "hoverinfo": "text",
         "line": {
          "color": "#402575",
          "width": 2
         },
         "mode": "lines",
         "showlegend": false,
         "text": "Model: NorESM2-MM_r1i1p1f1<br>SSP: ssp126<br>Change: -2.24 %",
         "type": "scatter",
         "x": [
          -2.237494548,
          3.3045708305
         ],
         "y": [
          0,
          1
         ]
        },
        {
         "hoverinfo": "text",
         "line": {
          "color": "#91ADD3",
          "width": 2
         },
         "mode": "lines",
         "showlegend": false,
         "text": "Model: NorESM2-MM_r1i1p1f1<br>SSP: ssp245<br>Change: 6.87 %",
         "type": "scatter",
         "x": [
          6.867614994199999,
          2.3995920275
         ],
         "y": [
          0,
          1
         ]
        },
        {
         "hoverinfo": "text",
         "line": {
          "color": "#F19D6F",
          "width": 2
         },
         "mode": "lines",
         "showlegend": false,
         "text": "Model: NorESM2-MM_r1i1p1f1<br>SSP: ssp370<br>Change: -2.65 %",
         "type": "scatter",
         "x": [
          -2.654320615000001,
          2.7674393525
         ],
         "y": [
          0,
          1
         ]
        },
        {
         "hoverinfo": "text",
         "line": {
          "color": "#E64139",
          "width": 2
         },
         "mode": "lines",
         "showlegend": false,
         "text": "Model: NorESM2-MM_r1i1p1f1<br>SSP: ssp585<br>Change: -2.92 %",
         "type": "scatter",
         "x": [
          -2.922686696,
          1.3235387829999998
         ],
         "y": [
          0,
          1
         ]
        },
        {
         "hoverinfo": "text",
         "line": {
          "color": "#402575",
          "width": 2
         },
         "mode": "lines",
         "showlegend": false,
         "text": "Model: EC-Earth3_r1i1p1f1<br>SSP: ssp126<br>Change: 5.67 %",
         "type": "scatter",
         "x": [
          5.67199107,
          3.3045708305
         ],
         "y": [
          0,
          1
         ]
        },
        {
         "hoverinfo": "text",
         "line": {
          "color": "#91ADD3",
          "width": 2
         },
         "mode": "lines",
         "showlegend": false,
         "text": "Model: EC-Earth3_r1i1p1f1<br>SSP: ssp245<br>Change: -0.81 %",
         "type": "scatter",
         "x": [
          -0.8148797764999994,
          2.3995920275
         ],
         "y": [
          0,
          1
         ]
        },
        {
         "hoverinfo": "text",
         "line": {
          "color": "#F19D6F",
          "width": 2
         },
         "mode": "lines",
         "showlegend": false,
         "text": "Model: EC-Earth3_r1i1p1f1<br>SSP: ssp370<br>Change: 0.92 %",
         "type": "scatter",
         "x": [
          0.922982099,
          2.7674393525
         ],
         "y": [
          0,
          1
         ]
        },
        {
         "hoverinfo": "text",
         "line": {
          "color": "#E64139",
          "width": 2
         },
         "mode": "lines",
         "showlegend": false,
         "text": "Model: EC-Earth3_r1i1p1f1<br>SSP: ssp585<br>Change: -3.12 %",
         "type": "scatter",
         "x": [
          -3.122967121000001,
          1.3235387829999998
         ],
         "y": [
          0,
          1
         ]
        },
        {
         "hoverinfo": "text",
         "line": {
          "color": "#402575",
          "width": 2
         },
         "mode": "lines",
         "showlegend": false,
         "text": "Model: CanESM5_r1i1p1f1<br>SSP: ssp126<br>Change: -0.03 %",
         "type": "scatter",
         "x": [
          -0.0303255550000002,
          3.3045708305
         ],
         "y": [
          0,
          1
         ]
        },
        {
         "hoverinfo": "text",
         "line": {
          "color": "#91ADD3",
          "width": 2
         },
         "mode": "lines",
         "showlegend": false,
         "text": "Model: CanESM5_r1i1p1f1<br>SSP: ssp245<br>Change: -2.16 %",
         "type": "scatter",
         "x": [
          -2.16196735,
          2.3995920275
         ],
         "y": [
          0,
          1
         ]
        },
        {
         "hoverinfo": "text",
         "line": {
          "color": "#F19D6F",
          "width": 2
         },
         "mode": "lines",
         "showlegend": false,
         "text": "Model: CanESM5_r1i1p1f1<br>SSP: ssp370<br>Change: -4.97 %",
         "type": "scatter",
         "x": [
          -4.9651221,
          2.7674393525
         ],
         "y": [
          0,
          1
         ]
        },
        {
         "hoverinfo": "text",
         "line": {
          "color": "#E64139",
          "width": 2
         },
         "mode": "lines",
         "showlegend": false,
         "text": "Model: CanESM5_r1i1p1f1<br>SSP: ssp585<br>Change: 4.09 %",
         "type": "scatter",
         "x": [
          4.092585218000001,
          1.3235387829999998
         ],
         "y": [
          0,
          1
         ]
        },
        {
         "hoverinfo": "text",
         "line": {
          "color": "#402575",
          "width": 2
         },
         "mode": "lines",
         "showlegend": false,
         "text": "Model: EC-Earth3-Veg_r1i1p1f1<br>SSP: ssp126<br>Change: 8.30 %",
         "type": "scatter",
         "x": [
          8.2979332805,
          3.3045708305
         ],
         "y": [
          0,
          1
         ]
        },
        {
         "hoverinfo": "text",
         "line": {
          "color": "#91ADD3",
          "width": 2
         },
         "mode": "lines",
         "showlegend": false,
         "text": "Model: EC-Earth3-Veg_r1i1p1f1<br>SSP: ssp245<br>Change: 15.70 %",
         "type": "scatter",
         "x": [
          15.704218309999998,
          2.3995920275
         ],
         "y": [
          0,
          1
         ]
        },
        {
         "hoverinfo": "text",
         "line": {
          "color": "#F19D6F",
          "width": 2
         },
         "mode": "lines",
         "showlegend": false,
         "text": "Model: EC-Earth3-Veg_r1i1p1f1<br>SSP: ssp370<br>Change: 19.57 %",
         "type": "scatter",
         "x": [
          19.574196095,
          2.7674393525
         ],
         "y": [
          0,
          1
         ]
        },
        {
         "hoverinfo": "text",
         "line": {
          "color": "#E64139",
          "width": 2
         },
         "mode": "lines",
         "showlegend": false,
         "text": "Model: EC-Earth3-Veg_r1i1p1f1<br>SSP: ssp585<br>Change: 10.42 %",
         "type": "scatter",
         "x": [
          10.4227735485,
          1.3235387829999998
         ],
         "y": [
          0,
          1
         ]
        },
        {
         "hoverinfo": "text",
         "line": {
          "color": "#402575",
          "width": 2
         },
         "mode": "lines",
         "showlegend": false,
         "text": "Model: ACCESS-ESM1-5_r1i1p1f1<br>SSP: ssp126<br>Change: 7.12 %",
         "type": "scatter",
         "x": [
          7.119772374999999,
          3.3045708305
         ],
         "y": [
          0,
          1
         ]
        },
        {
         "hoverinfo": "text",
         "line": {
          "color": "#91ADD3",
          "width": 2
         },
         "mode": "lines",
         "showlegend": false,
         "text": "Model: ACCESS-ESM1-5_r1i1p1f1<br>SSP: ssp245<br>Change: 0.33 %",
         "type": "scatter",
         "x": [
          0.3271728200000002,
          2.3995920275
         ],
         "y": [
          0,
          1
         ]
        },
        {
         "hoverinfo": "text",
         "line": {
          "color": "#F19D6F",
          "width": 2
         },
         "mode": "lines",
         "showlegend": false,
         "text": "Model: ACCESS-ESM1-5_r1i1p1f1<br>SSP: ssp370<br>Change: -5.29 %",
         "type": "scatter",
         "x": [
          -5.287729355000001,
          2.7674393525
         ],
         "y": [
          0,
          1
         ]
        },
        {
         "hoverinfo": "text",
         "line": {
          "color": "#E64139",
          "width": 2
         },
         "mode": "lines",
         "showlegend": false,
         "text": "Model: ACCESS-ESM1-5_r1i1p1f1<br>SSP: ssp585<br>Change: -10.11 %",
         "type": "scatter",
         "x": [
          -10.11204175,
          1.3235387829999998
         ],
         "y": [
          0,
          1
         ]
        },
        {
         "hoverinfo": "text",
         "line": {
          "color": "#402575",
          "width": 2
         },
         "mode": "lines",
         "showlegend": false,
         "text": "Model: KIOST-ESM_r1i1p1f1<br>SSP: ssp126<br>Change: -2.96 %",
         "type": "scatter",
         "x": [
          -2.9567095950000004,
          3.3045708305
         ],
         "y": [
          0,
          1
         ]
        },
        {
         "hoverinfo": "text",
         "line": {
          "color": "#91ADD3",
          "width": 2
         },
         "mode": "lines",
         "showlegend": false,
         "text": "Model: KIOST-ESM_r1i1p1f1<br>SSP: ssp245<br>Change: -7.62 %",
         "type": "scatter",
         "x": [
          -7.618198020000001,
          2.3995920275
         ],
         "y": [
          0,
          1
         ]
        },
        {
         "hoverinfo": "text",
         "line": {
          "color": "#E64139",
          "width": 2
         },
         "mode": "lines",
         "showlegend": false,
         "text": "Model: KIOST-ESM_r1i1p1f1<br>SSP: ssp585<br>Change: -0.60 %",
         "type": "scatter",
         "x": [
          -0.5980116000000002,
          1.3235387829999998
         ],
         "y": [
          0,
          1
         ]
        },
        {
         "line": {
          "color": "#402575",
          "width": 4
         },
         "mode": "lines",
         "name": "ssp126",
         "type": "scatter",
         "x": [
          null
         ],
         "y": [
          null
         ]
        },
        {
         "line": {
          "color": "#91ADD3",
          "width": 4
         },
         "mode": "lines",
         "name": "ssp245",
         "type": "scatter",
         "x": [
          null
         ],
         "y": [
          null
         ]
        },
        {
         "line": {
          "color": "#F19D6F",
          "width": 4
         },
         "mode": "lines",
         "name": "ssp370",
         "type": "scatter",
         "x": [
          null
         ],
         "y": [
          null
         ]
        },
        {
         "line": {
          "color": "#E64139",
          "width": 4
         },
         "mode": "lines",
         "name": "ssp585",
         "type": "scatter",
         "x": [
          null
         ],
         "y": [
          null
         ]
        }
       ],
       "layout": {
        "height": 500,
        "legend": {
         "orientation": "h",
         "x": 0.5,
         "xanchor": "center",
         "y": 1.05,
         "yanchor": "top"
        },
        "margin": {
         "b": 50,
         "l": 20,
         "r": 20,
         "t": 50
        },
        "paper_bgcolor": "white",
        "plot_bgcolor": "white",
        "template": {
         "data": {
          "bar": [
           {
            "error_x": {
             "color": "#2a3f5f"
            },
            "error_y": {
             "color": "#2a3f5f"
            },
            "marker": {
             "line": {
              "color": "#E5ECF6",
              "width": 0.5
             },
             "pattern": {
              "fillmode": "overlay",
              "size": 10,
              "solidity": 0.2
             }
            },
            "type": "bar"
           }
          ],
          "barpolar": [
           {
            "marker": {
             "line": {
              "color": "#E5ECF6",
              "width": 0.5
             },
             "pattern": {
              "fillmode": "overlay",
              "size": 10,
              "solidity": 0.2
             }
            },
            "type": "barpolar"
           }
          ],
          "carpet": [
           {
            "aaxis": {
             "endlinecolor": "#2a3f5f",
             "gridcolor": "white",
             "linecolor": "white",
             "minorgridcolor": "white",
             "startlinecolor": "#2a3f5f"
            },
            "baxis": {
             "endlinecolor": "#2a3f5f",
             "gridcolor": "white",
             "linecolor": "white",
             "minorgridcolor": "white",
             "startlinecolor": "#2a3f5f"
            },
            "type": "carpet"
           }
          ],
          "choropleth": [
           {
            "colorbar": {
             "outlinewidth": 0,
             "ticks": ""
            },
            "type": "choropleth"
           }
          ],
          "contour": [
           {
            "colorbar": {
             "outlinewidth": 0,
             "ticks": ""
            },
            "colorscale": [
             [
              0,
              "#0d0887"
             ],
             [
              0.1111111111111111,
              "#46039f"
             ],
             [
              0.2222222222222222,
              "#7201a8"
             ],
             [
              0.3333333333333333,
              "#9c179e"
             ],
             [
              0.4444444444444444,
              "#bd3786"
             ],
             [
              0.5555555555555556,
              "#d8576b"
             ],
             [
              0.6666666666666666,
              "#ed7953"
             ],
             [
              0.7777777777777778,
              "#fb9f3a"
             ],
             [
              0.8888888888888888,
              "#fdca26"
             ],
             [
              1,
              "#f0f921"
             ]
            ],
            "type": "contour"
           }
          ],
          "contourcarpet": [
           {
            "colorbar": {
             "outlinewidth": 0,
             "ticks": ""
            },
            "type": "contourcarpet"
           }
          ],
          "heatmap": [
           {
            "colorbar": {
             "outlinewidth": 0,
             "ticks": ""
            },
            "colorscale": [
             [
              0,
              "#0d0887"
             ],
             [
              0.1111111111111111,
              "#46039f"
             ],
             [
              0.2222222222222222,
              "#7201a8"
             ],
             [
              0.3333333333333333,
              "#9c179e"
             ],
             [
              0.4444444444444444,
              "#bd3786"
             ],
             [
              0.5555555555555556,
              "#d8576b"
             ],
             [
              0.6666666666666666,
              "#ed7953"
             ],
             [
              0.7777777777777778,
              "#fb9f3a"
             ],
             [
              0.8888888888888888,
              "#fdca26"
             ],
             [
              1,
              "#f0f921"
             ]
            ],
            "type": "heatmap"
           }
          ],
          "heatmapgl": [
           {
            "colorbar": {
             "outlinewidth": 0,
             "ticks": ""
            },
            "colorscale": [
             [
              0,
              "#0d0887"
             ],
             [
              0.1111111111111111,
              "#46039f"
             ],
             [
              0.2222222222222222,
              "#7201a8"
             ],
             [
              0.3333333333333333,
              "#9c179e"
             ],
             [
              0.4444444444444444,
              "#bd3786"
             ],
             [
              0.5555555555555556,
              "#d8576b"
             ],
             [
              0.6666666666666666,
              "#ed7953"
             ],
             [
              0.7777777777777778,
              "#fb9f3a"
             ],
             [
              0.8888888888888888,
              "#fdca26"
             ],
             [
              1,
              "#f0f921"
             ]
            ],
            "type": "heatmapgl"
           }
          ],
          "histogram": [
           {
            "marker": {
             "pattern": {
              "fillmode": "overlay",
              "size": 10,
              "solidity": 0.2
             }
            },
            "type": "histogram"
           }
          ],
          "histogram2d": [
           {
            "colorbar": {
             "outlinewidth": 0,
             "ticks": ""
            },
            "colorscale": [
             [
              0,
              "#0d0887"
             ],
             [
              0.1111111111111111,
              "#46039f"
             ],
             [
              0.2222222222222222,
              "#7201a8"
             ],
             [
              0.3333333333333333,
              "#9c179e"
             ],
             [
              0.4444444444444444,
              "#bd3786"
             ],
             [
              0.5555555555555556,
              "#d8576b"
             ],
             [
              0.6666666666666666,
              "#ed7953"
             ],
             [
              0.7777777777777778,
              "#fb9f3a"
             ],
             [
              0.8888888888888888,
              "#fdca26"
             ],
             [
              1,
              "#f0f921"
             ]
            ],
            "type": "histogram2d"
           }
          ],
          "histogram2dcontour": [
           {
            "colorbar": {
             "outlinewidth": 0,
             "ticks": ""
            },
            "colorscale": [
             [
              0,
              "#0d0887"
             ],
             [
              0.1111111111111111,
              "#46039f"
             ],
             [
              0.2222222222222222,
              "#7201a8"
             ],
             [
              0.3333333333333333,
              "#9c179e"
             ],
             [
              0.4444444444444444,
              "#bd3786"
             ],
             [
              0.5555555555555556,
              "#d8576b"
             ],
             [
              0.6666666666666666,
              "#ed7953"
             ],
             [
              0.7777777777777778,
              "#fb9f3a"
             ],
             [
              0.8888888888888888,
              "#fdca26"
             ],
             [
              1,
              "#f0f921"
             ]
            ],
            "type": "histogram2dcontour"
           }
          ],
          "mesh3d": [
           {
            "colorbar": {
             "outlinewidth": 0,
             "ticks": ""
            },
            "type": "mesh3d"
           }
          ],
          "parcoords": [
           {
            "line": {
             "colorbar": {
              "outlinewidth": 0,
              "ticks": ""
             }
            },
            "type": "parcoords"
           }
          ],
          "pie": [
           {
            "automargin": true,
            "type": "pie"
           }
          ],
          "scatter": [
           {
            "fillpattern": {
             "fillmode": "overlay",
             "size": 10,
             "solidity": 0.2
            },
            "type": "scatter"
           }
          ],
          "scatter3d": [
           {
            "line": {
             "colorbar": {
              "outlinewidth": 0,
              "ticks": ""
             }
            },
            "marker": {
             "colorbar": {
              "outlinewidth": 0,
              "ticks": ""
             }
            },
            "type": "scatter3d"
           }
          ],
          "scattercarpet": [
           {
            "marker": {
             "colorbar": {
              "outlinewidth": 0,
              "ticks": ""
             }
            },
            "type": "scattercarpet"
           }
          ],
          "scattergeo": [
           {
            "marker": {
             "colorbar": {
              "outlinewidth": 0,
              "ticks": ""
             }
            },
            "type": "scattergeo"
           }
          ],
          "scattergl": [
           {
            "marker": {
             "colorbar": {
              "outlinewidth": 0,
              "ticks": ""
             }
            },
            "type": "scattergl"
           }
          ],
          "scattermapbox": [
           {
            "marker": {
             "colorbar": {
              "outlinewidth": 0,
              "ticks": ""
             }
            },
            "type": "scattermapbox"
           }
          ],
          "scatterpolar": [
           {
            "marker": {
             "colorbar": {
              "outlinewidth": 0,
              "ticks": ""
             }
            },
            "type": "scatterpolar"
           }
          ],
          "scatterpolargl": [
           {
            "marker": {
             "colorbar": {
              "outlinewidth": 0,
              "ticks": ""
             }
            },
            "type": "scatterpolargl"
           }
          ],
          "scatterternary": [
           {
            "marker": {
             "colorbar": {
              "outlinewidth": 0,
              "ticks": ""
             }
            },
            "type": "scatterternary"
           }
          ],
          "surface": [
           {
            "colorbar": {
             "outlinewidth": 0,
             "ticks": ""
            },
            "colorscale": [
             [
              0,
              "#0d0887"
             ],
             [
              0.1111111111111111,
              "#46039f"
             ],
             [
              0.2222222222222222,
              "#7201a8"
             ],
             [
              0.3333333333333333,
              "#9c179e"
             ],
             [
              0.4444444444444444,
              "#bd3786"
             ],
             [
              0.5555555555555556,
              "#d8576b"
             ],
             [
              0.6666666666666666,
              "#ed7953"
             ],
             [
              0.7777777777777778,
              "#fb9f3a"
             ],
             [
              0.8888888888888888,
              "#fdca26"
             ],
             [
              1,
              "#f0f921"
             ]
            ],
            "type": "surface"
           }
          ],
          "table": [
           {
            "cells": {
             "fill": {
              "color": "#EBF0F8"
             },
             "line": {
              "color": "white"
             }
            },
            "header": {
             "fill": {
              "color": "#C8D4E3"
             },
             "line": {
              "color": "white"
             }
            },
            "type": "table"
           }
          ]
         },
         "layout": {
          "annotationdefaults": {
           "arrowcolor": "#2a3f5f",
           "arrowhead": 0,
           "arrowwidth": 1
          },
          "autotypenumbers": "strict",
          "coloraxis": {
           "colorbar": {
            "outlinewidth": 0,
            "ticks": ""
           }
          },
          "colorscale": {
           "diverging": [
            [
             0,
             "#8e0152"
            ],
            [
             0.1,
             "#c51b7d"
            ],
            [
             0.2,
             "#de77ae"
            ],
            [
             0.3,
             "#f1b6da"
            ],
            [
             0.4,
             "#fde0ef"
            ],
            [
             0.5,
             "#f7f7f7"
            ],
            [
             0.6,
             "#e6f5d0"
            ],
            [
             0.7,
             "#b8e186"
            ],
            [
             0.8,
             "#7fbc41"
            ],
            [
             0.9,
             "#4d9221"
            ],
            [
             1,
             "#276419"
            ]
           ],
           "sequential": [
            [
             0,
             "#0d0887"
            ],
            [
             0.1111111111111111,
             "#46039f"
            ],
            [
             0.2222222222222222,
             "#7201a8"
            ],
            [
             0.3333333333333333,
             "#9c179e"
            ],
            [
             0.4444444444444444,
             "#bd3786"
            ],
            [
             0.5555555555555556,
             "#d8576b"
            ],
            [
             0.6666666666666666,
             "#ed7953"
            ],
            [
             0.7777777777777778,
             "#fb9f3a"
            ],
            [
             0.8888888888888888,
             "#fdca26"
            ],
            [
             1,
             "#f0f921"
            ]
           ],
           "sequentialminus": [
            [
             0,
             "#0d0887"
            ],
            [
             0.1111111111111111,
             "#46039f"
            ],
            [
             0.2222222222222222,
             "#7201a8"
            ],
            [
             0.3333333333333333,
             "#9c179e"
            ],
            [
             0.4444444444444444,
             "#bd3786"
            ],
            [
             0.5555555555555556,
             "#d8576b"
            ],
            [
             0.6666666666666666,
             "#ed7953"
            ],
            [
             0.7777777777777778,
             "#fb9f3a"
            ],
            [
             0.8888888888888888,
             "#fdca26"
            ],
            [
             1,
             "#f0f921"
            ]
           ]
          },
          "colorway": [
           "#636efa",
           "#EF553B",
           "#00cc96",
           "#ab63fa",
           "#FFA15A",
           "#19d3f3",
           "#FF6692",
           "#B6E880",
           "#FF97FF",
           "#FECB52"
          ],
          "font": {
           "color": "#2a3f5f"
          },
          "geo": {
           "bgcolor": "white",
           "lakecolor": "white",
           "landcolor": "#E5ECF6",
           "showlakes": true,
           "showland": true,
           "subunitcolor": "white"
          },
          "hoverlabel": {
           "align": "left"
          },
          "hovermode": "closest",
          "mapbox": {
           "style": "light"
          },
          "paper_bgcolor": "white",
          "plot_bgcolor": "#E5ECF6",
          "polar": {
           "angularaxis": {
            "gridcolor": "white",
            "linecolor": "white",
            "ticks": ""
           },
           "bgcolor": "#E5ECF6",
           "radialaxis": {
            "gridcolor": "white",
            "linecolor": "white",
            "ticks": ""
           }
          },
          "scene": {
           "xaxis": {
            "backgroundcolor": "#E5ECF6",
            "gridcolor": "white",
            "gridwidth": 2,
            "linecolor": "white",
            "showbackground": true,
            "ticks": "",
            "zerolinecolor": "white"
           },
           "yaxis": {
            "backgroundcolor": "#E5ECF6",
            "gridcolor": "white",
            "gridwidth": 2,
            "linecolor": "white",
            "showbackground": true,
            "ticks": "",
            "zerolinecolor": "white"
           },
           "zaxis": {
            "backgroundcolor": "#E5ECF6",
            "gridcolor": "white",
            "gridwidth": 2,
            "linecolor": "white",
            "showbackground": true,
            "ticks": "",
            "zerolinecolor": "white"
           }
          },
          "shapedefaults": {
           "line": {
            "color": "#2a3f5f"
           }
          },
          "ternary": {
           "aaxis": {
            "gridcolor": "white",
            "linecolor": "white",
            "ticks": ""
           },
           "baxis": {
            "gridcolor": "white",
            "linecolor": "white",
            "ticks": ""
           },
           "bgcolor": "#E5ECF6",
           "caxis": {
            "gridcolor": "white",
            "linecolor": "white",
            "ticks": ""
           }
          },
          "title": {
           "x": 0.05
          },
          "xaxis": {
           "automargin": true,
           "gridcolor": "white",
           "linecolor": "white",
           "ticks": "",
           "title": {
            "standoff": 15
           },
           "zerolinecolor": "white",
           "zerolinewidth": 2
          },
          "yaxis": {
           "automargin": true,
           "gridcolor": "white",
           "linecolor": "white",
           "ticks": "",
           "title": {
            "standoff": 15
           },
           "zerolinecolor": "white",
           "zerolinewidth": 2
          }
         }
        },
        "title": {
         "text": "Projected changes CMIP6 in WCE for Total Precipitation during SepNov between 2041-2060",
         "x": 0.5,
         "xanchor": "center"
        },
        "xaxis": {
         "linecolor": "black",
         "linewidth": 1,
         "range": [
          -11.6270188975,
          21.0599682375
         ],
         "showgrid": false,
         "showline": true,
         "tickcolor": "black",
         "ticklen": 3,
         "tickmode": "auto",
         "ticks": "outside",
         "tickwidth": 1,
         "title": {
          "text": "Change in Total Precipitation [%]"
         },
         "zeroline": false
        },
        "yaxis": {
         "showgrid": false,
         "tickmode": "array",
         "ticktext": [
          "Model",
          "SSP",
          ""
         ],
         "tickvals": [
          0,
          1,
          2
         ],
         "zeroline": false
        }
       }
      }
     },
     "metadata": {},
     "output_type": "display_data"
    },
    {
     "data": {
      "text/plain": [
       "<function __main__.update_plot(region, dataset, variable, time_filter, timeframe)>"
      ]
     },
     "execution_count": 1,
     "metadata": {},
     "output_type": "execute_result"
    }
   ],
   "source": [
    "import ipywidgets as widgets\n",
    "from ipywidgets import interact\n",
    "from IPython.display import clear_output\n",
    "import pandas as pd\n",
    "import numpy as np\n",
    "import plotly.graph_objects as go\n",
    "\n",
    "# Define variables and their full names\n",
    "atmos_variables = [\n",
    "    'tas', 'tasmin', 'TNn', 'fd', 'hdd',\n",
    "    'tasmax', 'TXx', 'tx35', 'TX35bc', 'tx40', 'TX40bc', 'cdd',\n",
    "    'pr', 'Rx1day', 'Rx5day', 'ds', 'spi6',\n",
    "    'prsn', 'sfcWind'\n",
    "]\n",
    "\n",
    "# Mapping of variable codes to their full names\n",
    "variable_full_names = {\n",
    "    'tas': 'Mean Temperature',\n",
    "    'tasmin': 'Minimum Temperature',\n",
    "    'TNn': 'Minimum of Minimum Temperature',\n",
    "    'fd': 'Frost Days',\n",
    "    'hdd': 'Heating Degree Days',\n",
    "    'tasmax': 'Maximum Temperature',\n",
    "    'TXx': 'Maximum of Maximum Temperature',\n",
    "    'tx35': 'Days with Temperature > 35°C',\n",
    "    'TX35bc': 'Days with Temperature > 35°C (Bias Corrected)',\n",
    "    'tx40': 'Days with Temperature > 40°C',\n",
    "    'TX40bc': 'Days with Temperature > 40°C (Bias Corrected)',\n",
    "    'cdd': 'Cooling Degree Days',\n",
    "    'pr': 'Total Precipitation',\n",
    "    'Rx1day': 'Maximum 1-Day Precipitation',\n",
    "    'Rx5day': 'Maximum 5-Day Precipitation',\n",
    "    'ds': 'Consecutive Dry Days',\n",
    "    'spi6': 'Standardized Precipitation Index (6 months)',\n",
    "    'prsn': 'Total Snowfall',\n",
    "    'sfcWind': 'Surface Wind Speed'\n",
    "}\n",
    "\n",
    "# Mapping of variable codes to their units\n",
    "variable_units = {\n",
    "    'tas': '°C',\n",
    "    'tasmin': '°C',\n",
    "    'tasmax': '°C',\n",
    "    'TNn': '°C',\n",
    "    'TXx': '°C',\n",
    "    'pr': '%',\n",
    "    'Rx1day': '%',\n",
    "    'Rx5day': '%',\n",
    "    'spi6': '%',\n",
    "    'sfcWind': '%',\n",
    "    'prsn': 'mm/day',\n",
    "    'cdd': 'Degree Days',\n",
    "    'hdd': 'Degree Days'\n",
    "}\n",
    "\n",
    "# Define scenarios and their corresponding colors for each dataset\n",
    "scenarios_and_colors = {\n",
    "    'CMIP6': {\n",
    "        'scenarios': ['ssp126', 'ssp245', 'ssp370', 'ssp585'],\n",
    "        'colors': {\n",
    "            'ssp126': '#402575',  # Deep blue\n",
    "            'ssp245': '#91ADD3',  # Light blue\n",
    "            'ssp370': '#F19D6F',  # Orange\n",
    "            'ssp585': '#E64139'   # Red\n",
    "        }\n",
    "    },\n",
    "    'CORDEX': {\n",
    "        'scenarios': ['rcp26', 'rcp45', 'rcp85'],\n",
    "        'colors': {\n",
    "            'rcp26': '#402575',  # Deep blue\n",
    "            'rcp45': '#91ADD3',  # Light blue\n",
    "            'rcp85': '#E64139'   # Red\n",
    "        }\n",
    "    }\n",
    "}\n",
    "\n",
    "# Define the available regions and variables\n",
    "regions = ['NEU', 'MED', 'WCE', 'EEU']\n",
    "variables = [(variable_full_names[var], var) for var in atmos_variables]\n",
    "time_filters = ['year', 'DecFeb', 'MarMay', 'JunAug', 'SepNov']\n",
    "timeframes = [2021, 2041, 2081]\n",
    "\n",
    "# Create the dropdowns for user interaction\n",
    "region_dropdown = widgets.Dropdown(\n",
    "    options=regions,\n",
    "    value='NEU',\n",
    "    description='Region:',\n",
    ")\n",
    "\n",
    "data_set_dropdown = widgets.Dropdown(\n",
    "    options=['CMIP6', 'CORDEX'],\n",
    "    value='CMIP6',\n",
    "    description='Dataset:',\n",
    ")\n",
    "\n",
    "variable_dropdown = widgets.Dropdown(\n",
    "    options=variables,\n",
    "    value='tas',\n",
    "    description='Variable:',\n",
    ")\n",
    "\n",
    "time_filter_dropdown = widgets.Dropdown(\n",
    "    options=time_filters,\n",
    "    value='year',\n",
    "    description='Time Filter:',\n",
    ")\n",
    "\n",
    "timeframe_dropdown = widgets.Dropdown(\n",
    "    options=timeframes,\n",
    "    value=2041,\n",
    "    description='Timeframe:',\n",
    ")\n",
    "\n",
    "# Flag to check if it's the first click\n",
    "first_click = True\n",
    "\n",
    "# Function to update the plot based on user selection\n",
    "def update_plot(region, dataset, variable, time_filter, timeframe):\n",
    "    global first_click\n",
    "    clear_output(wait=True)  # Clear previous output\n",
    "    ref_time = 'preIndustrial'\n",
    "    landmask = 'True'\n",
    "    variable_full_name = variable_full_names.get(variable, variable)\n",
    "    unit = variable_units.get(variable, 'days')\n",
    "\n",
    "    # Load the data\n",
    "    try:\n",
    "        data = pd.read_csv(\n",
    "            f'data/{region}/{region}_{dataset}_{ref_time}_landmask={landmask}.csv'\n",
    "        )\n",
    "    except FileNotFoundError:\n",
    "        print(\"Data file not found.\")\n",
    "        return\n",
    "\n",
    "    # Process the data\n",
    "    data = data.set_index(['variable', 'model', 'date', 'scenario', 'season'])\n",
    "    data = data.loc[(variable, slice(None), timeframe, slice(None), time_filter)]\n",
    "    data_restructured = data.reset_index()\n",
    "    data_restructured = data_restructured.set_index('model')\n",
    "    data_restructured = data_restructured.rename(columns={'scenario': 'ssp', 'value': 'impact'})\n",
    "\n",
    "    # Check if the data is empty\n",
    "    if data_restructured.empty:\n",
    "        # Create an empty figure with a message\n",
    "        fig = go.Figure()\n",
    "        fig.update_layout(\n",
    "            height=500,\n",
    "            margin=dict(l=20, r=20, t=50, b=50),\n",
    "            plot_bgcolor='white',\n",
    "            paper_bgcolor='white',\n",
    "            xaxis=dict(showgrid=False, zeroline=False, showticklabels=False),\n",
    "            yaxis=dict(showgrid=False, zeroline=False, showticklabels=False),\n",
    "            title=dict(\n",
    "                text=f'Projected changes {dataset} in {region} for {variable_full_name} during {time_filter} between {timeframe}-{int(timeframe) + 19}',\n",
    "                x=0.5,\n",
    "                xanchor='center'\n",
    "            )\n",
    "        )\n",
    "        fig.add_annotation(\n",
    "            text=\"Data set not available, try another one\",\n",
    "            x=0.5, y=0.5,\n",
    "            xref=\"paper\", yref=\"paper\",\n",
    "            showarrow=False,\n",
    "            font=dict(size=25, color=\"black\"),\n",
    "            align=\"center\",\n",
    "            valign=\"middle\",\n",
    "        )\n",
    "        fig.show()\n",
    "        return\n",
    "\n",
    "    # Get multi-model mean (mmm)\n",
    "    mmm = data_restructured.loc[data_restructured.index == 'mmm']\n",
    "\n",
    "    # Assign SSP impacts based on scenarios\n",
    "    data_restructured['ssp_impact'] = np.nan\n",
    "    scenarios = scenarios_and_colors[dataset]['scenarios']\n",
    "    colors = scenarios_and_colors[dataset]['colors']\n",
    "\n",
    "    for scenario in scenarios:\n",
    "        if scenario in mmm['ssp'].values:\n",
    "            mmm_value = mmm[mmm['ssp'] == scenario]['impact'].values[0]\n",
    "            data_restructured.loc[data_restructured['ssp'] == scenario, 'ssp_impact'] = mmm_value\n",
    "\n",
    "    # Prepare data for plotting\n",
    "    data_restructured.reset_index(inplace=True)\n",
    "    df = data_restructured[['impact', 'ssp', 'ssp_impact', 'model']]\n",
    "\n",
    "    # Determine x-axis range\n",
    "    x_min = df['impact'].min()\n",
    "    x_max = df['impact'].max()\n",
    "    range_extension = 0.05 * (x_max - x_min)\n",
    "    x_range = [x_min - range_extension, x_max + range_extension]\n",
    "\n",
    "    # Mapping of y-values to numerical positions\n",
    "    y_mapping = {'Model': 0, 'SSP': 1, 'SSP Extension': 2}\n",
    "\n",
    "    # Initialize figure\n",
    "    fig = go.Figure()\n",
    "\n",
    "    # Plot lines for each model and SSP\n",
    "    for _, entry in df.iterrows():\n",
    "        ssp = entry['ssp']\n",
    "        color = colors.get(ssp, 'black')\n",
    "        model_name = entry['model']\n",
    "\n",
    "        if model_name == 'mmm':\n",
    "            x_vals = [entry['ssp_impact'], entry['ssp_impact']]\n",
    "            y_vals = [y_mapping['SSP'], y_mapping['SSP Extension']]\n",
    "            fig.add_trace(\n",
    "                go.Scatter(\n",
    "                    x=x_vals,\n",
    "                    y=y_vals,\n",
    "                    mode='lines',\n",
    "                    line=dict(color=color, width=2),\n",
    "                    showlegend=False,\n",
    "                    hoverinfo='text',\n",
    "                    text=f\"Model: {model_name}<br>SSP: {ssp}<br>Impact: {entry['ssp_impact']:.2f} {unit}\"\n",
    "                )\n",
    "            )\n",
    "            continue\n",
    "\n",
    "        x_vals = [entry['impact'], entry['ssp_impact']]\n",
    "        y_vals = [y_mapping['Model'], y_mapping['SSP']]\n",
    "        fig.add_trace(\n",
    "            go.Scatter(\n",
    "                x=x_vals,\n",
    "                y=y_vals,\n",
    "                mode='lines',\n",
    "                line=dict(color=color, width=2),\n",
    "                showlegend=False,\n",
    "                hoverinfo='text',\n",
    "                text=f\"Model: {model_name}<br>SSP: {ssp}<br>Change: {entry['impact']:.2f} {unit}\"\n",
    "            )\n",
    "        )\n",
    "\n",
    "    # Set x-axis properties\n",
    "    xaxis_title = f'Change in {variable_full_name} [{unit}]'\n",
    "    fig.update_xaxes(\n",
    "        title_text=xaxis_title,\n",
    "        range=x_range,\n",
    "        tickmode='auto',\n",
    "        showgrid=False,\n",
    "        zeroline=False,\n",
    "        ticks='outside',\n",
    "        ticklen=3,\n",
    "        tickwidth=1,\n",
    "        tickcolor='black',\n",
    "        showline=True,\n",
    "        linecolor='black',\n",
    "        linewidth=1\n",
    "    )\n",
    "\n",
    "    # Set y-axis properties\n",
    "    fig.update_yaxes(\n",
    "        tickmode='array',\n",
    "        tickvals=[y_mapping['Model'], y_mapping['SSP'], y_mapping['SSP Extension']],\n",
    "        ticktext=['Model', 'SSP', ''],\n",
    "        showgrid=False,\n",
    "        zeroline=False\n",
    "    )\n",
    "\n",
    "    # Adjust layout properties\n",
    "    fig.update_layout(\n",
    "        height=500,\n",
    "        margin=dict(l=20, r=20, t=50, b=50),\n",
    "        plot_bgcolor='white',\n",
    "        paper_bgcolor='white',\n",
    "        title=dict(\n",
    "            text=f'Projected changes {dataset} in {region} for {variable_full_name} during {time_filter} between {timeframe}-{int(timeframe) + 19}',\n",
    "            x=0.5,\n",
    "            xanchor='center'\n",
    "        ),\n",
    "        legend=dict(\n",
    "            orientation=\"h\",\n",
    "            yanchor=\"top\",\n",
    "            y=1.05,\n",
    "            xanchor=\"center\",\n",
    "            x=0.5\n",
    "        )\n",
    "    )\n",
    "\n",
    "    # Add a manual legend for SSPs\n",
    "    for ssp, color in colors.items():\n",
    "        fig.add_trace(\n",
    "            go.Scatter(\n",
    "                x=[None],\n",
    "                y=[None],\n",
    "                mode='lines',\n",
    "                line=dict(color=color, width=4),\n",
    "                name=ssp\n",
    "            )\n",
    "        )\n",
    "\n",
    "    # Show the figure\n",
    "    if first_click == False:\n",
    "        fig.show()\n",
    "    else:\n",
    "        first_click = False\n",
    "\n",
    "# Create the interactive widget\n",
    "interact(\n",
    "    update_plot,\n",
    "    region=region_dropdown,\n",
    "    dataset=data_set_dropdown,\n",
    "    variable=variable_dropdown,\n",
    "    time_filter=time_filter_dropdown,\n",
    "    timeframe=timeframe_dropdown\n",
    ")"
   ]
  },
  {
   "cell_type": "code",
   "execution_count": null,
   "metadata": {},
   "outputs": [],
   "source": []
  },
  {
   "cell_type": "code",
   "execution_count": null,
   "metadata": {},
   "outputs": [],
   "source": []
  }
 ],
 "metadata": {
  "kernelspec": {
   "display_name": "Python 3",
   "language": "python",
   "name": "python3"
  },
  "language_info": {
   "codemirror_mode": {
    "name": "ipython",
    "version": 3
   },
   "file_extension": ".py",
   "mimetype": "text/x-python",
   "name": "python",
   "nbconvert_exporter": "python",
   "pygments_lexer": "ipython3",
   "version": "3.11.4"
  }
 },
 "nbformat": 4,
 "nbformat_minor": 2
}
