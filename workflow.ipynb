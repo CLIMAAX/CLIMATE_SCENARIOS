{
 "cells": [
  {
   "cell_type": "markdown",
   "metadata": {},
   "source": [
    "# Climate projections: exploring plausibilities"
   ]
  },
  {
   "cell_type": "markdown",
   "metadata": {},
   "source": [
    "In this workflow, we will explore the range of potential climate futures for your region. We will highlight each of the steps using a real-life example in Latvia. This page will go through the following steps: \n",
    "1. Define locally relevant climatic impact drivers\n",
    "1. Collect observation trends\n",
    "1. Collect simulation trends\n",
    "1. Look into IPCC reports why this occurs\n",
    "1. Download model data for workflow analysis\n",
    "\n",
    "By the end of the workflow, you will have a set of different futures that can help analyse a range of plausible futures. These ranges are accompanied by individual climate models that can be reviewed for future weather patterns.\n",
    "\n",
    "The IPCC divides Europe into four climatic zones. These zones are based on areas with similar climate typologies. For each of these zones, climate projection statistics are available. \n",
    "- NEU - Northern Europe\n",
    "- WCE - West and Central Europe\n",
    "- MED - Mediterranean\n",
    "- EEU - Eastern Europe\n",
    "\n",
    "\n",
    "<center><img src=\"regions_map.png\" alt=\"EU regions\" width=\"400\"></center>\n",
    "\n",
    "<center>Image taken from the <a href=\"https://doi.org/10.1017/9781009157896.021\">IPCC Atlas</a></center>"
   ]
  },
  {
   "cell_type": "markdown",
   "metadata": {},
   "source": [
    "### Latvian example"
   ]
  },
  {
   "cell_type": "markdown",
   "metadata": {},
   "source": [
    "For our example, we take the Lielupe basin, covering parts of Lithuania and Latvia. For Latvia, the basin has been characterised as a flood zone of national importance. See the figure below for an indication of the flood challenges in the region. Information on how these floods will develop in the future is of significant value as more and more adaptation plans and investments will need to be made as we head into the mid-century. \n",
    "\n",
    "<center><img src=\"latvia_example/Latvia flood.png\" alt=\"floods in the lielupe basin\" width=\"400\"></center>\n",
    "\n",
    "<center>Flood extend in the lielupe basin</a></center>"
   ]
  },
  {
   "cell_type": "markdown",
   "metadata": {},
   "source": [
    "## 1.\tDefine locally relevant climatic impact drivers"
   ]
  },
  {
   "cell_type": "markdown",
   "metadata": {},
   "source": [
    "Begin by identifying the specific climatic conditions that contribute to your climate-related challenge. The more specific you can be, the easier it will be to track changes and predict future hazards. Below is a set of key climate variables that can be explored on a yearly basis or seasonally."
   ]
  },
  {
   "cell_type": "markdown",
   "metadata": {},
   "source": [
    "- Mean Temperature\n",
    "- Minimum Temperature\n",
    "- Minimum of Minimum Temperature\n",
    "- Frost Days\n",
    "- Heating Degree Days\n",
    "- Maximum Temperature\n",
    "- Maximum of Maximum Temperature\n",
    "- Days with Temperature > 35°C\n",
    "- Days with Temperature > 35°C (Bias Corrected)\n",
    "- Days with Temperature > 40°C\n",
    "- Days with Temperature > 40°C (Bias Corrected)\n",
    "- Cooling Degree Days\n",
    "- Total Precipitation\n",
    "- Maximum 1-Day Precipitation\n",
    "- Maximum 5-Day Precipitation\n",
    "- Consecutive Dry Days\n",
    "- Standardized Precipitation Index (6 months)\n",
    "- Total Snowfall\n",
    "- Surface Wind Speed"
   ]
  },
  {
   "cell_type": "markdown",
   "metadata": {},
   "source": [
    "### Latvian example"
   ]
  },
  {
   "cell_type": "markdown",
   "metadata": {},
   "source": [
    "Flooding in Latvia has two main flood driverIn Latvia, flooding is primarily driven by two factors. One is the snowpack accumulated in winter that rapidly melts and flows into rivers during spring. Another driver is spring precipitation, which saturates the soil and when confronted with extra rainfall, the region starts to flood.\n",
    "\n",
    "To analyse developments for the two flood mechanisms we select the following climate impact drivers: \n",
    "- average precipitation march till may \n",
    "- snowfall in December till February\n"
   ]
  },
  {
   "cell_type": "markdown",
   "metadata": {},
   "source": [
    "## 2.\tCollect observation trends from interactive climate atlas"
   ]
  },
  {
   "cell_type": "markdown",
   "metadata": {},
   "source": [
    "To get a better understanding of what climate trend we can expect we will explore what climate trend is already observed. We analyse past climate behaviour by following the next steps: \n",
    "1. Go to [https://atlas.climate.copernicus.eu/atlas](https://atlas.climate.copernicus.eu/atlas/KphACYrm)\n",
    "1. Select your region\n",
    "1. Select the historical observation data set \"era5-land\" \n",
    "1. Select climate impact drivers and season of interest\n",
    "1. Click on \"Regional Information\" for more information \n",
    "1. Spot potential trends\n"
   ]
  },
  {
   "cell_type": "markdown",
   "metadata": {},
   "source": [
    "### Latvian example"
   ]
  },
  {
   "cell_type": "markdown",
   "metadata": {},
   "source": [
    "As Latvia is situated on the border between NEU and WCE we need to choose which region. Since the European risk assessment considers the Baltic states to be part of NEU we also choose this region."
   ]
  },
  {
   "cell_type": "markdown",
   "metadata": {},
   "source": [
    "Overall, there has been an upward trend in ERA5 data for precipitation."
   ]
  },
  {
   "cell_type": "markdown",
   "metadata": {},
   "source": [
    "<center><img src=\"latvia_example/pr-ERA5-Land_timeseries-NEU.png\" alt=\"floods in the lielupe basin\" width=\"800\"></center>"
   ]
  },
  {
   "cell_type": "markdown",
   "metadata": {},
   "source": [
    "In the whole of NEU we find that snow has a slightly increasing trend. The trend in extra rainfall might have contributed to more snow than temperature increases have reduced snow accumulation. "
   ]
  },
  {
   "cell_type": "markdown",
   "metadata": {},
   "source": [
    "<center><img src=\"latvia_example/prsn-ERA5-Land_timeseries-NEU.png\" alt=\"floods in the lielupe basin\" width=\"800\"></center>"
   ]
  },
  {
   "cell_type": "markdown",
   "metadata": {},
   "source": [
    "Based on what we know of the climatic impact drivers we would expect that there are slight increases in both snowmelt and saturated soil floods.  "
   ]
  },
  {
   "cell_type": "markdown",
   "metadata": {},
   "source": [
    "## 3.\tCollect simulation trends"
   ]
  },
  {
   "cell_type": "markdown",
   "metadata": {},
   "source": [
    "For this notebook, we have compiled projections from climate models per IPCC climate region for various emission scenarios. In the plot below, the horizontal axis indicated the CID change. At the top we have indicated the multi-model means of emisssions scenarios. Underneath, we show the spread of model outcomes that comprise the multi-model mean. After you have read through the example feel free to play around with the plot for your region."
   ]
  },
  {
   "cell_type": "code",
   "execution_count": 4,
   "metadata": {},
   "outputs": [
    {
     "data": {
      "application/vnd.jupyter.widget-view+json": {
       "model_id": "1b2f6bf7cfeb464cacfd8aa17bddd15a",
       "version_major": 2,
       "version_minor": 0
      },
      "text/plain": [
       "interactive(children=(Dropdown(description='Region:', options=('NEU', 'MED', 'WCE', 'EEU'), value='NEU'), Drop…"
      ]
     },
     "metadata": {},
     "output_type": "display_data"
    },
    {
     "data": {
      "application/vnd.plotly.v1+json": {
       "config": {
        "plotlyServerURL": "https://plot.ly"
       },
       "data": [
        {
         "hoverinfo": "text",
         "line": {
          "color": "#402575",
          "width": 2
         },
         "mode": "lines",
         "showlegend": false,
         "text": "Model: UKESM1-0-LL_r1i1p1f2<br>SSP: ssp126<br>Change: 5.18 °C",
         "type": "scatter",
         "x": [
          5.180450335000001,
          5.12342563
         ],
         "y": [
          0,
          1
         ]
        },
        {
         "hoverinfo": "text",
         "line": {
          "color": "#91ADD3",
          "width": 2
         },
         "mode": "lines",
         "showlegend": false,
         "text": "Model: UKESM1-0-LL_r1i1p1f2<br>SSP: ssp245<br>Change: 5.72 °C",
         "type": "scatter",
         "x": [
          5.724516940000001,
          5.94405674
         ],
         "y": [
          0,
          1
         ]
        },
        {
         "hoverinfo": "text",
         "line": {
          "color": "#F19D6F",
          "width": 2
         },
         "mode": "lines",
         "showlegend": false,
         "text": "Model: UKESM1-0-LL_r1i1p1f2<br>SSP: ssp370<br>Change: 6.93 °C",
         "type": "scatter",
         "x": [
          6.932170535000002,
          6.316791385
         ],
         "y": [
          0,
          1
         ]
        },
        {
         "hoverinfo": "text",
         "line": {
          "color": "#E64139",
          "width": 2
         },
         "mode": "lines",
         "showlegend": false,
         "text": "Model: UKESM1-0-LL_r1i1p1f2<br>SSP: ssp585<br>Change: 7.39 °C",
         "type": "scatter",
         "x": [
          7.388472795000001,
          6.956664205000001
         ],
         "y": [
          0,
          1
         ]
        },
        {
         "hoverinfo": "text",
         "line": {
          "color": "#402575",
          "width": 2
         },
         "mode": "lines",
         "showlegend": false,
         "text": "Model: CNRM-ESM2-1_r1i1p1f2<br>SSP: ssp126<br>Change: 1.51 °C",
         "type": "scatter",
         "x": [
          1.513098699,
          5.12342563
         ],
         "y": [
          0,
          1
         ]
        },
        {
         "hoverinfo": "text",
         "line": {
          "color": "#91ADD3",
          "width": 2
         },
         "mode": "lines",
         "showlegend": false,
         "text": "Model: CNRM-ESM2-1_r1i1p1f2<br>SSP: ssp245<br>Change: 3.32 °C",
         "type": "scatter",
         "x": [
          3.3237515615,
          5.94405674
         ],
         "y": [
          0,
          1
         ]
        },
        {
         "hoverinfo": "text",
         "line": {
          "color": "#F19D6F",
          "width": 2
         },
         "mode": "lines",
         "showlegend": false,
         "text": "Model: CNRM-ESM2-1_r1i1p1f2<br>SSP: ssp370<br>Change: 4.13 °C",
         "type": "scatter",
         "x": [
          4.134827482,
          6.316791385
         ],
         "y": [
          0,
          1
         ]
        },
        {
         "hoverinfo": "text",
         "line": {
          "color": "#E64139",
          "width": 2
         },
         "mode": "lines",
         "showlegend": false,
         "text": "Model: CNRM-ESM2-1_r1i1p1f2<br>SSP: ssp585<br>Change: 4.89 °C",
         "type": "scatter",
         "x": [
          4.8926954600000006,
          6.956664205000001
         ],
         "y": [
          0,
          1
         ]
        },
        {
         "hoverinfo": "text",
         "line": {
          "color": "#402575",
          "width": 2
         },
         "mode": "lines",
         "showlegend": false,
         "text": "Model: FGOALS-g3_r1i1p1f1<br>SSP: ssp126<br>Change: 2.61 °C",
         "type": "scatter",
         "x": [
          2.609257142,
          5.12342563
         ],
         "y": [
          0,
          1
         ]
        },
        {
         "hoverinfo": "text",
         "line": {
          "color": "#91ADD3",
          "width": 2
         },
         "mode": "lines",
         "showlegend": false,
         "text": "Model: FGOALS-g3_r1i1p1f1<br>SSP: ssp245<br>Change: 5.13 °C",
         "type": "scatter",
         "x": [
          5.1254293125,
          5.94405674
         ],
         "y": [
          0,
          1
         ]
        },
        {
         "hoverinfo": "text",
         "line": {
          "color": "#F19D6F",
          "width": 2
         },
         "mode": "lines",
         "showlegend": false,
         "text": "Model: FGOALS-g3_r1i1p1f1<br>SSP: ssp370<br>Change: 4.83 °C",
         "type": "scatter",
         "x": [
          4.830462499999999,
          6.316791385
         ],
         "y": [
          0,
          1
         ]
        },
        {
         "hoverinfo": "text",
         "line": {
          "color": "#E64139",
          "width": 2
         },
         "mode": "lines",
         "showlegend": false,
         "text": "Model: FGOALS-g3_r1i1p1f1<br>SSP: ssp585<br>Change: 6.04 °C",
         "type": "scatter",
         "x": [
          6.043502054999999,
          6.956664205000001
         ],
         "y": [
          0,
          1
         ]
        },
        {
         "hoverinfo": "text",
         "line": {
          "color": "#402575",
          "width": 2
         },
         "mode": "lines",
         "showlegend": false,
         "text": "Model: INM-CM4-8_r1i1p1f1<br>SSP: ssp126<br>Change: 3.83 °C",
         "type": "scatter",
         "x": [
          3.826309385000001,
          5.12342563
         ],
         "y": [
          0,
          1
         ]
        },
        {
         "hoverinfo": "text",
         "line": {
          "color": "#91ADD3",
          "width": 2
         },
         "mode": "lines",
         "showlegend": false,
         "text": "Model: INM-CM4-8_r1i1p1f1<br>SSP: ssp245<br>Change: 6.03 °C",
         "type": "scatter",
         "x": [
          6.025663947,
          5.94405674
         ],
         "y": [
          0,
          1
         ]
        },
        {
         "hoverinfo": "text",
         "line": {
          "color": "#F19D6F",
          "width": 2
         },
         "mode": "lines",
         "showlegend": false,
         "text": "Model: INM-CM4-8_r1i1p1f1<br>SSP: ssp370<br>Change: 4.84 °C",
         "type": "scatter",
         "x": [
          4.84275345445,
          6.316791385
         ],
         "y": [
          0,
          1
         ]
        },
        {
         "hoverinfo": "text",
         "line": {
          "color": "#E64139",
          "width": 2
         },
         "mode": "lines",
         "showlegend": false,
         "text": "Model: INM-CM4-8_r1i1p1f1<br>SSP: ssp585<br>Change: 5.60 °C",
         "type": "scatter",
         "x": [
          5.60117779,
          6.956664205000001
         ],
         "y": [
          0,
          1
         ]
        },
        {
         "hoverinfo": "text",
         "line": {
          "color": "#402575",
          "width": 2
         },
         "mode": "lines",
         "showlegend": false,
         "text": "Model: MIROC6_r1i1p1f1<br>SSP: ssp126<br>Change: 4.66 °C",
         "type": "scatter",
         "x": [
          4.65679629,
          5.12342563
         ],
         "y": [
          0,
          1
         ]
        },
        {
         "hoverinfo": "text",
         "line": {
          "color": "#91ADD3",
          "width": 2
         },
         "mode": "lines",
         "showlegend": false,
         "text": "Model: MIROC6_r1i1p1f1<br>SSP: ssp245<br>Change: 4.85 °C",
         "type": "scatter",
         "x": [
          4.8534210345,
          5.94405674
         ],
         "y": [
          0,
          1
         ]
        },
        {
         "hoverinfo": "text",
         "line": {
          "color": "#F19D6F",
          "width": 2
         },
         "mode": "lines",
         "showlegend": false,
         "text": "Model: MIROC6_r1i1p1f1<br>SSP: ssp370<br>Change: 5.70 °C",
         "type": "scatter",
         "x": [
          5.69978253,
          6.316791385
         ],
         "y": [
          0,
          1
         ]
        },
        {
         "hoverinfo": "text",
         "line": {
          "color": "#E64139",
          "width": 2
         },
         "mode": "lines",
         "showlegend": false,
         "text": "Model: MIROC6_r1i1p1f1<br>SSP: ssp585<br>Change: 5.23 °C",
         "type": "scatter",
         "x": [
          5.23326616,
          6.956664205000001
         ],
         "y": [
          0,
          1
         ]
        },
        {
         "hoverinfo": "text",
         "line": {
          "color": "#402575",
          "width": 2
         },
         "mode": "lines",
         "showlegend": false,
         "text": "Model: mmm<br>SSP: ssp126<br>Impact: 5.12 °C",
         "type": "scatter",
         "x": [
          5.12342563,
          5.12342563
         ],
         "y": [
          1,
          2
         ]
        },
        {
         "hoverinfo": "text",
         "line": {
          "color": "#91ADD3",
          "width": 2
         },
         "mode": "lines",
         "showlegend": false,
         "text": "Model: mmm<br>SSP: ssp245<br>Impact: 5.94 °C",
         "type": "scatter",
         "x": [
          5.94405674,
          5.94405674
         ],
         "y": [
          1,
          2
         ]
        },
        {
         "hoverinfo": "text",
         "line": {
          "color": "#F19D6F",
          "width": 2
         },
         "mode": "lines",
         "showlegend": false,
         "text": "Model: mmm<br>SSP: ssp370<br>Impact: 6.32 °C",
         "type": "scatter",
         "x": [
          6.316791385,
          6.316791385
         ],
         "y": [
          1,
          2
         ]
        },
        {
         "hoverinfo": "text",
         "line": {
          "color": "#E64139",
          "width": 2
         },
         "mode": "lines",
         "showlegend": false,
         "text": "Model: mmm<br>SSP: ssp585<br>Impact: 6.96 °C",
         "type": "scatter",
         "x": [
          6.956664205000001,
          6.956664205000001
         ],
         "y": [
          1,
          2
         ]
        },
        {
         "hoverinfo": "text",
         "line": {
          "color": "#402575",
          "width": 2
         },
         "mode": "lines",
         "showlegend": false,
         "text": "Model: CNRM-CM6-1_r1i1p1f2<br>SSP: ssp126<br>Change: 4.49 °C",
         "type": "scatter",
         "x": [
          4.4944471353,
          5.12342563
         ],
         "y": [
          0,
          1
         ]
        },
        {
         "hoverinfo": "text",
         "line": {
          "color": "#91ADD3",
          "width": 2
         },
         "mode": "lines",
         "showlegend": false,
         "text": "Model: CNRM-CM6-1_r1i1p1f2<br>SSP: ssp245<br>Change: 4.77 °C",
         "type": "scatter",
         "x": [
          4.76958365,
          5.94405674
         ],
         "y": [
          0,
          1
         ]
        },
        {
         "hoverinfo": "text",
         "line": {
          "color": "#F19D6F",
          "width": 2
         },
         "mode": "lines",
         "showlegend": false,
         "text": "Model: CNRM-CM6-1_r1i1p1f2<br>SSP: ssp370<br>Change: 6.26 °C",
         "type": "scatter",
         "x": [
          6.259713135,
          6.316791385
         ],
         "y": [
          0,
          1
         ]
        },
        {
         "hoverinfo": "text",
         "line": {
          "color": "#E64139",
          "width": 2
         },
         "mode": "lines",
         "showlegend": false,
         "text": "Model: CNRM-CM6-1_r1i1p1f2<br>SSP: ssp585<br>Change: 5.51 °C",
         "type": "scatter",
         "x": [
          5.513209950999999,
          6.956664205000001
         ],
         "y": [
          0,
          1
         ]
        },
        {
         "hoverinfo": "text",
         "line": {
          "color": "#402575",
          "width": 2
         },
         "mode": "lines",
         "showlegend": false,
         "text": "Model: MRI-ESM2-0_r1i1p1f1<br>SSP: ssp126<br>Change: 4.70 °C",
         "type": "scatter",
         "x": [
          4.696232247999999,
          5.12342563
         ],
         "y": [
          0,
          1
         ]
        },
        {
         "hoverinfo": "text",
         "line": {
          "color": "#91ADD3",
          "width": 2
         },
         "mode": "lines",
         "showlegend": false,
         "text": "Model: MRI-ESM2-0_r1i1p1f1<br>SSP: ssp245<br>Change: 6.86 °C",
         "type": "scatter",
         "x": [
          6.8630677800000015,
          5.94405674
         ],
         "y": [
          0,
          1
         ]
        },
        {
         "hoverinfo": "text",
         "line": {
          "color": "#F19D6F",
          "width": 2
         },
         "mode": "lines",
         "showlegend": false,
         "text": "Model: MRI-ESM2-0_r1i1p1f1<br>SSP: ssp370<br>Change: 6.90 °C",
         "type": "scatter",
         "x": [
          6.90353688,
          6.316791385
         ],
         "y": [
          0,
          1
         ]
        },
        {
         "hoverinfo": "text",
         "line": {
          "color": "#E64139",
          "width": 2
         },
         "mode": "lines",
         "showlegend": false,
         "text": "Model: MRI-ESM2-0_r1i1p1f1<br>SSP: ssp585<br>Change: 6.53 °C",
         "type": "scatter",
         "x": [
          6.52927507,
          6.956664205000001
         ],
         "y": [
          0,
          1
         ]
        },
        {
         "hoverinfo": "text",
         "line": {
          "color": "#402575",
          "width": 2
         },
         "mode": "lines",
         "showlegend": false,
         "text": "Model: BCC-CSM2-MR_r1i1p1f1<br>SSP: ssp126<br>Change: 5.59 °C",
         "type": "scatter",
         "x": [
          5.588197402,
          5.12342563
         ],
         "y": [
          0,
          1
         ]
        },
        {
         "hoverinfo": "text",
         "line": {
          "color": "#91ADD3",
          "width": 2
         },
         "mode": "lines",
         "showlegend": false,
         "text": "Model: BCC-CSM2-MR_r1i1p1f1<br>SSP: ssp245<br>Change: 5.39 °C",
         "type": "scatter",
         "x": [
          5.393552085,
          5.94405674
         ],
         "y": [
          0,
          1
         ]
        },
        {
         "hoverinfo": "text",
         "line": {
          "color": "#F19D6F",
          "width": 2
         },
         "mode": "lines",
         "showlegend": false,
         "text": "Model: BCC-CSM2-MR_r1i1p1f1<br>SSP: ssp370<br>Change: 7.36 °C",
         "type": "scatter",
         "x": [
          7.35741717,
          6.316791385
         ],
         "y": [
          0,
          1
         ]
        },
        {
         "hoverinfo": "text",
         "line": {
          "color": "#E64139",
          "width": 2
         },
         "mode": "lines",
         "showlegend": false,
         "text": "Model: BCC-CSM2-MR_r1i1p1f1<br>SSP: ssp585<br>Change: 7.90 °C",
         "type": "scatter",
         "x": [
          7.9049803,
          6.956664205000001
         ],
         "y": [
          0,
          1
         ]
        },
        {
         "hoverinfo": "text",
         "line": {
          "color": "#402575",
          "width": 2
         },
         "mode": "lines",
         "showlegend": false,
         "text": "Model: MPI-ESM1-2-LR_r1i1p1f1<br>SSP: ssp126<br>Change: 5.59 °C",
         "type": "scatter",
         "x": [
          5.591037820000001,
          5.12342563
         ],
         "y": [
          0,
          1
         ]
        },
        {
         "hoverinfo": "text",
         "line": {
          "color": "#91ADD3",
          "width": 2
         },
         "mode": "lines",
         "showlegend": false,
         "text": "Model: MPI-ESM1-2-LR_r1i1p1f1<br>SSP: ssp245<br>Change: 6.20 °C",
         "type": "scatter",
         "x": [
          6.19928842,
          5.94405674
         ],
         "y": [
          0,
          1
         ]
        },
        {
         "hoverinfo": "text",
         "line": {
          "color": "#F19D6F",
          "width": 2
         },
         "mode": "lines",
         "showlegend": false,
         "text": "Model: MPI-ESM1-2-LR_r1i1p1f1<br>SSP: ssp370<br>Change: 6.03 °C",
         "type": "scatter",
         "x": [
          6.02975537,
          6.316791385
         ],
         "y": [
          0,
          1
         ]
        },
        {
         "hoverinfo": "text",
         "line": {
          "color": "#E64139",
          "width": 2
         },
         "mode": "lines",
         "showlegend": false,
         "text": "Model: MPI-ESM1-2-LR_r1i1p1f1<br>SSP: ssp585<br>Change: 6.66 °C",
         "type": "scatter",
         "x": [
          6.658840925,
          6.956664205000001
         ],
         "y": [
          0,
          1
         ]
        },
        {
         "hoverinfo": "text",
         "line": {
          "color": "#402575",
          "width": 2
         },
         "mode": "lines",
         "showlegend": false,
         "text": "Model: INM-CM5-0_r1i1p1f1<br>SSP: ssp126<br>Change: 3.99 °C",
         "type": "scatter",
         "x": [
          3.98979274,
          5.12342563
         ],
         "y": [
          0,
          1
         ]
        },
        {
         "hoverinfo": "text",
         "line": {
          "color": "#91ADD3",
          "width": 2
         },
         "mode": "lines",
         "showlegend": false,
         "text": "Model: INM-CM5-0_r1i1p1f1<br>SSP: ssp245<br>Change: 3.82 °C",
         "type": "scatter",
         "x": [
          3.817708095,
          5.94405674
         ],
         "y": [
          0,
          1
         ]
        },
        {
         "hoverinfo": "text",
         "line": {
          "color": "#F19D6F",
          "width": 2
         },
         "mode": "lines",
         "showlegend": false,
         "text": "Model: INM-CM5-0_r1i1p1f1<br>SSP: ssp370<br>Change: 5.97 °C",
         "type": "scatter",
         "x": [
          5.971701052999999,
          6.316791385
         ],
         "y": [
          0,
          1
         ]
        },
        {
         "hoverinfo": "text",
         "line": {
          "color": "#E64139",
          "width": 2
         },
         "mode": "lines",
         "showlegend": false,
         "text": "Model: INM-CM5-0_r1i1p1f1<br>SSP: ssp585<br>Change: 6.59 °C",
         "type": "scatter",
         "x": [
          6.58721999,
          6.956664205000001
         ],
         "y": [
          0,
          1
         ]
        },
        {
         "hoverinfo": "text",
         "line": {
          "color": "#402575",
          "width": 2
         },
         "mode": "lines",
         "showlegend": false,
         "text": "Model: CNRM-CM6-1-HR_r1i1p1f2<br>SSP: ssp126<br>Change: 7.73 °C",
         "type": "scatter",
         "x": [
          7.731476424999999,
          5.12342563
         ],
         "y": [
          0,
          1
         ]
        },
        {
         "hoverinfo": "text",
         "line": {
          "color": "#E64139",
          "width": 2
         },
         "mode": "lines",
         "showlegend": false,
         "text": "Model: CNRM-CM6-1-HR_r1i1p1f2<br>SSP: ssp585<br>Change: 8.78 °C",
         "type": "scatter",
         "x": [
          8.779341435000001,
          6.956664205000001
         ],
         "y": [
          0,
          1
         ]
        },
        {
         "hoverinfo": "text",
         "line": {
          "color": "#402575",
          "width": 2
         },
         "mode": "lines",
         "showlegend": false,
         "text": "Model: MPI-ESM1-2-HR_r1i1p1f1<br>SSP: ssp126<br>Change: 6.34 °C",
         "type": "scatter",
         "x": [
          6.338976315000001,
          5.12342563
         ],
         "y": [
          0,
          1
         ]
        },
        {
         "hoverinfo": "text",
         "line": {
          "color": "#91ADD3",
          "width": 2
         },
         "mode": "lines",
         "showlegend": false,
         "text": "Model: MPI-ESM1-2-HR_r1i1p1f1<br>SSP: ssp245<br>Change: 4.70 °C",
         "type": "scatter",
         "x": [
          4.701465537,
          5.94405674
         ],
         "y": [
          0,
          1
         ]
        },
        {
         "hoverinfo": "text",
         "line": {
          "color": "#F19D6F",
          "width": 2
         },
         "mode": "lines",
         "showlegend": false,
         "text": "Model: MPI-ESM1-2-HR_r1i1p1f1<br>SSP: ssp370<br>Change: 8.06 °C",
         "type": "scatter",
         "x": [
          8.056150194999997,
          6.316791385
         ],
         "y": [
          0,
          1
         ]
        },
        {
         "hoverinfo": "text",
         "line": {
          "color": "#E64139",
          "width": 2
         },
         "mode": "lines",
         "showlegend": false,
         "text": "Model: MPI-ESM1-2-HR_r1i1p1f1<br>SSP: ssp585<br>Change: 5.67 °C",
         "type": "scatter",
         "x": [
          5.666216786000001,
          6.956664205000001
         ],
         "y": [
          0,
          1
         ]
        },
        {
         "hoverinfo": "text",
         "line": {
          "color": "#402575",
          "width": 2
         },
         "mode": "lines",
         "showlegend": false,
         "text": "Model: GFDL-ESM4_r1i1p1f1<br>SSP: ssp126<br>Change: 3.63 °C",
         "type": "scatter",
         "x": [
          3.63488164,
          5.12342563
         ],
         "y": [
          0,
          1
         ]
        },
        {
         "hoverinfo": "text",
         "line": {
          "color": "#91ADD3",
          "width": 2
         },
         "mode": "lines",
         "showlegend": false,
         "text": "Model: GFDL-ESM4_r1i1p1f1<br>SSP: ssp245<br>Change: 4.37 °C",
         "type": "scatter",
         "x": [
          4.36790136,
          5.94405674
         ],
         "y": [
          0,
          1
         ]
        },
        {
         "hoverinfo": "text",
         "line": {
          "color": "#F19D6F",
          "width": 2
         },
         "mode": "lines",
         "showlegend": false,
         "text": "Model: GFDL-ESM4_r1i1p1f1<br>SSP: ssp370<br>Change: 4.87 °C",
         "type": "scatter",
         "x": [
          4.871094435,
          6.316791385
         ],
         "y": [
          0,
          1
         ]
        },
        {
         "hoverinfo": "text",
         "line": {
          "color": "#E64139",
          "width": 2
         },
         "mode": "lines",
         "showlegend": false,
         "text": "Model: GFDL-ESM4_r1i1p1f1<br>SSP: ssp585<br>Change: 5.09 °C",
         "type": "scatter",
         "x": [
          5.08833199,
          6.956664205000001
         ],
         "y": [
          0,
          1
         ]
        },
        {
         "hoverinfo": "text",
         "line": {
          "color": "#402575",
          "width": 2
         },
         "mode": "lines",
         "showlegend": false,
         "text": "Model: KACE-1-0-G_r2i1p1f1<br>SSP: ssp126<br>Change: 9.43 °C",
         "type": "scatter",
         "x": [
          9.428305024999998,
          5.12342563
         ],
         "y": [
          0,
          1
         ]
        },
        {
         "hoverinfo": "text",
         "line": {
          "color": "#91ADD3",
          "width": 2
         },
         "mode": "lines",
         "showlegend": false,
         "text": "Model: KACE-1-0-G_r2i1p1f1<br>SSP: ssp245<br>Change: 11.14 °C",
         "type": "scatter",
         "x": [
          11.141056125,
          5.94405674
         ],
         "y": [
          0,
          1
         ]
        },
        {
         "hoverinfo": "text",
         "line": {
          "color": "#F19D6F",
          "width": 2
         },
         "mode": "lines",
         "showlegend": false,
         "text": "Model: KACE-1-0-G_r2i1p1f1<br>SSP: ssp370<br>Change: 11.75 °C",
         "type": "scatter",
         "x": [
          11.7471217,
          6.316791385
         ],
         "y": [
          0,
          1
         ]
        },
        {
         "hoverinfo": "text",
         "line": {
          "color": "#E64139",
          "width": 2
         },
         "mode": "lines",
         "showlegend": false,
         "text": "Model: KACE-1-0-G_r2i1p1f1<br>SSP: ssp585<br>Change: 12.42 °C",
         "type": "scatter",
         "x": [
          12.415700025000003,
          6.956664205000001
         ],
         "y": [
          0,
          1
         ]
        },
        {
         "hoverinfo": "text",
         "line": {
          "color": "#402575",
          "width": 2
         },
         "mode": "lines",
         "showlegend": false,
         "text": "Model: IPSL-CM6A-LR_r1i1p1f1<br>SSP: ssp126<br>Change: 6.01 °C",
         "type": "scatter",
         "x": [
          6.005362228499999,
          5.12342563
         ],
         "y": [
          0,
          1
         ]
        },
        {
         "hoverinfo": "text",
         "line": {
          "color": "#91ADD3",
          "width": 2
         },
         "mode": "lines",
         "showlegend": false,
         "text": "Model: IPSL-CM6A-LR_r1i1p1f1<br>SSP: ssp245<br>Change: 6.31 °C",
         "type": "scatter",
         "x": [
          6.310807746,
          5.94405674
         ],
         "y": [
          0,
          1
         ]
        },
        {
         "hoverinfo": "text",
         "line": {
          "color": "#F19D6F",
          "width": 2
         },
         "mode": "lines",
         "showlegend": false,
         "text": "Model: IPSL-CM6A-LR_r1i1p1f1<br>SSP: ssp370<br>Change: 7.46 °C",
         "type": "scatter",
         "x": [
          7.45790962,
          6.316791385
         ],
         "y": [
          0,
          1
         ]
        },
        {
         "hoverinfo": "text",
         "line": {
          "color": "#E64139",
          "width": 2
         },
         "mode": "lines",
         "showlegend": false,
         "text": "Model: IPSL-CM6A-LR_r1i1p1f1<br>SSP: ssp585<br>Change: 8.21 °C",
         "type": "scatter",
         "x": [
          8.213758085,
          6.956664205000001
         ],
         "y": [
          0,
          1
         ]
        },
        {
         "hoverinfo": "text",
         "line": {
          "color": "#402575",
          "width": 2
         },
         "mode": "lines",
         "showlegend": false,
         "text": "Model: NESM3_r1i1p1f1<br>SSP: ssp126<br>Change: 7.78 °C",
         "type": "scatter",
         "x": [
          7.783739599999999,
          5.12342563
         ],
         "y": [
          0,
          1
         ]
        },
        {
         "hoverinfo": "text",
         "line": {
          "color": "#91ADD3",
          "width": 2
         },
         "mode": "lines",
         "showlegend": false,
         "text": "Model: NESM3_r1i1p1f1<br>SSP: ssp245<br>Change: 9.14 °C",
         "type": "scatter",
         "x": [
          9.14105442,
          5.94405674
         ],
         "y": [
          0,
          1
         ]
        },
        {
         "hoverinfo": "text",
         "line": {
          "color": "#E64139",
          "width": 2
         },
         "mode": "lines",
         "showlegend": false,
         "text": "Model: NESM3_r1i1p1f1<br>SSP: ssp585<br>Change: 10.24 °C",
         "type": "scatter",
         "x": [
          10.24160648,
          6.956664205000001
         ],
         "y": [
          0,
          1
         ]
        },
        {
         "hoverinfo": "text",
         "line": {
          "color": "#402575",
          "width": 2
         },
         "mode": "lines",
         "showlegend": false,
         "text": "Model: MIROC-ES2L_r1i1p1f2<br>SSP: ssp126<br>Change: 4.22 °C",
         "type": "scatter",
         "x": [
          4.2241419350000005,
          5.12342563
         ],
         "y": [
          0,
          1
         ]
        },
        {
         "hoverinfo": "text",
         "line": {
          "color": "#91ADD3",
          "width": 2
         },
         "mode": "lines",
         "showlegend": false,
         "text": "Model: MIROC-ES2L_r1i1p1f2<br>SSP: ssp245<br>Change: 6.09 °C",
         "type": "scatter",
         "x": [
          6.089988645,
          5.94405674
         ],
         "y": [
          0,
          1
         ]
        },
        {
         "hoverinfo": "text",
         "line": {
          "color": "#F19D6F",
          "width": 2
         },
         "mode": "lines",
         "showlegend": false,
         "text": "Model: MIROC-ES2L_r1i1p1f2<br>SSP: ssp370<br>Change: 5.44 °C",
         "type": "scatter",
         "x": [
          5.435920255,
          6.316791385
         ],
         "y": [
          0,
          1
         ]
        },
        {
         "hoverinfo": "text",
         "line": {
          "color": "#E64139",
          "width": 2
         },
         "mode": "lines",
         "showlegend": false,
         "text": "Model: MIROC-ES2L_r1i1p1f2<br>SSP: ssp585<br>Change: 6.45 °C",
         "type": "scatter",
         "x": [
          6.452401915,
          6.956664205000001
         ],
         "y": [
          0,
          1
         ]
        },
        {
         "hoverinfo": "text",
         "line": {
          "color": "#402575",
          "width": 2
         },
         "mode": "lines",
         "showlegend": false,
         "text": "Model: ACCESS-CM2_r1i1p1f1<br>SSP: ssp126<br>Change: 5.22 °C",
         "type": "scatter",
         "x": [
          5.22057948,
          5.12342563
         ],
         "y": [
          0,
          1
         ]
        },
        {
         "hoverinfo": "text",
         "line": {
          "color": "#91ADD3",
          "width": 2
         },
         "mode": "lines",
         "showlegend": false,
         "text": "Model: ACCESS-CM2_r1i1p1f1<br>SSP: ssp245<br>Change: 5.86 °C",
         "type": "scatter",
         "x": [
          5.860120109999999,
          5.94405674
         ],
         "y": [
          0,
          1
         ]
        },
        {
         "hoverinfo": "text",
         "line": {
          "color": "#F19D6F",
          "width": 2
         },
         "mode": "lines",
         "showlegend": false,
         "text": "Model: ACCESS-CM2_r1i1p1f1<br>SSP: ssp370<br>Change: 5.15 °C",
         "type": "scatter",
         "x": [
          5.154716155000001,
          6.316791385
         ],
         "y": [
          0,
          1
         ]
        },
        {
         "hoverinfo": "text",
         "line": {
          "color": "#E64139",
          "width": 2
         },
         "mode": "lines",
         "showlegend": false,
         "text": "Model: ACCESS-CM2_r1i1p1f1<br>SSP: ssp585<br>Change: 6.30 °C",
         "type": "scatter",
         "x": [
          6.298848445,
          6.956664205000001
         ],
         "y": [
          0,
          1
         ]
        },
        {
         "hoverinfo": "text",
         "line": {
          "color": "#402575",
          "width": 2
         },
         "mode": "lines",
         "showlegend": false,
         "text": "Model: HadGEM3-GC31-LL_r1i1p1f3<br>SSP: ssp126<br>Change: 5.27 °C",
         "type": "scatter",
         "x": [
          5.271956475,
          5.12342563
         ],
         "y": [
          0,
          1
         ]
        },
        {
         "hoverinfo": "text",
         "line": {
          "color": "#91ADD3",
          "width": 2
         },
         "mode": "lines",
         "showlegend": false,
         "text": "Model: HadGEM3-GC31-LL_r1i1p1f3<br>SSP: ssp245<br>Change: 5.65 °C",
         "type": "scatter",
         "x": [
          5.6480741000000005,
          5.94405674
         ],
         "y": [
          0,
          1
         ]
        },
        {
         "hoverinfo": "text",
         "line": {
          "color": "#E64139",
          "width": 2
         },
         "mode": "lines",
         "showlegend": false,
         "text": "Model: HadGEM3-GC31-LL_r1i1p1f3<br>SSP: ssp585<br>Change: 7.55 °C",
         "type": "scatter",
         "x": [
          7.5496399950000015,
          6.956664205000001
         ],
         "y": [
          0,
          1
         ]
        },
        {
         "hoverinfo": "text",
         "line": {
          "color": "#402575",
          "width": 2
         },
         "mode": "lines",
         "showlegend": false,
         "text": "Model: NorESM2-MM_r1i1p1f1<br>SSP: ssp126<br>Change: 2.96 °C",
         "type": "scatter",
         "x": [
          2.957559175,
          5.12342563
         ],
         "y": [
          0,
          1
         ]
        },
        {
         "hoverinfo": "text",
         "line": {
          "color": "#91ADD3",
          "width": 2
         },
         "mode": "lines",
         "showlegend": false,
         "text": "Model: NorESM2-MM_r1i1p1f1<br>SSP: ssp245<br>Change: 2.84 °C",
         "type": "scatter",
         "x": [
          2.8434520345,
          5.94405674
         ],
         "y": [
          0,
          1
         ]
        },
        {
         "hoverinfo": "text",
         "line": {
          "color": "#F19D6F",
          "width": 2
         },
         "mode": "lines",
         "showlegend": false,
         "text": "Model: NorESM2-MM_r1i1p1f1<br>SSP: ssp370<br>Change: 2.80 °C",
         "type": "scatter",
         "x": [
          2.7979252895,
          6.316791385
         ],
         "y": [
          0,
          1
         ]
        },
        {
         "hoverinfo": "text",
         "line": {
          "color": "#E64139",
          "width": 2
         },
         "mode": "lines",
         "showlegend": false,
         "text": "Model: NorESM2-MM_r1i1p1f1<br>SSP: ssp585<br>Change: 3.30 °C",
         "type": "scatter",
         "x": [
          3.3020124975000003,
          6.956664205000001
         ],
         "y": [
          0,
          1
         ]
        },
        {
         "hoverinfo": "text",
         "line": {
          "color": "#402575",
          "width": 2
         },
         "mode": "lines",
         "showlegend": false,
         "text": "Model: EC-Earth3_r1i1p1f1<br>SSP: ssp126<br>Change: 6.18 °C",
         "type": "scatter",
         "x": [
          6.184014510000002,
          5.12342563
         ],
         "y": [
          0,
          1
         ]
        },
        {
         "hoverinfo": "text",
         "line": {
          "color": "#91ADD3",
          "width": 2
         },
         "mode": "lines",
         "showlegend": false,
         "text": "Model: EC-Earth3_r1i1p1f1<br>SSP: ssp245<br>Change: 7.08 °C",
         "type": "scatter",
         "x": [
          7.08493134,
          5.94405674
         ],
         "y": [
          0,
          1
         ]
        },
        {
         "hoverinfo": "text",
         "line": {
          "color": "#F19D6F",
          "width": 2
         },
         "mode": "lines",
         "showlegend": false,
         "text": "Model: EC-Earth3_r1i1p1f1<br>SSP: ssp370<br>Change: 7.43 °C",
         "type": "scatter",
         "x": [
          7.430064790000001,
          6.316791385
         ],
         "y": [
          0,
          1
         ]
        },
        {
         "hoverinfo": "text",
         "line": {
          "color": "#E64139",
          "width": 2
         },
         "mode": "lines",
         "showlegend": false,
         "text": "Model: EC-Earth3_r1i1p1f1<br>SSP: ssp585<br>Change: 8.20 °C",
         "type": "scatter",
         "x": [
          8.201489245000001,
          6.956664205000001
         ],
         "y": [
          0,
          1
         ]
        },
        {
         "hoverinfo": "text",
         "line": {
          "color": "#402575",
          "width": 2
         },
         "mode": "lines",
         "showlegend": false,
         "text": "Model: CanESM5_r1i1p1f1<br>SSP: ssp126<br>Change: 6.70 °C",
         "type": "scatter",
         "x": [
          6.698221940000001,
          5.12342563
         ],
         "y": [
          0,
          1
         ]
        },
        {
         "hoverinfo": "text",
         "line": {
          "color": "#91ADD3",
          "width": 2
         },
         "mode": "lines",
         "showlegend": false,
         "text": "Model: CanESM5_r1i1p1f1<br>SSP: ssp245<br>Change: 7.82 °C",
         "type": "scatter",
         "x": [
          7.815154124999999,
          5.94405674
         ],
         "y": [
          0,
          1
         ]
        },
        {
         "hoverinfo": "text",
         "line": {
          "color": "#F19D6F",
          "width": 2
         },
         "mode": "lines",
         "showlegend": false,
         "text": "Model: CanESM5_r1i1p1f1<br>SSP: ssp370<br>Change: 7.91 °C",
         "type": "scatter",
         "x": [
          7.909136035,
          6.316791385
         ],
         "y": [
          0,
          1
         ]
        },
        {
         "hoverinfo": "text",
         "line": {
          "color": "#E64139",
          "width": 2
         },
         "mode": "lines",
         "showlegend": false,
         "text": "Model: CanESM5_r1i1p1f1<br>SSP: ssp585<br>Change: 8.83 °C",
         "type": "scatter",
         "x": [
          8.829664075,
          6.956664205000001
         ],
         "y": [
          0,
          1
         ]
        },
        {
         "hoverinfo": "text",
         "line": {
          "color": "#402575",
          "width": 2
         },
         "mode": "lines",
         "showlegend": false,
         "text": "Model: EC-Earth3-Veg_r1i1p1f1<br>SSP: ssp126<br>Change: 7.10 °C",
         "type": "scatter",
         "x": [
          7.096959185,
          5.12342563
         ],
         "y": [
          0,
          1
         ]
        },
        {
         "hoverinfo": "text",
         "line": {
          "color": "#91ADD3",
          "width": 2
         },
         "mode": "lines",
         "showlegend": false,
         "text": "Model: EC-Earth3-Veg_r1i1p1f1<br>SSP: ssp245<br>Change: 10.01 °C",
         "type": "scatter",
         "x": [
          10.00840625,
          5.94405674
         ],
         "y": [
          0,
          1
         ]
        },
        {
         "hoverinfo": "text",
         "line": {
          "color": "#F19D6F",
          "width": 2
         },
         "mode": "lines",
         "showlegend": false,
         "text": "Model: EC-Earth3-Veg_r1i1p1f1<br>SSP: ssp370<br>Change: 9.63 °C",
         "type": "scatter",
         "x": [
          9.628036855,
          6.316791385
         ],
         "y": [
          0,
          1
         ]
        },
        {
         "hoverinfo": "text",
         "line": {
          "color": "#E64139",
          "width": 2
         },
         "mode": "lines",
         "showlegend": false,
         "text": "Model: EC-Earth3-Veg_r1i1p1f1<br>SSP: ssp585<br>Change: 10.97 °C",
         "type": "scatter",
         "x": [
          10.974532620000002,
          6.956664205000001
         ],
         "y": [
          0,
          1
         ]
        },
        {
         "hoverinfo": "text",
         "line": {
          "color": "#402575",
          "width": 2
         },
         "mode": "lines",
         "showlegend": false,
         "text": "Model: ACCESS-ESM1-5_r1i1p1f1<br>SSP: ssp126<br>Change: 3.14 °C",
         "type": "scatter",
         "x": [
          3.138711852,
          5.12342563
         ],
         "y": [
          0,
          1
         ]
        },
        {
         "hoverinfo": "text",
         "line": {
          "color": "#91ADD3",
          "width": 2
         },
         "mode": "lines",
         "showlegend": false,
         "text": "Model: ACCESS-ESM1-5_r1i1p1f1<br>SSP: ssp245<br>Change: 4.80 °C",
         "type": "scatter",
         "x": [
          4.802128685,
          5.94405674
         ],
         "y": [
          0,
          1
         ]
        },
        {
         "hoverinfo": "text",
         "line": {
          "color": "#F19D6F",
          "width": 2
         },
         "mode": "lines",
         "showlegend": false,
         "text": "Model: ACCESS-ESM1-5_r1i1p1f1<br>SSP: ssp370<br>Change: 3.91 °C",
         "type": "scatter",
         "x": [
          3.907652004999999,
          6.316791385
         ],
         "y": [
          0,
          1
         ]
        },
        {
         "hoverinfo": "text",
         "line": {
          "color": "#E64139",
          "width": 2
         },
         "mode": "lines",
         "showlegend": false,
         "text": "Model: ACCESS-ESM1-5_r1i1p1f1<br>SSP: ssp585<br>Change: 5.06 °C",
         "type": "scatter",
         "x": [
          5.063154420000001,
          6.956664205000001
         ],
         "y": [
          0,
          1
         ]
        },
        {
         "hoverinfo": "text",
         "line": {
          "color": "#402575",
          "width": 2
         },
         "mode": "lines",
         "showlegend": false,
         "text": "Model: KIOST-ESM_r1i1p1f1<br>SSP: ssp126<br>Change: 6.78 °C",
         "type": "scatter",
         "x": [
          6.779105230000001,
          5.12342563
         ],
         "y": [
          0,
          1
         ]
        },
        {
         "hoverinfo": "text",
         "line": {
          "color": "#91ADD3",
          "width": 2
         },
         "mode": "lines",
         "showlegend": false,
         "text": "Model: KIOST-ESM_r1i1p1f1<br>SSP: ssp245<br>Change: 7.02 °C",
         "type": "scatter",
         "x": [
          7.019994800000001,
          5.94405674
         ],
         "y": [
          0,
          1
         ]
        },
        {
         "hoverinfo": "text",
         "line": {
          "color": "#E64139",
          "width": 2
         },
         "mode": "lines",
         "showlegend": false,
         "text": "Model: KIOST-ESM_r1i1p1f1<br>SSP: ssp585<br>Change: 8.47 °C",
         "type": "scatter",
         "x": [
          8.469353940000001,
          6.956664205000001
         ],
         "y": [
          0,
          1
         ]
        },
        {
         "line": {
          "color": "#402575",
          "width": 4
         },
         "mode": "lines",
         "name": "ssp126",
         "type": "scatter",
         "x": [
          null
         ],
         "y": [
          null
         ]
        },
        {
         "line": {
          "color": "#91ADD3",
          "width": 4
         },
         "mode": "lines",
         "name": "ssp245",
         "type": "scatter",
         "x": [
          null
         ],
         "y": [
          null
         ]
        },
        {
         "line": {
          "color": "#F19D6F",
          "width": 4
         },
         "mode": "lines",
         "name": "ssp370",
         "type": "scatter",
         "x": [
          null
         ],
         "y": [
          null
         ]
        },
        {
         "line": {
          "color": "#E64139",
          "width": 4
         },
         "mode": "lines",
         "name": "ssp585",
         "type": "scatter",
         "x": [
          null
         ],
         "y": [
          null
         ]
        }
       ],
       "layout": {
        "height": 500,
        "legend": {
         "orientation": "h",
         "x": 0.5,
         "xanchor": "center",
         "y": 1.05,
         "yanchor": "top"
        },
        "margin": {
         "b": 50,
         "l": 20,
         "r": 20,
         "t": 50
        },
        "paper_bgcolor": "white",
        "plot_bgcolor": "white",
        "template": {
         "data": {
          "bar": [
           {
            "error_x": {
             "color": "#2a3f5f"
            },
            "error_y": {
             "color": "#2a3f5f"
            },
            "marker": {
             "line": {
              "color": "#E5ECF6",
              "width": 0.5
             },
             "pattern": {
              "fillmode": "overlay",
              "size": 10,
              "solidity": 0.2
             }
            },
            "type": "bar"
           }
          ],
          "barpolar": [
           {
            "marker": {
             "line": {
              "color": "#E5ECF6",
              "width": 0.5
             },
             "pattern": {
              "fillmode": "overlay",
              "size": 10,
              "solidity": 0.2
             }
            },
            "type": "barpolar"
           }
          ],
          "carpet": [
           {
            "aaxis": {
             "endlinecolor": "#2a3f5f",
             "gridcolor": "white",
             "linecolor": "white",
             "minorgridcolor": "white",
             "startlinecolor": "#2a3f5f"
            },
            "baxis": {
             "endlinecolor": "#2a3f5f",
             "gridcolor": "white",
             "linecolor": "white",
             "minorgridcolor": "white",
             "startlinecolor": "#2a3f5f"
            },
            "type": "carpet"
           }
          ],
          "choropleth": [
           {
            "colorbar": {
             "outlinewidth": 0,
             "ticks": ""
            },
            "type": "choropleth"
           }
          ],
          "contour": [
           {
            "colorbar": {
             "outlinewidth": 0,
             "ticks": ""
            },
            "colorscale": [
             [
              0,
              "#0d0887"
             ],
             [
              0.1111111111111111,
              "#46039f"
             ],
             [
              0.2222222222222222,
              "#7201a8"
             ],
             [
              0.3333333333333333,
              "#9c179e"
             ],
             [
              0.4444444444444444,
              "#bd3786"
             ],
             [
              0.5555555555555556,
              "#d8576b"
             ],
             [
              0.6666666666666666,
              "#ed7953"
             ],
             [
              0.7777777777777778,
              "#fb9f3a"
             ],
             [
              0.8888888888888888,
              "#fdca26"
             ],
             [
              1,
              "#f0f921"
             ]
            ],
            "type": "contour"
           }
          ],
          "contourcarpet": [
           {
            "colorbar": {
             "outlinewidth": 0,
             "ticks": ""
            },
            "type": "contourcarpet"
           }
          ],
          "heatmap": [
           {
            "colorbar": {
             "outlinewidth": 0,
             "ticks": ""
            },
            "colorscale": [
             [
              0,
              "#0d0887"
             ],
             [
              0.1111111111111111,
              "#46039f"
             ],
             [
              0.2222222222222222,
              "#7201a8"
             ],
             [
              0.3333333333333333,
              "#9c179e"
             ],
             [
              0.4444444444444444,
              "#bd3786"
             ],
             [
              0.5555555555555556,
              "#d8576b"
             ],
             [
              0.6666666666666666,
              "#ed7953"
             ],
             [
              0.7777777777777778,
              "#fb9f3a"
             ],
             [
              0.8888888888888888,
              "#fdca26"
             ],
             [
              1,
              "#f0f921"
             ]
            ],
            "type": "heatmap"
           }
          ],
          "heatmapgl": [
           {
            "colorbar": {
             "outlinewidth": 0,
             "ticks": ""
            },
            "colorscale": [
             [
              0,
              "#0d0887"
             ],
             [
              0.1111111111111111,
              "#46039f"
             ],
             [
              0.2222222222222222,
              "#7201a8"
             ],
             [
              0.3333333333333333,
              "#9c179e"
             ],
             [
              0.4444444444444444,
              "#bd3786"
             ],
             [
              0.5555555555555556,
              "#d8576b"
             ],
             [
              0.6666666666666666,
              "#ed7953"
             ],
             [
              0.7777777777777778,
              "#fb9f3a"
             ],
             [
              0.8888888888888888,
              "#fdca26"
             ],
             [
              1,
              "#f0f921"
             ]
            ],
            "type": "heatmapgl"
           }
          ],
          "histogram": [
           {
            "marker": {
             "pattern": {
              "fillmode": "overlay",
              "size": 10,
              "solidity": 0.2
             }
            },
            "type": "histogram"
           }
          ],
          "histogram2d": [
           {
            "colorbar": {
             "outlinewidth": 0,
             "ticks": ""
            },
            "colorscale": [
             [
              0,
              "#0d0887"
             ],
             [
              0.1111111111111111,
              "#46039f"
             ],
             [
              0.2222222222222222,
              "#7201a8"
             ],
             [
              0.3333333333333333,
              "#9c179e"
             ],
             [
              0.4444444444444444,
              "#bd3786"
             ],
             [
              0.5555555555555556,
              "#d8576b"
             ],
             [
              0.6666666666666666,
              "#ed7953"
             ],
             [
              0.7777777777777778,
              "#fb9f3a"
             ],
             [
              0.8888888888888888,
              "#fdca26"
             ],
             [
              1,
              "#f0f921"
             ]
            ],
            "type": "histogram2d"
           }
          ],
          "histogram2dcontour": [
           {
            "colorbar": {
             "outlinewidth": 0,
             "ticks": ""
            },
            "colorscale": [
             [
              0,
              "#0d0887"
             ],
             [
              0.1111111111111111,
              "#46039f"
             ],
             [
              0.2222222222222222,
              "#7201a8"
             ],
             [
              0.3333333333333333,
              "#9c179e"
             ],
             [
              0.4444444444444444,
              "#bd3786"
             ],
             [
              0.5555555555555556,
              "#d8576b"
             ],
             [
              0.6666666666666666,
              "#ed7953"
             ],
             [
              0.7777777777777778,
              "#fb9f3a"
             ],
             [
              0.8888888888888888,
              "#fdca26"
             ],
             [
              1,
              "#f0f921"
             ]
            ],
            "type": "histogram2dcontour"
           }
          ],
          "mesh3d": [
           {
            "colorbar": {
             "outlinewidth": 0,
             "ticks": ""
            },
            "type": "mesh3d"
           }
          ],
          "parcoords": [
           {
            "line": {
             "colorbar": {
              "outlinewidth": 0,
              "ticks": ""
             }
            },
            "type": "parcoords"
           }
          ],
          "pie": [
           {
            "automargin": true,
            "type": "pie"
           }
          ],
          "scatter": [
           {
            "fillpattern": {
             "fillmode": "overlay",
             "size": 10,
             "solidity": 0.2
            },
            "type": "scatter"
           }
          ],
          "scatter3d": [
           {
            "line": {
             "colorbar": {
              "outlinewidth": 0,
              "ticks": ""
             }
            },
            "marker": {
             "colorbar": {
              "outlinewidth": 0,
              "ticks": ""
             }
            },
            "type": "scatter3d"
           }
          ],
          "scattercarpet": [
           {
            "marker": {
             "colorbar": {
              "outlinewidth": 0,
              "ticks": ""
             }
            },
            "type": "scattercarpet"
           }
          ],
          "scattergeo": [
           {
            "marker": {
             "colorbar": {
              "outlinewidth": 0,
              "ticks": ""
             }
            },
            "type": "scattergeo"
           }
          ],
          "scattergl": [
           {
            "marker": {
             "colorbar": {
              "outlinewidth": 0,
              "ticks": ""
             }
            },
            "type": "scattergl"
           }
          ],
          "scattermapbox": [
           {
            "marker": {
             "colorbar": {
              "outlinewidth": 0,
              "ticks": ""
             }
            },
            "type": "scattermapbox"
           }
          ],
          "scatterpolar": [
           {
            "marker": {
             "colorbar": {
              "outlinewidth": 0,
              "ticks": ""
             }
            },
            "type": "scatterpolar"
           }
          ],
          "scatterpolargl": [
           {
            "marker": {
             "colorbar": {
              "outlinewidth": 0,
              "ticks": ""
             }
            },
            "type": "scatterpolargl"
           }
          ],
          "scatterternary": [
           {
            "marker": {
             "colorbar": {
              "outlinewidth": 0,
              "ticks": ""
             }
            },
            "type": "scatterternary"
           }
          ],
          "surface": [
           {
            "colorbar": {
             "outlinewidth": 0,
             "ticks": ""
            },
            "colorscale": [
             [
              0,
              "#0d0887"
             ],
             [
              0.1111111111111111,
              "#46039f"
             ],
             [
              0.2222222222222222,
              "#7201a8"
             ],
             [
              0.3333333333333333,
              "#9c179e"
             ],
             [
              0.4444444444444444,
              "#bd3786"
             ],
             [
              0.5555555555555556,
              "#d8576b"
             ],
             [
              0.6666666666666666,
              "#ed7953"
             ],
             [
              0.7777777777777778,
              "#fb9f3a"
             ],
             [
              0.8888888888888888,
              "#fdca26"
             ],
             [
              1,
              "#f0f921"
             ]
            ],
            "type": "surface"
           }
          ],
          "table": [
           {
            "cells": {
             "fill": {
              "color": "#EBF0F8"
             },
             "line": {
              "color": "white"
             }
            },
            "header": {
             "fill": {
              "color": "#C8D4E3"
             },
             "line": {
              "color": "white"
             }
            },
            "type": "table"
           }
          ]
         },
         "layout": {
          "annotationdefaults": {
           "arrowcolor": "#2a3f5f",
           "arrowhead": 0,
           "arrowwidth": 1
          },
          "autotypenumbers": "strict",
          "coloraxis": {
           "colorbar": {
            "outlinewidth": 0,
            "ticks": ""
           }
          },
          "colorscale": {
           "diverging": [
            [
             0,
             "#8e0152"
            ],
            [
             0.1,
             "#c51b7d"
            ],
            [
             0.2,
             "#de77ae"
            ],
            [
             0.3,
             "#f1b6da"
            ],
            [
             0.4,
             "#fde0ef"
            ],
            [
             0.5,
             "#f7f7f7"
            ],
            [
             0.6,
             "#e6f5d0"
            ],
            [
             0.7,
             "#b8e186"
            ],
            [
             0.8,
             "#7fbc41"
            ],
            [
             0.9,
             "#4d9221"
            ],
            [
             1,
             "#276419"
            ]
           ],
           "sequential": [
            [
             0,
             "#0d0887"
            ],
            [
             0.1111111111111111,
             "#46039f"
            ],
            [
             0.2222222222222222,
             "#7201a8"
            ],
            [
             0.3333333333333333,
             "#9c179e"
            ],
            [
             0.4444444444444444,
             "#bd3786"
            ],
            [
             0.5555555555555556,
             "#d8576b"
            ],
            [
             0.6666666666666666,
             "#ed7953"
            ],
            [
             0.7777777777777778,
             "#fb9f3a"
            ],
            [
             0.8888888888888888,
             "#fdca26"
            ],
            [
             1,
             "#f0f921"
            ]
           ],
           "sequentialminus": [
            [
             0,
             "#0d0887"
            ],
            [
             0.1111111111111111,
             "#46039f"
            ],
            [
             0.2222222222222222,
             "#7201a8"
            ],
            [
             0.3333333333333333,
             "#9c179e"
            ],
            [
             0.4444444444444444,
             "#bd3786"
            ],
            [
             0.5555555555555556,
             "#d8576b"
            ],
            [
             0.6666666666666666,
             "#ed7953"
            ],
            [
             0.7777777777777778,
             "#fb9f3a"
            ],
            [
             0.8888888888888888,
             "#fdca26"
            ],
            [
             1,
             "#f0f921"
            ]
           ]
          },
          "colorway": [
           "#636efa",
           "#EF553B",
           "#00cc96",
           "#ab63fa",
           "#FFA15A",
           "#19d3f3",
           "#FF6692",
           "#B6E880",
           "#FF97FF",
           "#FECB52"
          ],
          "font": {
           "color": "#2a3f5f"
          },
          "geo": {
           "bgcolor": "white",
           "lakecolor": "white",
           "landcolor": "#E5ECF6",
           "showlakes": true,
           "showland": true,
           "subunitcolor": "white"
          },
          "hoverlabel": {
           "align": "left"
          },
          "hovermode": "closest",
          "mapbox": {
           "style": "light"
          },
          "paper_bgcolor": "white",
          "plot_bgcolor": "#E5ECF6",
          "polar": {
           "angularaxis": {
            "gridcolor": "white",
            "linecolor": "white",
            "ticks": ""
           },
           "bgcolor": "#E5ECF6",
           "radialaxis": {
            "gridcolor": "white",
            "linecolor": "white",
            "ticks": ""
           }
          },
          "scene": {
           "xaxis": {
            "backgroundcolor": "#E5ECF6",
            "gridcolor": "white",
            "gridwidth": 2,
            "linecolor": "white",
            "showbackground": true,
            "ticks": "",
            "zerolinecolor": "white"
           },
           "yaxis": {
            "backgroundcolor": "#E5ECF6",
            "gridcolor": "white",
            "gridwidth": 2,
            "linecolor": "white",
            "showbackground": true,
            "ticks": "",
            "zerolinecolor": "white"
           },
           "zaxis": {
            "backgroundcolor": "#E5ECF6",
            "gridcolor": "white",
            "gridwidth": 2,
            "linecolor": "white",
            "showbackground": true,
            "ticks": "",
            "zerolinecolor": "white"
           }
          },
          "shapedefaults": {
           "line": {
            "color": "#2a3f5f"
           }
          },
          "ternary": {
           "aaxis": {
            "gridcolor": "white",
            "linecolor": "white",
            "ticks": ""
           },
           "baxis": {
            "gridcolor": "white",
            "linecolor": "white",
            "ticks": ""
           },
           "bgcolor": "#E5ECF6",
           "caxis": {
            "gridcolor": "white",
            "linecolor": "white",
            "ticks": ""
           }
          },
          "title": {
           "x": 0.05
          },
          "xaxis": {
           "automargin": true,
           "gridcolor": "white",
           "linecolor": "white",
           "ticks": "",
           "title": {
            "standoff": 15
           },
           "zerolinecolor": "white",
           "zerolinewidth": 2
          },
          "yaxis": {
           "automargin": true,
           "gridcolor": "white",
           "linecolor": "white",
           "ticks": "",
           "title": {
            "standoff": 15
           },
           "zerolinecolor": "white",
           "zerolinewidth": 2
          }
         }
        },
        "title": {
         "text": "Projected changes CMIP6 in NEU for Minimum of Minimum Temperature during year between 2041-2060",
         "x": 0.5,
         "xanchor": "center"
        },
        "xaxis": {
         "linecolor": "black",
         "linewidth": 1,
         "range": [
          0.9679686326999998,
          12.960830091300004
         ],
         "showgrid": false,
         "showline": true,
         "tickcolor": "black",
         "ticklen": 3,
         "tickmode": "auto",
         "ticks": "outside",
         "tickwidth": 1,
         "title": {
          "text": "Change in Minimum of Minimum Temperature [°C]"
         },
         "zeroline": false
        },
        "yaxis": {
         "showgrid": false,
         "tickmode": "array",
         "ticktext": [
          "Model",
          "SSP",
          ""
         ],
         "tickvals": [
          0,
          1,
          2
         ],
         "zeroline": false
        }
       }
      }
     },
     "metadata": {},
     "output_type": "display_data"
    }
   ],
   "source": [
    "######## replace with code from html with js\n",
    "from cascade_plot_widget import plot_widget\n",
    "plot_widget()"
   ]
  },
  {
   "cell_type": "markdown",
   "metadata": {},
   "source": [
    "### Latvian example"
   ]
  },
  {
   "cell_type": "markdown",
   "metadata": {},
   "source": [
    "-\tTotal precip\n",
    "Average SSP: increase\n",
    "Spread: increase\n",
    "\n",
    "\n",
    "- snow accumulation\n",
    "SSP average: decrease\n",
    "Spread: mostly decrease, however sometimes still increases.\n"
   ]
  },
  {
   "cell_type": "markdown",
   "metadata": {},
   "source": [
    "## 4.\tLook into IPCC reports why this occurs"
   ]
  },
  {
   "cell_type": "markdown",
   "metadata": {},
   "source": [
    "[some text]"
   ]
  },
  {
   "cell_type": "markdown",
   "metadata": {},
   "source": [
    "### Latvian example"
   ]
  },
  {
   "cell_type": "markdown",
   "metadata": {},
   "source": [
    "- Shifting circulation patterns (North Atlantic Oscilation) brings in more moist air\n",
    "- Snowfall decreases as temperatures rise \n"
   ]
  },
  {
   "cell_type": "code",
   "execution_count": null,
   "metadata": {},
   "outputs": [],
   "source": []
  }
 ],
 "metadata": {
  "kernelspec": {
   "display_name": "Python 3 (ipykernel)",
   "language": "python",
   "name": "python3"
  },
  "language_info": {
   "codemirror_mode": {
    "name": "ipython",
    "version": 3
   },
   "file_extension": ".py",
   "mimetype": "text/x-python",
   "name": "python",
   "nbconvert_exporter": "python",
   "pygments_lexer": "ipython3",
   "version": "3.11.4"
  }
 },
 "nbformat": 4,
 "nbformat_minor": 2
}
