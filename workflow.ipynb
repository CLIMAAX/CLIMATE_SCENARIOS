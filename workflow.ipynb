{
 "cells": [
  {
   "cell_type": "markdown",
   "metadata": {},
   "source": [
    "# Exploring future climate projections and plausibility"
   ]
  },
  {
   "cell_type": "markdown",
   "metadata": {},
   "source": [
    "An often-used resource to analyse future risks is the set of projections from climate models. The climate models analyse how weather patterns will change under different emission scenarios. The resulting estimates of climate conditions are often called projections. These projections help gain insight into what the world of tomorrow can look like in terms of average temperature increases, heavy rainfall estimates, heatwave days, dry spell duration, and much more. \n",
    "\n",
    "However, since there are many climate models that each have their own projections, we will discuss how we can make sense of these numbers and how we can explore a representative scenario range.\n",
    "\n"
   ]
  },
  {
   "cell_type": "markdown",
   "metadata": {},
   "source": [
    "## Theory"
   ]
  },
  {
   "cell_type": "markdown",
   "metadata": {},
   "source": [
    "### Many models, many different projections\n",
    "Across many climate model runs, many different climate conditions are projected. One reason for this variation is the number of emissions in the atmosphere that cause global warming. Another reason is that even within a similar emission scenario, different models behave differently because they represent the Earth's climate system differently. Since there is imperfect knowledge, models have varying assumptions and parameters, leading to varying outcomes. Lastly, there is what we call internal variability. This means that even for a projection with a similar emission scenario and the same climate model, there can be a different projection. This is due to the natural randomness of the weather. This randomness is especially present when considering changes at small scales.\n",
    "\n",
    "This means that for example, in the mid-century, some models might project significant droughts in a specific region, while another projection might show limited change in the same region. However, both are plausible scenarios. Here, we propose various ways to navigate these uncertainties.\n"
   ]
  },
  {
   "cell_type": "markdown",
   "metadata": {},
   "source": [
    "### Emission scenarios\n",
    "One way to analyse the group of projections from GCMs is by averaging the projections per emission scenario. Emission scenarios like RCPs (Representative Concentration Pathways) and SSPs (Shared Socioeconomic Pathways) are used to predict how the climate will change in the future due to human greenhouse gas emissions. These scenarios are often found in climate risk datasets and also used often here in the CLIMAAX workflows. A key strength of these scenarios is their focus on human-caused changes. To make the predictions more reliable, scientists average the results from multiple climate models, which helps smooth out uncertainties and natural climate variations.\n",
    "\n",
    "However, these scenarios can be tricky. Different climate models predict different changes in temperature and rainfall patterns, even with the same emissions levels, leading to a wide range of possible outcomes. By averaging the model projections, some important details can get lost.\n"
   ]
  },
  {
   "cell_type": "markdown",
   "metadata": {},
   "source": [
    "`````{admonition} What are SSPs?\n",
    ":class: hint dropdown\n",
    "\n",
    "Future climate projections are formulated around Shared Socioeconomic Pathways (SSPs), which are scenarios of projected socioeconomic global changes given the figure below. The lower SSP numbers represent more sustainable developments and a larger number of implemented climate mitigation measures, whereas SSP5 represents a continuation of former practices leading to the highest greenhouse gas emissions and most severe impacts of climate change.\n",
    "\n",
    "The full scenario names are identified by a name in the form of SSPx-y, where SSPx is the socioeconomic pathway used to model the scenario (as displayed in Figure 2‑2) and y is the so-called ‘radiatative forcing’ (in W/m2) resulting from the greenhouse gas emissions under the socio-economic scenario in the year 2100. The higher the greenhouse gas concentrations in the atmosphere, the larger both the radiative forcing and the temperature increase (IPCC, 2021).\n",
    "\n",
    "```{figure} images/SSP_picture.png\n",
    ":width: 400px\n",
    ":align: center\n",
    "\n",
    "Shared Socioeconomic Pathways mapped in the challenges to mitigation/adaptation space (copied from O’Neill et al., 2017).\n",
    "```\n",
    "`````"
   ]
  },
  {
   "cell_type": "markdown",
   "metadata": {},
   "source": [
    "`````{admonition} Global warming levels\n",
    ":class: hint dropdown\n",
    "\n",
    "Global Warming Levels (GWLs) are another way of aggregating model projections. Here, we don’t use emission scenarios as the main identifier, but we discuss levels of global temperature warming such as 1.5°C or 2°C. This offers a simpler, outcome-focused way to assess climate change impacts. Instead of focusing on uncertain emissions pathways, GWLs allow us to directly explore the risks associated with different levels of warming, which can be more intuitive for planning and decision-making. This approach sidesteps some of the uncertainties tied to future emissions and helps focus on the temperature outcomes that matter most for adaptation. However, as with emission scenarios, uncertainty remains about how other climate variables respond to a level of global warming. Averaging might lead to an important loss of detail.\n",
    "`````"
   ]
  },
  {
   "cell_type": "markdown",
   "metadata": {},
   "source": [
    "### Exploring Plausibility\n",
    "Because projections can vary widely, it is important to explore the range of plausibility. One can learn by looking into plausible changes in locally relevant climatic impact drivers like rainfall, temperature extremes, or dry spell duration. This approach provides a more comprehensive understanding of what could happen in a specific region, going beyond the limitations of model averages. We gain deeper insights into changes in local vulnerabilities. The added granularity of projection can help decision-makers address a wider range of future scenarios."
   ]
  },
  {
   "cell_type": "markdown",
   "metadata": {},
   "source": [
    "`````{admonition} CMIP vs CORDEX\n",
    ":class: hint dropdown\n",
    "\n",
    "When exploring future climate scenarios, you can use either CMIP6 or CORDEX data. CMIP6 is the latest global model, but CORDEX is a downscaled version of the older CMIP5 data, which tries to capture small-scale variations better. CORDEX can, therefore, be more useful for local and regional studies. CMIP6 has a resolution of 50 to 100km, while CORDEX can reach a resolution of 12 to 25km, making it more applicable to the regional scale.\n",
    "`````"
   ]
  },
  {
   "cell_type": "markdown",
   "metadata": {},
   "source": [
    "## Excercise\n",
    "But how do we put the knowledge provided above into practice? In this excercies, we will explore the range of potential climate futures for your region and help you discover why these changes occur. These plausible changes are accompanied by individual climate models that can be reviewed for future weather patterns in one of the other CLIMAAX risk workflows. To help guide you we have worked out and example. We highlighted each of the steps using a real-life example in Latvia. Be sure to expand the Latvian example section if you want to see how we execute and interprete each step for a real study.\n",
    "\n",
    "\n",
    "This page will go through the following steps: \n",
    "1. Define locally relevant climatic impact drivers\n",
    "1. Collect observation trends\n",
    "1. Collect simulation trends\n",
    "1. Look into IPCC reports why this occurs\n",
    "1. Advanced steps"
   ]
  },
  {
   "cell_type": "markdown",
   "metadata": {},
   "source": [
    "`````{admonition} Latvian example\n",
    ":class: note dropdown\n",
    "\n",
    "For our example, we take the Lielupe basin, covering parts of Lithuania and Latvia. For Latvia, the basin has been characterised as a flood zone of national importance. See the figure below for an indication of the flood challenges in the region. Information on how these floods will develop in the future is of significant value as more and more adaptation plans and investments will need to be made as we head into the mid-century. \n",
    "\n",
    "```{figure} images/latvia_example/Latvia_flood.png\n",
    ":width: 400px\n",
    ":align: center\n",
    "\n",
    "Flood extent in the Lielupe Basin\n",
    "```\n",
    "`````"
   ]
  },
  {
   "cell_type": "markdown",
   "metadata": {},
   "source": [
    "### 1. Define locally relevant climatic impact drivers"
   ]
  },
  {
   "cell_type": "markdown",
   "metadata": {},
   "source": [
    "Begin by identifying the specific climatic conditions that contribute to your climate-related challenge. The more specific you can be, the easier it will be to track changes and predict future hazards. Below is a set of key climate variables that can be explored on a yearly basis or seasonally."
   ]
  },
  {
   "cell_type": "markdown",
   "metadata": {},
   "source": [
    "- Mean Temperature\n",
    "- Minimum Temperature\n",
    "- Minimum of Minimum Temperature\n",
    "- Frost Days\n",
    "- Heating Degree Days\n",
    "- Maximum Temperature\n",
    "- Maximum of Maximum Temperature\n",
    "- Days with Temperature > 35°C\n",
    "- Days with Temperature > 35°C (Bias Corrected)\n",
    "- Days with Temperature > 40°C\n",
    "- Days with Temperature > 40°C (Bias Corrected)\n",
    "- Cooling Degree Days\n",
    "- Total Precipitation\n",
    "- Maximum 1-Day Precipitation\n",
    "- Maximum 5-Day Precipitation\n",
    "- Consecutive Dry Days\n",
    "- Standardized Precipitation Index (6 months)\n",
    "- Total Snowfall\n",
    "- Surface Wind Speed"
   ]
  },
  {
   "cell_type": "markdown",
   "metadata": {},
   "source": [
    "`````{admonition} Latvian example\n",
    ":class: note dropdown\n",
    "\n",
    "Flooding in Latvia has two main flood driver in Latvia, flooding is primarily driven by two factors. One is the snowpack accumulated in winter that rapidly melts and flows into rivers during spring. Another driver is spring precipitation, which saturates the soil and when confronted with extra rainfall, the region starts to flood.\n",
    "\n",
    "To analyse developments for the two flood mechanisms we select the following climate impact drivers: \n",
    "- average precipitation march till may \n",
    "- snowfall in December till February\n",
    "`````"
   ]
  },
  {
   "cell_type": "markdown",
   "metadata": {},
   "source": [
    "### 2. Collect observation trends from interactive climate atlas"
   ]
  },
  {
   "cell_type": "markdown",
   "metadata": {},
   "source": [
    "To get a better understanding of what climate trend we can expect we will explore what climate trend is already observed. But before we begin we need to define our region using the IPCC climate zones. The IPCC divides Europe into four climatic zones. These zones are based on areas with similar climate typologies. For each of these zones, climate projection statistics are available. \n",
    "- NEU - Northern Europe\n",
    "- WCE - West and Central Europe\n",
    "- MED - Mediterranean\n",
    "- EEU - Eastern Europe\n",
    "\n",
    "```{figure} images/regions_map.png\n",
    ":width: 400px\n",
    ":align: center\n",
    "\n",
    "IPCC climate zones in Europe. Image taken from the [IPCC Atlas](https://doi.org/10.1017/9781009157896.021)\n",
    "```\n",
    "\n",
    "We analyse past climate behaviour by following the next steps: \n",
    "\n",
    "1. Go to [https://atlas.climate.copernicus.eu/atlas](https://atlas.climate.copernicus.eu/atlas/KphACYrm)\n",
    "1. Select your region\n",
    "1. Select the historical observation data set \"era5-land\" \n",
    "1. Select climate impact drivers and season of interest\n",
    "1. Click on \"Regional Information\" for more information \n",
    "1. Spot potential trends\n"
   ]
  },
  {
   "cell_type": "markdown",
   "metadata": {},
   "source": [
    "`````{admonition} Latvian example\n",
    ":class: note dropdown\n",
    "As Latvia is situated on the border between NEU and WCE we need to choose which region. Since the European risk assessment considers the Baltic states to be part of NEU we also choose this region.\n",
    "Overall, there has been an upward trend in ERA5 data for precipitation.\n",
    "\n",
    "```{figure} images/latvia_example/pr-ERA5-Land_timeseries-NEU.png\n",
    ":width: 800px\n",
    ":align: center\n",
    "\n",
    "Precipitation trend in spring for NEU\n",
    "```\n",
    "\n",
    "In the whole of NEU we find that snow has a slightly increasing trend. The trend in extra rainfall might have contributed to more snow than temperature increases have reduced snow accumulation. \n",
    "\n",
    "```{figure} images/latvia_example/prsn-ERA5-Land_timeseries-NEU.png\n",
    ":width: 800px\n",
    ":align: center\n",
    "\n",
    "Snow trend in winter in NEU\n",
    "```\n",
    "\n",
    "Based on what we know of the climatic impact drivers we would expect that there are slight increases in both snowmelt and saturated soil floods.\n",
    "`````"
   ]
  },
  {
   "cell_type": "markdown",
   "metadata": {},
   "source": [
    "### 3. Collect simulation trends"
   ]
  },
  {
   "cell_type": "markdown",
   "metadata": {},
   "source": [
    "For this notebook, we have compiled projections from climate models per IPCC climate region for various emission scenarios. In the plot below, the horizontal axis indicated the CID change. At the top we have indicated the multi-model means of emisssions scenarios. Underneath, we show the spread of model outcomes that comprise the multi-model mean. After you have read through the example feel free to play around with the plot for your region."
   ]
  },
  {
   "cell_type": "markdown",
   "metadata": {},
   "source": [
    "```{include} widget.html\n",
    "```"
   ]
  },
  {
   "cell_type": "code",
   "execution_count": 5,
   "metadata": {
    "tags": [
     "remove-cell"
    ]
   },
   "outputs": [
    {
     "data": {
      "application/vnd.jupyter.widget-view+json": {
       "model_id": "2dcd4a557b93416f8a35a7ba554c8921",
       "version_major": 2,
       "version_minor": 0
      },
      "text/plain": [
       "interactive(children=(Dropdown(description='Region:', options=('NEU', 'MED', 'WCE', 'EEU'), value='NEU'), Drop…"
      ]
     },
     "metadata": {},
     "output_type": "display_data"
    },
    {
     "data": {
      "application/vnd.plotly.v1+json": {
       "config": {
        "plotlyServerURL": "https://plot.ly"
       },
       "data": [
        {
         "hoverinfo": "text",
         "line": {
          "color": "#402575",
          "width": 2
         },
         "mode": "lines",
         "showlegend": false,
         "text": "Model: UKESM1-0-LL_r1i1p1f2<br>SSP: ssp126<br>Change: 2.98 %",
         "type": "scatter",
         "x": [
          2.978677017,
          7.335726890000001
         ],
         "y": [
          0,
          1
         ]
        },
        {
         "hoverinfo": "text",
         "line": {
          "color": "#91ADD3",
          "width": 2
         },
         "mode": "lines",
         "showlegend": false,
         "text": "Model: UKESM1-0-LL_r1i1p1f2<br>SSP: ssp245<br>Change: 3.41 %",
         "type": "scatter",
         "x": [
          3.410427003000001,
          7.38641667
         ],
         "y": [
          0,
          1
         ]
        },
        {
         "hoverinfo": "text",
         "line": {
          "color": "#F19D6F",
          "width": 2
         },
         "mode": "lines",
         "showlegend": false,
         "text": "Model: UKESM1-0-LL_r1i1p1f2<br>SSP: ssp370<br>Change: 5.18 %",
         "type": "scatter",
         "x": [
          5.183663495199999,
          7.886971825000001
         ],
         "y": [
          0,
          1
         ]
        },
        {
         "hoverinfo": "text",
         "line": {
          "color": "#E64139",
          "width": 2
         },
         "mode": "lines",
         "showlegend": false,
         "text": "Model: UKESM1-0-LL_r1i1p1f2<br>SSP: ssp585<br>Change: 4.78 %",
         "type": "scatter",
         "x": [
          4.776138095,
          9.330928025
         ],
         "y": [
          0,
          1
         ]
        },
        {
         "hoverinfo": "text",
         "line": {
          "color": "#402575",
          "width": 2
         },
         "mode": "lines",
         "showlegend": false,
         "text": "Model: CESM2_r4i1p1f1<br>SSP: ssp126<br>Change: 8.32 %",
         "type": "scatter",
         "x": [
          8.320854929800001,
          7.335726890000001
         ],
         "y": [
          0,
          1
         ]
        },
        {
         "hoverinfo": "text",
         "line": {
          "color": "#91ADD3",
          "width": 2
         },
         "mode": "lines",
         "showlegend": false,
         "text": "Model: CESM2_r4i1p1f1<br>SSP: ssp245<br>Change: 6.17 %",
         "type": "scatter",
         "x": [
          6.165216509999999,
          7.38641667
         ],
         "y": [
          0,
          1
         ]
        },
        {
         "hoverinfo": "text",
         "line": {
          "color": "#F19D6F",
          "width": 2
         },
         "mode": "lines",
         "showlegend": false,
         "text": "Model: CESM2_r4i1p1f1<br>SSP: ssp370<br>Change: 4.56 %",
         "type": "scatter",
         "x": [
          4.561651874500001,
          7.886971825000001
         ],
         "y": [
          0,
          1
         ]
        },
        {
         "hoverinfo": "text",
         "line": {
          "color": "#E64139",
          "width": 2
         },
         "mode": "lines",
         "showlegend": false,
         "text": "Model: CESM2_r4i1p1f1<br>SSP: ssp585<br>Change: 7.59 %",
         "type": "scatter",
         "x": [
          7.585821985499999,
          9.330928025
         ],
         "y": [
          0,
          1
         ]
        },
        {
         "hoverinfo": "text",
         "line": {
          "color": "#402575",
          "width": 2
         },
         "mode": "lines",
         "showlegend": false,
         "text": "Model: CNRM-ESM2-1_r1i1p1f2<br>SSP: ssp126<br>Change: 6.14 %",
         "type": "scatter",
         "x": [
          6.141803970000001,
          7.335726890000001
         ],
         "y": [
          0,
          1
         ]
        },
        {
         "hoverinfo": "text",
         "line": {
          "color": "#91ADD3",
          "width": 2
         },
         "mode": "lines",
         "showlegend": false,
         "text": "Model: CNRM-ESM2-1_r1i1p1f2<br>SSP: ssp245<br>Change: 11.17 %",
         "type": "scatter",
         "x": [
          11.166201445000002,
          7.38641667
         ],
         "y": [
          0,
          1
         ]
        },
        {
         "hoverinfo": "text",
         "line": {
          "color": "#F19D6F",
          "width": 2
         },
         "mode": "lines",
         "showlegend": false,
         "text": "Model: CNRM-ESM2-1_r1i1p1f2<br>SSP: ssp370<br>Change: 8.81 %",
         "type": "scatter",
         "x": [
          8.8106764475,
          7.886971825000001
         ],
         "y": [
          0,
          1
         ]
        },
        {
         "hoverinfo": "text",
         "line": {
          "color": "#E64139",
          "width": 2
         },
         "mode": "lines",
         "showlegend": false,
         "text": "Model: CNRM-ESM2-1_r1i1p1f2<br>SSP: ssp585<br>Change: 10.80 %",
         "type": "scatter",
         "x": [
          10.800049615000002,
          9.330928025
         ],
         "y": [
          0,
          1
         ]
        },
        {
         "hoverinfo": "text",
         "line": {
          "color": "#402575",
          "width": 2
         },
         "mode": "lines",
         "showlegend": false,
         "text": "Model: FGOALS-g3_r1i1p1f1<br>SSP: ssp126<br>Change: 8.04 %",
         "type": "scatter",
         "x": [
          8.042124173500001,
          7.335726890000001
         ],
         "y": [
          0,
          1
         ]
        },
        {
         "hoverinfo": "text",
         "line": {
          "color": "#91ADD3",
          "width": 2
         },
         "mode": "lines",
         "showlegend": false,
         "text": "Model: FGOALS-g3_r1i1p1f1<br>SSP: ssp245<br>Change: 12.64 %",
         "type": "scatter",
         "x": [
          12.636485685,
          7.38641667
         ],
         "y": [
          0,
          1
         ]
        },
        {
         "hoverinfo": "text",
         "line": {
          "color": "#F19D6F",
          "width": 2
         },
         "mode": "lines",
         "showlegend": false,
         "text": "Model: FGOALS-g3_r1i1p1f1<br>SSP: ssp370<br>Change: 13.47 %",
         "type": "scatter",
         "x": [
          13.4689160375,
          7.886971825000001
         ],
         "y": [
          0,
          1
         ]
        },
        {
         "hoverinfo": "text",
         "line": {
          "color": "#E64139",
          "width": 2
         },
         "mode": "lines",
         "showlegend": false,
         "text": "Model: FGOALS-g3_r1i1p1f1<br>SSP: ssp585<br>Change: 16.76 %",
         "type": "scatter",
         "x": [
          16.757068409499997,
          9.330928025
         ],
         "y": [
          0,
          1
         ]
        },
        {
         "hoverinfo": "text",
         "line": {
          "color": "#402575",
          "width": 2
         },
         "mode": "lines",
         "showlegend": false,
         "text": "Model: INM-CM4-8_r1i1p1f1<br>SSP: ssp126<br>Change: 5.21 %",
         "type": "scatter",
         "x": [
          5.21188157,
          7.335726890000001
         ],
         "y": [
          0,
          1
         ]
        },
        {
         "hoverinfo": "text",
         "line": {
          "color": "#91ADD3",
          "width": 2
         },
         "mode": "lines",
         "showlegend": false,
         "text": "Model: INM-CM4-8_r1i1p1f1<br>SSP: ssp245<br>Change: 6.97 %",
         "type": "scatter",
         "x": [
          6.969455255,
          7.38641667
         ],
         "y": [
          0,
          1
         ]
        },
        {
         "hoverinfo": "text",
         "line": {
          "color": "#F19D6F",
          "width": 2
         },
         "mode": "lines",
         "showlegend": false,
         "text": "Model: INM-CM4-8_r1i1p1f1<br>SSP: ssp370<br>Change: 4.97 %",
         "type": "scatter",
         "x": [
          4.9692247775,
          7.886971825000001
         ],
         "y": [
          0,
          1
         ]
        },
        {
         "hoverinfo": "text",
         "line": {
          "color": "#E64139",
          "width": 2
         },
         "mode": "lines",
         "showlegend": false,
         "text": "Model: INM-CM4-8_r1i1p1f1<br>SSP: ssp585<br>Change: 7.80 %",
         "type": "scatter",
         "x": [
          7.800728015,
          9.330928025
         ],
         "y": [
          0,
          1
         ]
        },
        {
         "hoverinfo": "text",
         "line": {
          "color": "#402575",
          "width": 2
         },
         "mode": "lines",
         "showlegend": false,
         "text": "Model: MIROC6_r1i1p1f1<br>SSP: ssp126<br>Change: 5.88 %",
         "type": "scatter",
         "x": [
          5.8842094750000005,
          7.335726890000001
         ],
         "y": [
          0,
          1
         ]
        },
        {
         "hoverinfo": "text",
         "line": {
          "color": "#91ADD3",
          "width": 2
         },
         "mode": "lines",
         "showlegend": false,
         "text": "Model: MIROC6_r1i1p1f1<br>SSP: ssp245<br>Change: 1.80 %",
         "type": "scatter",
         "x": [
          1.801294527,
          7.38641667
         ],
         "y": [
          0,
          1
         ]
        },
        {
         "hoverinfo": "text",
         "line": {
          "color": "#F19D6F",
          "width": 2
         },
         "mode": "lines",
         "showlegend": false,
         "text": "Model: MIROC6_r1i1p1f1<br>SSP: ssp370<br>Change: 1.96 %",
         "type": "scatter",
         "x": [
          1.959529588,
          7.886971825000001
         ],
         "y": [
          0,
          1
         ]
        },
        {
         "hoverinfo": "text",
         "line": {
          "color": "#E64139",
          "width": 2
         },
         "mode": "lines",
         "showlegend": false,
         "text": "Model: MIROC6_r1i1p1f1<br>SSP: ssp585<br>Change: 5.90 %",
         "type": "scatter",
         "x": [
          5.904551311800001,
          9.330928025
         ],
         "y": [
          0,
          1
         ]
        },
        {
         "hoverinfo": "text",
         "line": {
          "color": "#402575",
          "width": 2
         },
         "mode": "lines",
         "showlegend": false,
         "text": "Model: mmm<br>SSP: ssp126<br>Impact: 7.34 %",
         "type": "scatter",
         "x": [
          7.335726890000001,
          7.335726890000001
         ],
         "y": [
          1,
          2
         ]
        },
        {
         "hoverinfo": "text",
         "line": {
          "color": "#91ADD3",
          "width": 2
         },
         "mode": "lines",
         "showlegend": false,
         "text": "Model: mmm<br>SSP: ssp245<br>Impact: 7.39 %",
         "type": "scatter",
         "x": [
          7.38641667,
          7.38641667
         ],
         "y": [
          1,
          2
         ]
        },
        {
         "hoverinfo": "text",
         "line": {
          "color": "#F19D6F",
          "width": 2
         },
         "mode": "lines",
         "showlegend": false,
         "text": "Model: mmm<br>SSP: ssp370<br>Impact: 7.89 %",
         "type": "scatter",
         "x": [
          7.886971825000001,
          7.886971825000001
         ],
         "y": [
          1,
          2
         ]
        },
        {
         "hoverinfo": "text",
         "line": {
          "color": "#E64139",
          "width": 2
         },
         "mode": "lines",
         "showlegend": false,
         "text": "Model: mmm<br>SSP: ssp585<br>Impact: 9.33 %",
         "type": "scatter",
         "x": [
          9.330928025,
          9.330928025
         ],
         "y": [
          1,
          2
         ]
        },
        {
         "hoverinfo": "text",
         "line": {
          "color": "#402575",
          "width": 2
         },
         "mode": "lines",
         "showlegend": false,
         "text": "Model: CNRM-CM6-1_r1i1p1f2<br>SSP: ssp126<br>Change: 7.74 %",
         "type": "scatter",
         "x": [
          7.7364655450000015,
          7.335726890000001
         ],
         "y": [
          0,
          1
         ]
        },
        {
         "hoverinfo": "text",
         "line": {
          "color": "#91ADD3",
          "width": 2
         },
         "mode": "lines",
         "showlegend": false,
         "text": "Model: CNRM-CM6-1_r1i1p1f2<br>SSP: ssp245<br>Change: 6.42 %",
         "type": "scatter",
         "x": [
          6.4215025435,
          7.38641667
         ],
         "y": [
          0,
          1
         ]
        },
        {
         "hoverinfo": "text",
         "line": {
          "color": "#F19D6F",
          "width": 2
         },
         "mode": "lines",
         "showlegend": false,
         "text": "Model: CNRM-CM6-1_r1i1p1f2<br>SSP: ssp370<br>Change: 10.35 %",
         "type": "scatter",
         "x": [
          10.348355785,
          7.886971825000001
         ],
         "y": [
          0,
          1
         ]
        },
        {
         "hoverinfo": "text",
         "line": {
          "color": "#E64139",
          "width": 2
         },
         "mode": "lines",
         "showlegend": false,
         "text": "Model: CNRM-CM6-1_r1i1p1f2<br>SSP: ssp585<br>Change: 8.69 %",
         "type": "scatter",
         "x": [
          8.687027903,
          9.330928025
         ],
         "y": [
          0,
          1
         ]
        },
        {
         "hoverinfo": "text",
         "line": {
          "color": "#402575",
          "width": 2
         },
         "mode": "lines",
         "showlegend": false,
         "text": "Model: MRI-ESM2-0_r1i1p1f1<br>SSP: ssp126<br>Change: 6.16 %",
         "type": "scatter",
         "x": [
          6.164986234999999,
          7.335726890000001
         ],
         "y": [
          0,
          1
         ]
        },
        {
         "hoverinfo": "text",
         "line": {
          "color": "#91ADD3",
          "width": 2
         },
         "mode": "lines",
         "showlegend": false,
         "text": "Model: MRI-ESM2-0_r1i1p1f1<br>SSP: ssp245<br>Change: 8.01 %",
         "type": "scatter",
         "x": [
          8.0092900075,
          7.38641667
         ],
         "y": [
          0,
          1
         ]
        },
        {
         "hoverinfo": "text",
         "line": {
          "color": "#F19D6F",
          "width": 2
         },
         "mode": "lines",
         "showlegend": false,
         "text": "Model: MRI-ESM2-0_r1i1p1f1<br>SSP: ssp370<br>Change: 8.72 %",
         "type": "scatter",
         "x": [
          8.717754629999998,
          7.886971825000001
         ],
         "y": [
          0,
          1
         ]
        },
        {
         "hoverinfo": "text",
         "line": {
          "color": "#E64139",
          "width": 2
         },
         "mode": "lines",
         "showlegend": false,
         "text": "Model: MRI-ESM2-0_r1i1p1f1<br>SSP: ssp585<br>Change: 6.49 %",
         "type": "scatter",
         "x": [
          6.493971650000001,
          9.330928025
         ],
         "y": [
          0,
          1
         ]
        },
        {
         "hoverinfo": "text",
         "line": {
          "color": "#402575",
          "width": 2
         },
         "mode": "lines",
         "showlegend": false,
         "text": "Model: BCC-CSM2-MR_r1i1p1f1<br>SSP: ssp126<br>Change: 5.14 %",
         "type": "scatter",
         "x": [
          5.1443721600000005,
          7.335726890000001
         ],
         "y": [
          0,
          1
         ]
        },
        {
         "hoverinfo": "text",
         "line": {
          "color": "#91ADD3",
          "width": 2
         },
         "mode": "lines",
         "showlegend": false,
         "text": "Model: BCC-CSM2-MR_r1i1p1f1<br>SSP: ssp245<br>Change: 7.98 %",
         "type": "scatter",
         "x": [
          7.984389651000002,
          7.38641667
         ],
         "y": [
          0,
          1
         ]
        },
        {
         "hoverinfo": "text",
         "line": {
          "color": "#F19D6F",
          "width": 2
         },
         "mode": "lines",
         "showlegend": false,
         "text": "Model: BCC-CSM2-MR_r1i1p1f1<br>SSP: ssp370<br>Change: 10.58 %",
         "type": "scatter",
         "x": [
          10.5833005445,
          7.886971825000001
         ],
         "y": [
          0,
          1
         ]
        },
        {
         "hoverinfo": "text",
         "line": {
          "color": "#E64139",
          "width": 2
         },
         "mode": "lines",
         "showlegend": false,
         "text": "Model: BCC-CSM2-MR_r1i1p1f1<br>SSP: ssp585<br>Change: 13.35 %",
         "type": "scatter",
         "x": [
          13.353857949999997,
          9.330928025
         ],
         "y": [
          0,
          1
         ]
        },
        {
         "hoverinfo": "text",
         "line": {
          "color": "#402575",
          "width": 2
         },
         "mode": "lines",
         "showlegend": false,
         "text": "Model: MPI-ESM1-2-LR_r1i1p1f1<br>SSP: ssp126<br>Change: 4.24 %",
         "type": "scatter",
         "x": [
          4.237619971999999,
          7.335726890000001
         ],
         "y": [
          0,
          1
         ]
        },
        {
         "hoverinfo": "text",
         "line": {
          "color": "#91ADD3",
          "width": 2
         },
         "mode": "lines",
         "showlegend": false,
         "text": "Model: MPI-ESM1-2-LR_r1i1p1f1<br>SSP: ssp245<br>Change: 2.45 %",
         "type": "scatter",
         "x": [
          2.447132717,
          7.38641667
         ],
         "y": [
          0,
          1
         ]
        },
        {
         "hoverinfo": "text",
         "line": {
          "color": "#F19D6F",
          "width": 2
         },
         "mode": "lines",
         "showlegend": false,
         "text": "Model: MPI-ESM1-2-LR_r1i1p1f1<br>SSP: ssp370<br>Change: 5.08 %",
         "type": "scatter",
         "x": [
          5.080503094999999,
          7.886971825000001
         ],
         "y": [
          0,
          1
         ]
        },
        {
         "hoverinfo": "text",
         "line": {
          "color": "#E64139",
          "width": 2
         },
         "mode": "lines",
         "showlegend": false,
         "text": "Model: MPI-ESM1-2-LR_r1i1p1f1<br>SSP: ssp585<br>Change: 5.11 %",
         "type": "scatter",
         "x": [
          5.114495187000001,
          9.330928025
         ],
         "y": [
          0,
          1
         ]
        },
        {
         "hoverinfo": "text",
         "line": {
          "color": "#402575",
          "width": 2
         },
         "mode": "lines",
         "showlegend": false,
         "text": "Model: CESM2-WACCM_r1i1p1f1<br>SSP: ssp126<br>Change: 5.21 %",
         "type": "scatter",
         "x": [
          5.208269397000001,
          7.335726890000001
         ],
         "y": [
          0,
          1
         ]
        },
        {
         "hoverinfo": "text",
         "line": {
          "color": "#91ADD3",
          "width": 2
         },
         "mode": "lines",
         "showlegend": false,
         "text": "Model: CESM2-WACCM_r1i1p1f1<br>SSP: ssp245<br>Change: 6.22 %",
         "type": "scatter",
         "x": [
          6.21708433,
          7.38641667
         ],
         "y": [
          0,
          1
         ]
        },
        {
         "hoverinfo": "text",
         "line": {
          "color": "#F19D6F",
          "width": 2
         },
         "mode": "lines",
         "showlegend": false,
         "text": "Model: CESM2-WACCM_r1i1p1f1<br>SSP: ssp370<br>Change: 7.57 %",
         "type": "scatter",
         "x": [
          7.571237123,
          7.886971825000001
         ],
         "y": [
          0,
          1
         ]
        },
        {
         "hoverinfo": "text",
         "line": {
          "color": "#E64139",
          "width": 2
         },
         "mode": "lines",
         "showlegend": false,
         "text": "Model: CESM2-WACCM_r1i1p1f1<br>SSP: ssp585<br>Change: 8.52 %",
         "type": "scatter",
         "x": [
          8.521507063,
          9.330928025
         ],
         "y": [
          0,
          1
         ]
        },
        {
         "hoverinfo": "text",
         "line": {
          "color": "#402575",
          "width": 2
         },
         "mode": "lines",
         "showlegend": false,
         "text": "Model: INM-CM5-0_r1i1p1f1<br>SSP: ssp126<br>Change: 5.47 %",
         "type": "scatter",
         "x": [
          5.47390452,
          7.335726890000001
         ],
         "y": [
          0,
          1
         ]
        },
        {
         "hoverinfo": "text",
         "line": {
          "color": "#91ADD3",
          "width": 2
         },
         "mode": "lines",
         "showlegend": false,
         "text": "Model: INM-CM5-0_r1i1p1f1<br>SSP: ssp245<br>Change: 6.40 %",
         "type": "scatter",
         "x": [
          6.404529897000001,
          7.38641667
         ],
         "y": [
          0,
          1
         ]
        },
        {
         "hoverinfo": "text",
         "line": {
          "color": "#F19D6F",
          "width": 2
         },
         "mode": "lines",
         "showlegend": false,
         "text": "Model: INM-CM5-0_r1i1p1f1<br>SSP: ssp370<br>Change: 8.31 %",
         "type": "scatter",
         "x": [
          8.305076528650002,
          7.886971825000001
         ],
         "y": [
          0,
          1
         ]
        },
        {
         "hoverinfo": "text",
         "line": {
          "color": "#E64139",
          "width": 2
         },
         "mode": "lines",
         "showlegend": false,
         "text": "Model: INM-CM5-0_r1i1p1f1<br>SSP: ssp585<br>Change: 7.24 %",
         "type": "scatter",
         "x": [
          7.240057115000002,
          9.330928025
         ],
         "y": [
          0,
          1
         ]
        },
        {
         "hoverinfo": "text",
         "line": {
          "color": "#402575",
          "width": 2
         },
         "mode": "lines",
         "showlegend": false,
         "text": "Model: CMCC-CM2-SR5_r1i1p1f1<br>SSP: ssp126<br>Change: 7.97 %",
         "type": "scatter",
         "x": [
          7.972210975999999,
          7.335726890000001
         ],
         "y": [
          0,
          1
         ]
        },
        {
         "hoverinfo": "text",
         "line": {
          "color": "#91ADD3",
          "width": 2
         },
         "mode": "lines",
         "showlegend": false,
         "text": "Model: CMCC-CM2-SR5_r1i1p1f1<br>SSP: ssp245<br>Change: 11.08 %",
         "type": "scatter",
         "x": [
          11.0799597,
          7.38641667
         ],
         "y": [
          0,
          1
         ]
        },
        {
         "hoverinfo": "text",
         "line": {
          "color": "#F19D6F",
          "width": 2
         },
         "mode": "lines",
         "showlegend": false,
         "text": "Model: CMCC-CM2-SR5_r1i1p1f1<br>SSP: ssp370<br>Change: 12.85 %",
         "type": "scatter",
         "x": [
          12.850947395,
          7.886971825000001
         ],
         "y": [
          0,
          1
         ]
        },
        {
         "hoverinfo": "text",
         "line": {
          "color": "#E64139",
          "width": 2
         },
         "mode": "lines",
         "showlegend": false,
         "text": "Model: CMCC-CM2-SR5_r1i1p1f1<br>SSP: ssp585<br>Change: 7.28 %",
         "type": "scatter",
         "x": [
          7.28082124725,
          9.330928025
         ],
         "y": [
          0,
          1
         ]
        },
        {
         "hoverinfo": "text",
         "line": {
          "color": "#402575",
          "width": 2
         },
         "mode": "lines",
         "showlegend": false,
         "text": "Model: NorESM2-LM_r1i1p1f1<br>SSP: ssp126<br>Change: 5.27 %",
         "type": "scatter",
         "x": [
          5.2703864760000005,
          7.335726890000001
         ],
         "y": [
          0,
          1
         ]
        },
        {
         "hoverinfo": "text",
         "line": {
          "color": "#91ADD3",
          "width": 2
         },
         "mode": "lines",
         "showlegend": false,
         "text": "Model: NorESM2-LM_r1i1p1f1<br>SSP: ssp245<br>Change: 5.57 %",
         "type": "scatter",
         "x": [
          5.5700811735,
          7.38641667
         ],
         "y": [
          0,
          1
         ]
        },
        {
         "hoverinfo": "text",
         "line": {
          "color": "#F19D6F",
          "width": 2
         },
         "mode": "lines",
         "showlegend": false,
         "text": "Model: NorESM2-LM_r1i1p1f1<br>SSP: ssp370<br>Change: 6.66 %",
         "type": "scatter",
         "x": [
          6.6641502300000015,
          7.886971825000001
         ],
         "y": [
          0,
          1
         ]
        },
        {
         "hoverinfo": "text",
         "line": {
          "color": "#E64139",
          "width": 2
         },
         "mode": "lines",
         "showlegend": false,
         "text": "Model: NorESM2-LM_r1i1p1f1<br>SSP: ssp585<br>Change: 5.27 %",
         "type": "scatter",
         "x": [
          5.2660891455,
          9.330928025
         ],
         "y": [
          0,
          1
         ]
        },
        {
         "hoverinfo": "text",
         "line": {
          "color": "#402575",
          "width": 2
         },
         "mode": "lines",
         "showlegend": false,
         "text": "Model: CNRM-CM6-1-HR_r1i1p1f2<br>SSP: ssp126<br>Change: 12.36 %",
         "type": "scatter",
         "x": [
          12.362862815,
          7.335726890000001
         ],
         "y": [
          0,
          1
         ]
        },
        {
         "hoverinfo": "text",
         "line": {
          "color": "#E64139",
          "width": 2
         },
         "mode": "lines",
         "showlegend": false,
         "text": "Model: CNRM-CM6-1-HR_r1i1p1f2<br>SSP: ssp585<br>Change: 15.56 %",
         "type": "scatter",
         "x": [
          15.560829709999997,
          9.330928025
         ],
         "y": [
          0,
          1
         ]
        },
        {
         "hoverinfo": "text",
         "line": {
          "color": "#402575",
          "width": 2
         },
         "mode": "lines",
         "showlegend": false,
         "text": "Model: MPI-ESM1-2-HR_r1i1p1f1<br>SSP: ssp126<br>Change: 4.47 %",
         "type": "scatter",
         "x": [
          4.468438140000001,
          7.335726890000001
         ],
         "y": [
          0,
          1
         ]
        },
        {
         "hoverinfo": "text",
         "line": {
          "color": "#91ADD3",
          "width": 2
         },
         "mode": "lines",
         "showlegend": false,
         "text": "Model: MPI-ESM1-2-HR_r1i1p1f1<br>SSP: ssp245<br>Change: 6.34 %",
         "type": "scatter",
         "x": [
          6.3427335215,
          7.38641667
         ],
         "y": [
          0,
          1
         ]
        },
        {
         "hoverinfo": "text",
         "line": {
          "color": "#F19D6F",
          "width": 2
         },
         "mode": "lines",
         "showlegend": false,
         "text": "Model: MPI-ESM1-2-HR_r1i1p1f1<br>SSP: ssp370<br>Change: 8.07 %",
         "type": "scatter",
         "x": [
          8.06813628,
          7.886971825000001
         ],
         "y": [
          0,
          1
         ]
        },
        {
         "hoverinfo": "text",
         "line": {
          "color": "#E64139",
          "width": 2
         },
         "mode": "lines",
         "showlegend": false,
         "text": "Model: MPI-ESM1-2-HR_r1i1p1f1<br>SSP: ssp585<br>Change: 4.15 %",
         "type": "scatter",
         "x": [
          4.146167397999999,
          9.330928025
         ],
         "y": [
          0,
          1
         ]
        },
        {
         "hoverinfo": "text",
         "line": {
          "color": "#402575",
          "width": 2
         },
         "mode": "lines",
         "showlegend": false,
         "text": "Model: GFDL-ESM4_r1i1p1f1<br>SSP: ssp126<br>Change: 3.04 %",
         "type": "scatter",
         "x": [
          3.0384442425,
          7.335726890000001
         ],
         "y": [
          0,
          1
         ]
        },
        {
         "hoverinfo": "text",
         "line": {
          "color": "#91ADD3",
          "width": 2
         },
         "mode": "lines",
         "showlegend": false,
         "text": "Model: GFDL-ESM4_r1i1p1f1<br>SSP: ssp245<br>Change: 3.48 %",
         "type": "scatter",
         "x": [
          3.48240277,
          7.38641667
         ],
         "y": [
          0,
          1
         ]
        },
        {
         "hoverinfo": "text",
         "line": {
          "color": "#F19D6F",
          "width": 2
         },
         "mode": "lines",
         "showlegend": false,
         "text": "Model: GFDL-ESM4_r1i1p1f1<br>SSP: ssp370<br>Change: 6.41 %",
         "type": "scatter",
         "x": [
          6.4104605685,
          7.886971825000001
         ],
         "y": [
          0,
          1
         ]
        },
        {
         "hoverinfo": "text",
         "line": {
          "color": "#E64139",
          "width": 2
         },
         "mode": "lines",
         "showlegend": false,
         "text": "Model: GFDL-ESM4_r1i1p1f1<br>SSP: ssp585<br>Change: 7.48 %",
         "type": "scatter",
         "x": [
          7.475790649999999,
          9.330928025
         ],
         "y": [
          0,
          1
         ]
        },
        {
         "hoverinfo": "text",
         "line": {
          "color": "#402575",
          "width": 2
         },
         "mode": "lines",
         "showlegend": false,
         "text": "Model: KACE-1-0-G_r2i1p1f1<br>SSP: ssp126<br>Change: 10.75 %",
         "type": "scatter",
         "x": [
          10.7502040735,
          7.335726890000001
         ],
         "y": [
          0,
          1
         ]
        },
        {
         "hoverinfo": "text",
         "line": {
          "color": "#91ADD3",
          "width": 2
         },
         "mode": "lines",
         "showlegend": false,
         "text": "Model: KACE-1-0-G_r2i1p1f1<br>SSP: ssp245<br>Change: 7.50 %",
         "type": "scatter",
         "x": [
          7.504351323500001,
          7.38641667
         ],
         "y": [
          0,
          1
         ]
        },
        {
         "hoverinfo": "text",
         "line": {
          "color": "#F19D6F",
          "width": 2
         },
         "mode": "lines",
         "showlegend": false,
         "text": "Model: KACE-1-0-G_r2i1p1f1<br>SSP: ssp370<br>Change: 9.28 %",
         "type": "scatter",
         "x": [
          9.283958554999998,
          7.886971825000001
         ],
         "y": [
          0,
          1
         ]
        },
        {
         "hoverinfo": "text",
         "line": {
          "color": "#E64139",
          "width": 2
         },
         "mode": "lines",
         "showlegend": false,
         "text": "Model: KACE-1-0-G_r2i1p1f1<br>SSP: ssp585<br>Change: 10.76 %",
         "type": "scatter",
         "x": [
          10.7575374995,
          9.330928025
         ],
         "y": [
          0,
          1
         ]
        },
        {
         "hoverinfo": "text",
         "line": {
          "color": "#402575",
          "width": 2
         },
         "mode": "lines",
         "showlegend": false,
         "text": "Model: IPSL-CM6A-LR_r1i1p1f1<br>SSP: ssp126<br>Change: 9.08 %",
         "type": "scatter",
         "x": [
          9.080524335,
          7.335726890000001
         ],
         "y": [
          0,
          1
         ]
        },
        {
         "hoverinfo": "text",
         "line": {
          "color": "#91ADD3",
          "width": 2
         },
         "mode": "lines",
         "showlegend": false,
         "text": "Model: IPSL-CM6A-LR_r1i1p1f1<br>SSP: ssp245<br>Change: 9.66 %",
         "type": "scatter",
         "x": [
          9.6649170902,
          7.38641667
         ],
         "y": [
          0,
          1
         ]
        },
        {
         "hoverinfo": "text",
         "line": {
          "color": "#F19D6F",
          "width": 2
         },
         "mode": "lines",
         "showlegend": false,
         "text": "Model: IPSL-CM6A-LR_r1i1p1f1<br>SSP: ssp370<br>Change: 9.19 %",
         "type": "scatter",
         "x": [
          9.190996391000002,
          7.886971825000001
         ],
         "y": [
          0,
          1
         ]
        },
        {
         "hoverinfo": "text",
         "line": {
          "color": "#E64139",
          "width": 2
         },
         "mode": "lines",
         "showlegend": false,
         "text": "Model: IPSL-CM6A-LR_r1i1p1f1<br>SSP: ssp585<br>Change: 10.30 %",
         "type": "scatter",
         "x": [
          10.304084067000002,
          9.330928025
         ],
         "y": [
          0,
          1
         ]
        },
        {
         "hoverinfo": "text",
         "line": {
          "color": "#402575",
          "width": 2
         },
         "mode": "lines",
         "showlegend": false,
         "text": "Model: NESM3_r1i1p1f1<br>SSP: ssp126<br>Change: 9.34 %",
         "type": "scatter",
         "x": [
          9.340646775,
          7.335726890000001
         ],
         "y": [
          0,
          1
         ]
        },
        {
         "hoverinfo": "text",
         "line": {
          "color": "#91ADD3",
          "width": 2
         },
         "mode": "lines",
         "showlegend": false,
         "text": "Model: NESM3_r1i1p1f1<br>SSP: ssp245<br>Change: 8.53 %",
         "type": "scatter",
         "x": [
          8.527700266999998,
          7.38641667
         ],
         "y": [
          0,
          1
         ]
        },
        {
         "hoverinfo": "text",
         "line": {
          "color": "#E64139",
          "width": 2
         },
         "mode": "lines",
         "showlegend": false,
         "text": "Model: NESM3_r1i1p1f1<br>SSP: ssp585<br>Change: 14.92 %",
         "type": "scatter",
         "x": [
          14.915983135,
          9.330928025
         ],
         "y": [
          0,
          1
         ]
        },
        {
         "hoverinfo": "text",
         "line": {
          "color": "#402575",
          "width": 2
         },
         "mode": "lines",
         "showlegend": false,
         "text": "Model: MIROC-ES2L_r1i1p1f2<br>SSP: ssp126<br>Change: 5.86 %",
         "type": "scatter",
         "x": [
          5.859584289999999,
          7.335726890000001
         ],
         "y": [
          0,
          1
         ]
        },
        {
         "hoverinfo": "text",
         "line": {
          "color": "#91ADD3",
          "width": 2
         },
         "mode": "lines",
         "showlegend": false,
         "text": "Model: MIROC-ES2L_r1i1p1f2<br>SSP: ssp245<br>Change: 6.09 %",
         "type": "scatter",
         "x": [
          6.088334789499999,
          7.38641667
         ],
         "y": [
          0,
          1
         ]
        },
        {
         "hoverinfo": "text",
         "line": {
          "color": "#F19D6F",
          "width": 2
         },
         "mode": "lines",
         "showlegend": false,
         "text": "Model: MIROC-ES2L_r1i1p1f2<br>SSP: ssp370<br>Change: -0.21 %",
         "type": "scatter",
         "x": [
          -0.212419052,
          7.886971825000001
         ],
         "y": [
          0,
          1
         ]
        },
        {
         "hoverinfo": "text",
         "line": {
          "color": "#E64139",
          "width": 2
         },
         "mode": "lines",
         "showlegend": false,
         "text": "Model: MIROC-ES2L_r1i1p1f2<br>SSP: ssp585<br>Change: 8.17 %",
         "type": "scatter",
         "x": [
          8.1666741945,
          9.330928025
         ],
         "y": [
          0,
          1
         ]
        },
        {
         "hoverinfo": "text",
         "line": {
          "color": "#402575",
          "width": 2
         },
         "mode": "lines",
         "showlegend": false,
         "text": "Model: ACCESS-CM2_r1i1p1f1<br>SSP: ssp126<br>Change: 10.86 %",
         "type": "scatter",
         "x": [
          10.86145576,
          7.335726890000001
         ],
         "y": [
          0,
          1
         ]
        },
        {
         "hoverinfo": "text",
         "line": {
          "color": "#91ADD3",
          "width": 2
         },
         "mode": "lines",
         "showlegend": false,
         "text": "Model: ACCESS-CM2_r1i1p1f1<br>SSP: ssp245<br>Change: 10.44 %",
         "type": "scatter",
         "x": [
          10.441954668,
          7.38641667
         ],
         "y": [
          0,
          1
         ]
        },
        {
         "hoverinfo": "text",
         "line": {
          "color": "#F19D6F",
          "width": 2
         },
         "mode": "lines",
         "showlegend": false,
         "text": "Model: ACCESS-CM2_r1i1p1f1<br>SSP: ssp370<br>Change: 6.59 %",
         "type": "scatter",
         "x": [
          6.593210415499999,
          7.886971825000001
         ],
         "y": [
          0,
          1
         ]
        },
        {
         "hoverinfo": "text",
         "line": {
          "color": "#E64139",
          "width": 2
         },
         "mode": "lines",
         "showlegend": false,
         "text": "Model: ACCESS-CM2_r1i1p1f1<br>SSP: ssp585<br>Change: 9.17 %",
         "type": "scatter",
         "x": [
          9.16948165,
          9.330928025
         ],
         "y": [
          0,
          1
         ]
        },
        {
         "hoverinfo": "text",
         "line": {
          "color": "#402575",
          "width": 2
         },
         "mode": "lines",
         "showlegend": false,
         "text": "Model: CAMS-CSM1-0_r2i1p1f1<br>SSP: ssp126<br>Change: 7.66 %",
         "type": "scatter",
         "x": [
          7.660250211500002,
          7.335726890000001
         ],
         "y": [
          0,
          1
         ]
        },
        {
         "hoverinfo": "text",
         "line": {
          "color": "#91ADD3",
          "width": 2
         },
         "mode": "lines",
         "showlegend": false,
         "text": "Model: CAMS-CSM1-0_r2i1p1f1<br>SSP: ssp245<br>Change: 10.25 %",
         "type": "scatter",
         "x": [
          10.25361552,
          7.38641667
         ],
         "y": [
          0,
          1
         ]
        },
        {
         "hoverinfo": "text",
         "line": {
          "color": "#F19D6F",
          "width": 2
         },
         "mode": "lines",
         "showlegend": false,
         "text": "Model: CAMS-CSM1-0_r2i1p1f1<br>SSP: ssp370<br>Change: 9.32 %",
         "type": "scatter",
         "x": [
          9.321267673199998,
          7.886971825000001
         ],
         "y": [
          0,
          1
         ]
        },
        {
         "hoverinfo": "text",
         "line": {
          "color": "#E64139",
          "width": 2
         },
         "mode": "lines",
         "showlegend": false,
         "text": "Model: CAMS-CSM1-0_r2i1p1f1<br>SSP: ssp585<br>Change: 9.66 %",
         "type": "scatter",
         "x": [
          9.66470321,
          9.330928025
         ],
         "y": [
          0,
          1
         ]
        },
        {
         "hoverinfo": "text",
         "line": {
          "color": "#402575",
          "width": 2
         },
         "mode": "lines",
         "showlegend": false,
         "text": "Model: HadGEM3-GC31-LL_r1i1p1f3<br>SSP: ssp126<br>Change: 2.79 %",
         "type": "scatter",
         "x": [
          2.7904761050000007,
          7.335726890000001
         ],
         "y": [
          0,
          1
         ]
        },
        {
         "hoverinfo": "text",
         "line": {
          "color": "#91ADD3",
          "width": 2
         },
         "mode": "lines",
         "showlegend": false,
         "text": "Model: HadGEM3-GC31-LL_r1i1p1f3<br>SSP: ssp245<br>Change: 4.98 %",
         "type": "scatter",
         "x": [
          4.975370739000001,
          7.38641667
         ],
         "y": [
          0,
          1
         ]
        },
        {
         "hoverinfo": "text",
         "line": {
          "color": "#E64139",
          "width": 2
         },
         "mode": "lines",
         "showlegend": false,
         "text": "Model: HadGEM3-GC31-LL_r1i1p1f3<br>SSP: ssp585<br>Change: 5.59 %",
         "type": "scatter",
         "x": [
          5.591592425,
          9.330928025
         ],
         "y": [
          0,
          1
         ]
        },
        {
         "hoverinfo": "text",
         "line": {
          "color": "#402575",
          "width": 2
         },
         "mode": "lines",
         "showlegend": false,
         "text": "Model: NorESM2-MM_r1i1p1f1<br>SSP: ssp126<br>Change: 2.70 %",
         "type": "scatter",
         "x": [
          2.697817206,
          7.335726890000001
         ],
         "y": [
          0,
          1
         ]
        },
        {
         "hoverinfo": "text",
         "line": {
          "color": "#91ADD3",
          "width": 2
         },
         "mode": "lines",
         "showlegend": false,
         "text": "Model: NorESM2-MM_r1i1p1f1<br>SSP: ssp245<br>Change: 1.57 %",
         "type": "scatter",
         "x": [
          1.57267255,
          7.38641667
         ],
         "y": [
          0,
          1
         ]
        },
        {
         "hoverinfo": "text",
         "line": {
          "color": "#F19D6F",
          "width": 2
         },
         "mode": "lines",
         "showlegend": false,
         "text": "Model: NorESM2-MM_r1i1p1f1<br>SSP: ssp370<br>Change: 1.60 %",
         "type": "scatter",
         "x": [
          1.6037224676500004,
          7.886971825000001
         ],
         "y": [
          0,
          1
         ]
        },
        {
         "hoverinfo": "text",
         "line": {
          "color": "#E64139",
          "width": 2
         },
         "mode": "lines",
         "showlegend": false,
         "text": "Model: NorESM2-MM_r1i1p1f1<br>SSP: ssp585<br>Change: 1.67 %",
         "type": "scatter",
         "x": [
          1.6677893100000003,
          9.330928025
         ],
         "y": [
          0,
          1
         ]
        },
        {
         "hoverinfo": "text",
         "line": {
          "color": "#402575",
          "width": 2
         },
         "mode": "lines",
         "showlegend": false,
         "text": "Model: EC-Earth3_r1i1p1f1<br>SSP: ssp126<br>Change: 10.44 %",
         "type": "scatter",
         "x": [
          10.4381591285,
          7.335726890000001
         ],
         "y": [
          0,
          1
         ]
        },
        {
         "hoverinfo": "text",
         "line": {
          "color": "#91ADD3",
          "width": 2
         },
         "mode": "lines",
         "showlegend": false,
         "text": "Model: EC-Earth3_r1i1p1f1<br>SSP: ssp245<br>Change: 8.91 %",
         "type": "scatter",
         "x": [
          8.91198945,
          7.38641667
         ],
         "y": [
          0,
          1
         ]
        },
        {
         "hoverinfo": "text",
         "line": {
          "color": "#F19D6F",
          "width": 2
         },
         "mode": "lines",
         "showlegend": false,
         "text": "Model: EC-Earth3_r1i1p1f1<br>SSP: ssp370<br>Change: 12.33 %",
         "type": "scatter",
         "x": [
          12.327225835000002,
          7.886971825000001
         ],
         "y": [
          0,
          1
         ]
        },
        {
         "hoverinfo": "text",
         "line": {
          "color": "#E64139",
          "width": 2
         },
         "mode": "lines",
         "showlegend": false,
         "text": "Model: EC-Earth3_r1i1p1f1<br>SSP: ssp585<br>Change: 13.80 %",
         "type": "scatter",
         "x": [
          13.803689995,
          9.330928025
         ],
         "y": [
          0,
          1
         ]
        },
        {
         "hoverinfo": "text",
         "line": {
          "color": "#402575",
          "width": 2
         },
         "mode": "lines",
         "showlegend": false,
         "text": "Model: IITM-ESM_r1i1p1f1<br>SSP: ssp126<br>Change: 6.13 %",
         "type": "scatter",
         "x": [
          6.128796423499999,
          7.335726890000001
         ],
         "y": [
          0,
          1
         ]
        },
        {
         "hoverinfo": "text",
         "line": {
          "color": "#91ADD3",
          "width": 2
         },
         "mode": "lines",
         "showlegend": false,
         "text": "Model: IITM-ESM_r1i1p1f1<br>SSP: ssp245<br>Change: 6.16 %",
         "type": "scatter",
         "x": [
          6.1625384995,
          7.38641667
         ],
         "y": [
          0,
          1
         ]
        },
        {
         "hoverinfo": "text",
         "line": {
          "color": "#F19D6F",
          "width": 2
         },
         "mode": "lines",
         "showlegend": false,
         "text": "Model: IITM-ESM_r1i1p1f1<br>SSP: ssp370<br>Change: 6.53 %",
         "type": "scatter",
         "x": [
          6.5264600135,
          7.886971825000001
         ],
         "y": [
          0,
          1
         ]
        },
        {
         "hoverinfo": "text",
         "line": {
          "color": "#E64139",
          "width": 2
         },
         "mode": "lines",
         "showlegend": false,
         "text": "Model: IITM-ESM_r1i1p1f1<br>SSP: ssp585<br>Change: 6.45 %",
         "type": "scatter",
         "x": [
          6.453917538000001,
          9.330928025
         ],
         "y": [
          0,
          1
         ]
        },
        {
         "hoverinfo": "text",
         "line": {
          "color": "#402575",
          "width": 2
         },
         "mode": "lines",
         "showlegend": false,
         "text": "Model: CanESM5_r1i1p1f1<br>SSP: ssp126<br>Change: 16.70 %",
         "type": "scatter",
         "x": [
          16.6959621835,
          7.335726890000001
         ],
         "y": [
          0,
          1
         ]
        },
        {
         "hoverinfo": "text",
         "line": {
          "color": "#91ADD3",
          "width": 2
         },
         "mode": "lines",
         "showlegend": false,
         "text": "Model: CanESM5_r1i1p1f1<br>SSP: ssp245<br>Change: 15.06 %",
         "type": "scatter",
         "x": [
          15.059908607,
          7.38641667
         ],
         "y": [
          0,
          1
         ]
        },
        {
         "hoverinfo": "text",
         "line": {
          "color": "#F19D6F",
          "width": 2
         },
         "mode": "lines",
         "showlegend": false,
         "text": "Model: CanESM5_r1i1p1f1<br>SSP: ssp370<br>Change: 18.90 %",
         "type": "scatter",
         "x": [
          18.901410135,
          7.886971825000001
         ],
         "y": [
          0,
          1
         ]
        },
        {
         "hoverinfo": "text",
         "line": {
          "color": "#E64139",
          "width": 2
         },
         "mode": "lines",
         "showlegend": false,
         "text": "Model: CanESM5_r1i1p1f1<br>SSP: ssp585<br>Change: 17.18 %",
         "type": "scatter",
         "x": [
          17.18304007,
          9.330928025
         ],
         "y": [
          0,
          1
         ]
        },
        {
         "hoverinfo": "text",
         "line": {
          "color": "#402575",
          "width": 2
         },
         "mode": "lines",
         "showlegend": false,
         "text": "Model: EC-Earth3-Veg_r1i1p1f1<br>SSP: ssp126<br>Change: 13.46 %",
         "type": "scatter",
         "x": [
          13.456974905,
          7.335726890000001
         ],
         "y": [
          0,
          1
         ]
        },
        {
         "hoverinfo": "text",
         "line": {
          "color": "#91ADD3",
          "width": 2
         },
         "mode": "lines",
         "showlegend": false,
         "text": "Model: EC-Earth3-Veg_r1i1p1f1<br>SSP: ssp245<br>Change: 16.94 %",
         "type": "scatter",
         "x": [
          16.942223275000003,
          7.38641667
         ],
         "y": [
          0,
          1
         ]
        },
        {
         "hoverinfo": "text",
         "line": {
          "color": "#F19D6F",
          "width": 2
         },
         "mode": "lines",
         "showlegend": false,
         "text": "Model: EC-Earth3-Veg_r1i1p1f1<br>SSP: ssp370<br>Change: 14.70 %",
         "type": "scatter",
         "x": [
          14.69760442,
          7.886971825000001
         ],
         "y": [
          0,
          1
         ]
        },
        {
         "hoverinfo": "text",
         "line": {
          "color": "#E64139",
          "width": 2
         },
         "mode": "lines",
         "showlegend": false,
         "text": "Model: EC-Earth3-Veg_r1i1p1f1<br>SSP: ssp585<br>Change: 21.65 %",
         "type": "scatter",
         "x": [
          21.65014442,
          9.330928025
         ],
         "y": [
          0,
          1
         ]
        },
        {
         "hoverinfo": "text",
         "line": {
          "color": "#402575",
          "width": 2
         },
         "mode": "lines",
         "showlegend": false,
         "text": "Model: ACCESS-ESM1-5_r1i1p1f1<br>SSP: ssp126<br>Change: 8.75 %",
         "type": "scatter",
         "x": [
          8.745433368,
          7.335726890000001
         ],
         "y": [
          0,
          1
         ]
        },
        {
         "hoverinfo": "text",
         "line": {
          "color": "#91ADD3",
          "width": 2
         },
         "mode": "lines",
         "showlegend": false,
         "text": "Model: ACCESS-ESM1-5_r1i1p1f1<br>SSP: ssp245<br>Change: 8.13 %",
         "type": "scatter",
         "x": [
          8.12573423,
          7.38641667
         ],
         "y": [
          0,
          1
         ]
        },
        {
         "hoverinfo": "text",
         "line": {
          "color": "#F19D6F",
          "width": 2
         },
         "mode": "lines",
         "showlegend": false,
         "text": "Model: ACCESS-ESM1-5_r1i1p1f1<br>SSP: ssp370<br>Change: 3.79 %",
         "type": "scatter",
         "x": [
          3.789459375,
          7.886971825000001
         ],
         "y": [
          0,
          1
         ]
        },
        {
         "hoverinfo": "text",
         "line": {
          "color": "#E64139",
          "width": 2
         },
         "mode": "lines",
         "showlegend": false,
         "text": "Model: ACCESS-ESM1-5_r1i1p1f1<br>SSP: ssp585<br>Change: 5.05 %",
         "type": "scatter",
         "x": [
          5.0516791893000015,
          9.330928025
         ],
         "y": [
          0,
          1
         ]
        },
        {
         "hoverinfo": "text",
         "line": {
          "color": "#402575",
          "width": 2
         },
         "mode": "lines",
         "showlegend": false,
         "text": "Model: KIOST-ESM_r1i1p1f1<br>SSP: ssp126<br>Change: 10.32 %",
         "type": "scatter",
         "x": [
          10.319186079999998,
          7.335726890000001
         ],
         "y": [
          0,
          1
         ]
        },
        {
         "hoverinfo": "text",
         "line": {
          "color": "#91ADD3",
          "width": 2
         },
         "mode": "lines",
         "showlegend": false,
         "text": "Model: KIOST-ESM_r1i1p1f1<br>SSP: ssp245<br>Change: 10.50 %",
         "type": "scatter",
         "x": [
          10.497942315,
          7.38641667
         ],
         "y": [
          0,
          1
         ]
        },
        {
         "hoverinfo": "text",
         "line": {
          "color": "#E64139",
          "width": 2
         },
         "mode": "lines",
         "showlegend": false,
         "text": "Model: KIOST-ESM_r1i1p1f1<br>SSP: ssp585<br>Change: 12.45 %",
         "type": "scatter",
         "x": [
          12.445021817,
          9.330928025
         ],
         "y": [
          0,
          1
         ]
        },
        {
         "line": {
          "color": "#402575",
          "width": 4
         },
         "mode": "lines",
         "name": "ssp126",
         "type": "scatter",
         "x": [
          null
         ],
         "y": [
          null
         ]
        },
        {
         "line": {
          "color": "#91ADD3",
          "width": 4
         },
         "mode": "lines",
         "name": "ssp245",
         "type": "scatter",
         "x": [
          null
         ],
         "y": [
          null
         ]
        },
        {
         "line": {
          "color": "#F19D6F",
          "width": 4
         },
         "mode": "lines",
         "name": "ssp370",
         "type": "scatter",
         "x": [
          null
         ],
         "y": [
          null
         ]
        },
        {
         "line": {
          "color": "#E64139",
          "width": 4
         },
         "mode": "lines",
         "name": "ssp585",
         "type": "scatter",
         "x": [
          null
         ],
         "y": [
          null
         ]
        }
       ],
       "layout": {
        "height": 500,
        "legend": {
         "orientation": "h",
         "x": 0.5,
         "xanchor": "center",
         "y": 1.05,
         "yanchor": "top"
        },
        "margin": {
         "b": 50,
         "l": 20,
         "r": 20,
         "t": 50
        },
        "paper_bgcolor": "white",
        "plot_bgcolor": "white",
        "template": {
         "data": {
          "bar": [
           {
            "error_x": {
             "color": "#2a3f5f"
            },
            "error_y": {
             "color": "#2a3f5f"
            },
            "marker": {
             "line": {
              "color": "#E5ECF6",
              "width": 0.5
             },
             "pattern": {
              "fillmode": "overlay",
              "size": 10,
              "solidity": 0.2
             }
            },
            "type": "bar"
           }
          ],
          "barpolar": [
           {
            "marker": {
             "line": {
              "color": "#E5ECF6",
              "width": 0.5
             },
             "pattern": {
              "fillmode": "overlay",
              "size": 10,
              "solidity": 0.2
             }
            },
            "type": "barpolar"
           }
          ],
          "carpet": [
           {
            "aaxis": {
             "endlinecolor": "#2a3f5f",
             "gridcolor": "white",
             "linecolor": "white",
             "minorgridcolor": "white",
             "startlinecolor": "#2a3f5f"
            },
            "baxis": {
             "endlinecolor": "#2a3f5f",
             "gridcolor": "white",
             "linecolor": "white",
             "minorgridcolor": "white",
             "startlinecolor": "#2a3f5f"
            },
            "type": "carpet"
           }
          ],
          "choropleth": [
           {
            "colorbar": {
             "outlinewidth": 0,
             "ticks": ""
            },
            "type": "choropleth"
           }
          ],
          "contour": [
           {
            "colorbar": {
             "outlinewidth": 0,
             "ticks": ""
            },
            "colorscale": [
             [
              0,
              "#0d0887"
             ],
             [
              0.1111111111111111,
              "#46039f"
             ],
             [
              0.2222222222222222,
              "#7201a8"
             ],
             [
              0.3333333333333333,
              "#9c179e"
             ],
             [
              0.4444444444444444,
              "#bd3786"
             ],
             [
              0.5555555555555556,
              "#d8576b"
             ],
             [
              0.6666666666666666,
              "#ed7953"
             ],
             [
              0.7777777777777778,
              "#fb9f3a"
             ],
             [
              0.8888888888888888,
              "#fdca26"
             ],
             [
              1,
              "#f0f921"
             ]
            ],
            "type": "contour"
           }
          ],
          "contourcarpet": [
           {
            "colorbar": {
             "outlinewidth": 0,
             "ticks": ""
            },
            "type": "contourcarpet"
           }
          ],
          "heatmap": [
           {
            "colorbar": {
             "outlinewidth": 0,
             "ticks": ""
            },
            "colorscale": [
             [
              0,
              "#0d0887"
             ],
             [
              0.1111111111111111,
              "#46039f"
             ],
             [
              0.2222222222222222,
              "#7201a8"
             ],
             [
              0.3333333333333333,
              "#9c179e"
             ],
             [
              0.4444444444444444,
              "#bd3786"
             ],
             [
              0.5555555555555556,
              "#d8576b"
             ],
             [
              0.6666666666666666,
              "#ed7953"
             ],
             [
              0.7777777777777778,
              "#fb9f3a"
             ],
             [
              0.8888888888888888,
              "#fdca26"
             ],
             [
              1,
              "#f0f921"
             ]
            ],
            "type": "heatmap"
           }
          ],
          "heatmapgl": [
           {
            "colorbar": {
             "outlinewidth": 0,
             "ticks": ""
            },
            "colorscale": [
             [
              0,
              "#0d0887"
             ],
             [
              0.1111111111111111,
              "#46039f"
             ],
             [
              0.2222222222222222,
              "#7201a8"
             ],
             [
              0.3333333333333333,
              "#9c179e"
             ],
             [
              0.4444444444444444,
              "#bd3786"
             ],
             [
              0.5555555555555556,
              "#d8576b"
             ],
             [
              0.6666666666666666,
              "#ed7953"
             ],
             [
              0.7777777777777778,
              "#fb9f3a"
             ],
             [
              0.8888888888888888,
              "#fdca26"
             ],
             [
              1,
              "#f0f921"
             ]
            ],
            "type": "heatmapgl"
           }
          ],
          "histogram": [
           {
            "marker": {
             "pattern": {
              "fillmode": "overlay",
              "size": 10,
              "solidity": 0.2
             }
            },
            "type": "histogram"
           }
          ],
          "histogram2d": [
           {
            "colorbar": {
             "outlinewidth": 0,
             "ticks": ""
            },
            "colorscale": [
             [
              0,
              "#0d0887"
             ],
             [
              0.1111111111111111,
              "#46039f"
             ],
             [
              0.2222222222222222,
              "#7201a8"
             ],
             [
              0.3333333333333333,
              "#9c179e"
             ],
             [
              0.4444444444444444,
              "#bd3786"
             ],
             [
              0.5555555555555556,
              "#d8576b"
             ],
             [
              0.6666666666666666,
              "#ed7953"
             ],
             [
              0.7777777777777778,
              "#fb9f3a"
             ],
             [
              0.8888888888888888,
              "#fdca26"
             ],
             [
              1,
              "#f0f921"
             ]
            ],
            "type": "histogram2d"
           }
          ],
          "histogram2dcontour": [
           {
            "colorbar": {
             "outlinewidth": 0,
             "ticks": ""
            },
            "colorscale": [
             [
              0,
              "#0d0887"
             ],
             [
              0.1111111111111111,
              "#46039f"
             ],
             [
              0.2222222222222222,
              "#7201a8"
             ],
             [
              0.3333333333333333,
              "#9c179e"
             ],
             [
              0.4444444444444444,
              "#bd3786"
             ],
             [
              0.5555555555555556,
              "#d8576b"
             ],
             [
              0.6666666666666666,
              "#ed7953"
             ],
             [
              0.7777777777777778,
              "#fb9f3a"
             ],
             [
              0.8888888888888888,
              "#fdca26"
             ],
             [
              1,
              "#f0f921"
             ]
            ],
            "type": "histogram2dcontour"
           }
          ],
          "mesh3d": [
           {
            "colorbar": {
             "outlinewidth": 0,
             "ticks": ""
            },
            "type": "mesh3d"
           }
          ],
          "parcoords": [
           {
            "line": {
             "colorbar": {
              "outlinewidth": 0,
              "ticks": ""
             }
            },
            "type": "parcoords"
           }
          ],
          "pie": [
           {
            "automargin": true,
            "type": "pie"
           }
          ],
          "scatter": [
           {
            "fillpattern": {
             "fillmode": "overlay",
             "size": 10,
             "solidity": 0.2
            },
            "type": "scatter"
           }
          ],
          "scatter3d": [
           {
            "line": {
             "colorbar": {
              "outlinewidth": 0,
              "ticks": ""
             }
            },
            "marker": {
             "colorbar": {
              "outlinewidth": 0,
              "ticks": ""
             }
            },
            "type": "scatter3d"
           }
          ],
          "scattercarpet": [
           {
            "marker": {
             "colorbar": {
              "outlinewidth": 0,
              "ticks": ""
             }
            },
            "type": "scattercarpet"
           }
          ],
          "scattergeo": [
           {
            "marker": {
             "colorbar": {
              "outlinewidth": 0,
              "ticks": ""
             }
            },
            "type": "scattergeo"
           }
          ],
          "scattergl": [
           {
            "marker": {
             "colorbar": {
              "outlinewidth": 0,
              "ticks": ""
             }
            },
            "type": "scattergl"
           }
          ],
          "scattermapbox": [
           {
            "marker": {
             "colorbar": {
              "outlinewidth": 0,
              "ticks": ""
             }
            },
            "type": "scattermapbox"
           }
          ],
          "scatterpolar": [
           {
            "marker": {
             "colorbar": {
              "outlinewidth": 0,
              "ticks": ""
             }
            },
            "type": "scatterpolar"
           }
          ],
          "scatterpolargl": [
           {
            "marker": {
             "colorbar": {
              "outlinewidth": 0,
              "ticks": ""
             }
            },
            "type": "scatterpolargl"
           }
          ],
          "scatterternary": [
           {
            "marker": {
             "colorbar": {
              "outlinewidth": 0,
              "ticks": ""
             }
            },
            "type": "scatterternary"
           }
          ],
          "surface": [
           {
            "colorbar": {
             "outlinewidth": 0,
             "ticks": ""
            },
            "colorscale": [
             [
              0,
              "#0d0887"
             ],
             [
              0.1111111111111111,
              "#46039f"
             ],
             [
              0.2222222222222222,
              "#7201a8"
             ],
             [
              0.3333333333333333,
              "#9c179e"
             ],
             [
              0.4444444444444444,
              "#bd3786"
             ],
             [
              0.5555555555555556,
              "#d8576b"
             ],
             [
              0.6666666666666666,
              "#ed7953"
             ],
             [
              0.7777777777777778,
              "#fb9f3a"
             ],
             [
              0.8888888888888888,
              "#fdca26"
             ],
             [
              1,
              "#f0f921"
             ]
            ],
            "type": "surface"
           }
          ],
          "table": [
           {
            "cells": {
             "fill": {
              "color": "#EBF0F8"
             },
             "line": {
              "color": "white"
             }
            },
            "header": {
             "fill": {
              "color": "#C8D4E3"
             },
             "line": {
              "color": "white"
             }
            },
            "type": "table"
           }
          ]
         },
         "layout": {
          "annotationdefaults": {
           "arrowcolor": "#2a3f5f",
           "arrowhead": 0,
           "arrowwidth": 1
          },
          "autotypenumbers": "strict",
          "coloraxis": {
           "colorbar": {
            "outlinewidth": 0,
            "ticks": ""
           }
          },
          "colorscale": {
           "diverging": [
            [
             0,
             "#8e0152"
            ],
            [
             0.1,
             "#c51b7d"
            ],
            [
             0.2,
             "#de77ae"
            ],
            [
             0.3,
             "#f1b6da"
            ],
            [
             0.4,
             "#fde0ef"
            ],
            [
             0.5,
             "#f7f7f7"
            ],
            [
             0.6,
             "#e6f5d0"
            ],
            [
             0.7,
             "#b8e186"
            ],
            [
             0.8,
             "#7fbc41"
            ],
            [
             0.9,
             "#4d9221"
            ],
            [
             1,
             "#276419"
            ]
           ],
           "sequential": [
            [
             0,
             "#0d0887"
            ],
            [
             0.1111111111111111,
             "#46039f"
            ],
            [
             0.2222222222222222,
             "#7201a8"
            ],
            [
             0.3333333333333333,
             "#9c179e"
            ],
            [
             0.4444444444444444,
             "#bd3786"
            ],
            [
             0.5555555555555556,
             "#d8576b"
            ],
            [
             0.6666666666666666,
             "#ed7953"
            ],
            [
             0.7777777777777778,
             "#fb9f3a"
            ],
            [
             0.8888888888888888,
             "#fdca26"
            ],
            [
             1,
             "#f0f921"
            ]
           ],
           "sequentialminus": [
            [
             0,
             "#0d0887"
            ],
            [
             0.1111111111111111,
             "#46039f"
            ],
            [
             0.2222222222222222,
             "#7201a8"
            ],
            [
             0.3333333333333333,
             "#9c179e"
            ],
            [
             0.4444444444444444,
             "#bd3786"
            ],
            [
             0.5555555555555556,
             "#d8576b"
            ],
            [
             0.6666666666666666,
             "#ed7953"
            ],
            [
             0.7777777777777778,
             "#fb9f3a"
            ],
            [
             0.8888888888888888,
             "#fdca26"
            ],
            [
             1,
             "#f0f921"
            ]
           ]
          },
          "colorway": [
           "#636efa",
           "#EF553B",
           "#00cc96",
           "#ab63fa",
           "#FFA15A",
           "#19d3f3",
           "#FF6692",
           "#B6E880",
           "#FF97FF",
           "#FECB52"
          ],
          "font": {
           "color": "#2a3f5f"
          },
          "geo": {
           "bgcolor": "white",
           "lakecolor": "white",
           "landcolor": "#E5ECF6",
           "showlakes": true,
           "showland": true,
           "subunitcolor": "white"
          },
          "hoverlabel": {
           "align": "left"
          },
          "hovermode": "closest",
          "mapbox": {
           "style": "light"
          },
          "paper_bgcolor": "white",
          "plot_bgcolor": "#E5ECF6",
          "polar": {
           "angularaxis": {
            "gridcolor": "white",
            "linecolor": "white",
            "ticks": ""
           },
           "bgcolor": "#E5ECF6",
           "radialaxis": {
            "gridcolor": "white",
            "linecolor": "white",
            "ticks": ""
           }
          },
          "scene": {
           "xaxis": {
            "backgroundcolor": "#E5ECF6",
            "gridcolor": "white",
            "gridwidth": 2,
            "linecolor": "white",
            "showbackground": true,
            "ticks": "",
            "zerolinecolor": "white"
           },
           "yaxis": {
            "backgroundcolor": "#E5ECF6",
            "gridcolor": "white",
            "gridwidth": 2,
            "linecolor": "white",
            "showbackground": true,
            "ticks": "",
            "zerolinecolor": "white"
           },
           "zaxis": {
            "backgroundcolor": "#E5ECF6",
            "gridcolor": "white",
            "gridwidth": 2,
            "linecolor": "white",
            "showbackground": true,
            "ticks": "",
            "zerolinecolor": "white"
           }
          },
          "shapedefaults": {
           "line": {
            "color": "#2a3f5f"
           }
          },
          "ternary": {
           "aaxis": {
            "gridcolor": "white",
            "linecolor": "white",
            "ticks": ""
           },
           "baxis": {
            "gridcolor": "white",
            "linecolor": "white",
            "ticks": ""
           },
           "bgcolor": "#E5ECF6",
           "caxis": {
            "gridcolor": "white",
            "linecolor": "white",
            "ticks": ""
           }
          },
          "title": {
           "x": 0.05
          },
          "xaxis": {
           "automargin": true,
           "gridcolor": "white",
           "linecolor": "white",
           "ticks": "",
           "title": {
            "standoff": 15
           },
           "zerolinecolor": "white",
           "zerolinewidth": 2
          },
          "yaxis": {
           "automargin": true,
           "gridcolor": "white",
           "linecolor": "white",
           "ticks": "",
           "title": {
            "standoff": 15
           },
           "zerolinecolor": "white",
           "zerolinewidth": 2
          }
         }
        },
        "title": {
         "text": "Projected changes CMIP6 in NEU for Total Precipitation during year between 2041-2060",
         "x": 0.5,
         "xanchor": "center"
        },
        "xaxis": {
         "linecolor": "black",
         "linewidth": 1,
         "range": [
          -1.3055472256,
          22.7432725936
         ],
         "showgrid": false,
         "showline": true,
         "tickcolor": "black",
         "ticklen": 3,
         "tickmode": "auto",
         "ticks": "outside",
         "tickwidth": 1,
         "title": {
          "text": "Change in Total Precipitation [%]"
         },
         "zeroline": false
        },
        "yaxis": {
         "showgrid": false,
         "tickmode": "array",
         "ticktext": [
          "Model",
          "SSP",
          ""
         ],
         "tickvals": [
          0,
          1,
          2
         ],
         "zeroline": false
        }
       }
      }
     },
     "metadata": {},
     "output_type": "display_data"
    }
   ],
   "source": [
    "from cascade_plot_widget import plot_widget\n",
    "plot_widget()"
   ]
  },
  {
   "cell_type": "markdown",
   "metadata": {},
   "source": [
    "`````{admonition} Latvian example\n",
    ":class: note dropdown\n",
    "\n",
    "When selecting the variables we can get the figures below. We notice that that the individual model projections span a much large range of change than the combined model mean of each SSP. Here we see that individual models behave differently towards the same emission scenarios. This can be either due to differences in the way they represent physicial processes or because they are subject to randomness of the weather and might have hit a cold snap or dry spell in their simulations. \n",
    "\n",
    "For precipitation we notice that as emissions go up model means also go up. Individual model projections all indicate an increase in spring precipitation the amount is more unclear. For each SSP little increases can occur (<5%) while high increases (>15%) are mostly reserved for high emission scenarios. When using this information with known flood mechanisms where soils are saturatated and extra rain leads to high discharges, we can expect more of these events to occur. An increase of 10% is not unlikely across models and can lead to severe changes in discharges.\n",
    "\n",
    "Snowfall is expected to decrease as emissions, and therefore also temperatures, increase. Given that northern europe historically received roughly 1.3 mm/day of snow in winter the range given is between a 24% reduction to a 7% increase in snowfall. Few models project an increase and might be due to randomness of weather. Howver, 7% extra snowfall in winter snowpack can result into large changes in melt discharges and might be worth investigating as a potential 'what if' scenario. a reduction of 24% is also interesting as it greatly limits snow accumulation and therefore the snow melt flood mechanism. \n",
    "\n",
    "```{figure} images/latvia_example/cascade_plot_NEU_precip_marmay_2050.png\n",
    ":width: 100%\n",
    ":align: center\n",
    "\n",
    "Plot of uncertainties for climate variable in NEU\n",
    "```\n",
    "\n",
    "```{figure} images/latvia_example/cascade_plot_NEU_snow_decfeb_2050.png\n",
    ":width: 100%\n",
    ":align: center\n",
    "\n",
    "Plot of uncertainties for climate variable in NEU\n",
    "```\n",
    "`````"
   ]
  },
  {
   "cell_type": "markdown",
   "metadata": {},
   "source": [
    "### 4. Look into IPCC reports why this occurs"
   ]
  },
  {
   "cell_type": "markdown",
   "metadata": {},
   "source": [
    "To get a better sense of why there is such a large range of what could happen in the future we can dive into the IPCC reports to give some clarity. In the reports a scientific background is given to many of the reasons. To get started we can use [ChatClimate](https://www.chatclimate.ai/). This is an AI tool that is specialised in the IPCC report and guides users towards the chapters and information they need. A good starting point to ask questions is to use the following template.\n",
    "\n",
    "- *\"What are the expected changes in [region] for [climate impact variable] and why do these changes occur? Also include reasons for differences across climate models.\"*\n",
    "\n",
    "if you want to know more or do not understand parts of the answers follow up by using. \n",
    "- *\"What do you mean by this? [copy text from anwer you want to know more about]\"*\n",
    "\n",
    "However, one can also dive into the IPCC reports and search for explanations. Here are some usefull links:\n",
    "- [IPCC Climate Change 2021: The Physical Science Basis](https://www.ipcc.ch/report/ar6/wg1/) (for a chapter overview)\n",
    "- [Chapter 8: Water Cycle Changes](https://www.ipcc.ch/report/ar6/wg1/chapter/chapter-8/)\n",
    "- [Chapter 10: Linking Global to Regional Climate Change](https://www.ipcc.ch/report/ar6/wg1/chapter/chapter-10/)\n",
    "- [Chapter 11: Weather and Climate Extreme Events in a Changing Climate](https://www.ipcc.ch/report/ar6/wg1/chapter/chapter-11/)\n",
    "- [Chapter 12: Climate Change Information for Regional Impact and for Risk Assessment](https://www.ipcc.ch/report/ar6/wg1/chapter/chapter-12/)\n",
    "- [Atlas](https://www.ipcc.ch/report/ar6/wg1/chapter/atlas/)"
   ]
  },
  {
   "cell_type": "markdown",
   "metadata": {},
   "source": [
    "`````{admonition} Latvian example\n",
    ":class: note dropdown\n",
    "\n",
    "Here we dive into the details of why precipitation is expected to increase and snowfall is decreasing. Using the information below we have a good basis. To dive into the reports if needed or reach out to other experts to tell us more.\n",
    "\n",
    "**Precipitation**\n",
    "\n",
    "When asking ChatClimate: *\"What are the expected changes in NEU for average precipitation amounts in spring and why do these changes occur? Also include reasons for differences across climate models.\"* it gives the following answer.\n",
    "\n",
    "> \"The expected changes in average precipitation amounts in NEU (North-Eastern Europe) for spring are not explicitly mentioned in the provided information. However, it is reported that in the winter half year, NEU is likely to have increased mean precipitation associated with increased atmospheric moisture and moisture convergence, and intensification in extratropical cyclone activity (Page: 72, Reference: IPCC_AR6_WGI_Atlas). The changes in precipitation are driven by the increase in atmospheric water vapour (about 7% per 1°C of warming near the surface), although this is modulated by various dynamical changes. Changes in average precipitation are also driven by slower processes that constrain future changes over the globe to only 2-3% per 1°C of warming near the surface (Page: 96, Reference: IPCC_AR6_WGI_Chapter11). The differences across climate models are due to pronounced internal variability in this region, particularly NAO (North Atlantic Oscillation) and AMO (Atlantic Multidecadal Oscillation). The spread in climate model projections is still substantial, partly due to these factors (Page: 72, Reference: IPCC_AR6_WGI_Atlas). Additionally, near-term projected changes in precipitation are uncertain mainly because of natural internal variability, model uncertainty, and uncertainty in natural and anthropogenic aerosol forcing (Page: 33, Reference: IPCC_AR6_WGI_Chapter04). However, without more specific information about spring precipitation in NEU, there is not enough info to answer the question fully.\"\n",
    "\n",
    "When asking *\"What do you mean by this? The differences across climate models are due to pronounced internal variability in this region, particularly NAO (North Atlantic Oscillation) and AMO (Atlantic Multidecadal Oscillation). The spread in climate model projections is still substantial, partly due to these factors (Page: 72, Reference: IPCC_AR6_WGI_Atlas).\"* We learn more.\n",
    "\n",
    "> \"The statement refers to the variability in climate model projections due to internal climate factors, specifically the North Atlantic Oscillation (NAO) and the Atlantic Multidecadal Oscillation (AMO). These are modes of climate variability that can significantly influence regional climates. The NAO, for instance, is the main mode of climate variability over the North Atlantic-European region in all seasons, affecting temperature, precipitation, wind patterns, and even the occurrence of extreme weather events (Page: 4, Reference: IPCC_AR6_WGI_AnnexIV). It can also lead to significant uncertainty in future changes of regional climate, as seen in the CMIP5 RCP8.5 scenario where an increased amplitude and frequency of the NAO during winter is associated with higher precipitation in northern Europe and lower precipitation in southern Europe (Page: 81, Reference: IPCC_AR6_WGI_Chapter08). The AMO, while not explicitly described in the provided information, is another mode of climate variability that can influence climate model projections. The spread in climate model projections refers to the range of possible outcomes predicted by different climate models. This spread is substantial, meaning there is a wide range of possible future climates predicted by these models, partly due to the influence of internal variability factors like the NAO and AMO (Page: 72, Reference: IPCC_AR6_WGI_Atlas). However, it's also noted that some climate models may have deficiencies that cause the predictable signal associated with the NAO to be weaker than in nature, while others, such as that linked to the SAM, are more consistent with observations (Page: 12, Reference: IPCC_AR6_WGI_Chapter04). This could also contribute to the spread in climate model projections (In-house knowledge).\"\n",
    "\n",
    "**Snowfall**\n",
    "\n",
    "When asking ChatClimate: *\"What are the expected changes in NEU for average snowfall amounts in winter and why do these changes occur? Also include reasons for differences across climate models.\"*\n",
    "\n",
    "> \"The expected changes in average snowfall amounts in winter in North-Eastern Europe (NEU) are likely to decrease due to global warming. This is because regional warming is virtually certain to extend the observed downward trends in snow accumulation, snow water equivalent, and length of the snow cover season in NEU (Page:76, Reference:IPCC_AR6_WGI_Atlas). This is supported by regional and global multi-model and/or single-model ensemble projections including CMIP5, PRUDENCE, ENSEMBLES, and EURO-CORDEX. The changes are attributed to changes in the snowfall fraction of precipitation and to increased snowmelt (Page:76, Reference:IPCC_AR6_WGI_Atlas). The differences across climate models can be due to the different ways they represent physical processes and their interactions. For example, Terzago et al. (2017) showed a large positive bias in the amplitude of the annual snow cycle of EURO-CORDEX 0.11° simulations driven by GCM projections, while reanalysis-driven RCMs showed good agreement with in situ observations (Page:76, Reference:IPCC_AR6_WGI_Atlas). Furthermore, changes in precipitation extremes (including both rainfall and snowfall extremes) can differ drastically from those in average precipitation. The intensification of extreme precipitation is driven by the increase in atmospheric water vapour (about 7% per 1°C of warming near the surface), although this is modulated by various dynamical changes. In contrast, changes in average precipitation are driven not only by moisture increases but also by slower processes that constrain future changes over the globe to only 2-3% per 1°C of warming near the surface (Page:96, Reference:IPCC_AR6_WGI_Chapter11). In summary, the expected changes in NEU for average snowfall amounts in winter are likely to decrease due to global warming, and the differences across climate models can be attributed to the different ways they represent physical processes and their interactions (In-house knowledge).\"\n",
    "`````"
   ]
  },
  {
   "cell_type": "markdown",
   "metadata": {},
   "source": [
    "### 5. Advanced steps"
   ]
  },
  {
   "cell_type": "markdown",
   "metadata": {},
   "source": [
    "Here we propose some steps that could be taken to gain better insights into the actual impacts of these future trends.\n",
    "\n",
    "1. Using Climate Time Series from Multiple Models in impact analysis\n",
    "\n",
    "    *Why this matters*: Climate projections come with uncertainty, as no single model can capture the full range of possible futures. By using a set of models that span this uncertainty, you ensure that your projections cover a wide spectrum of possible scenarios, helping to account for the unpredictable nature of climate change.\n",
    "    \n",
    "    *Action*: Select a diverse set of climate models that represent different outcomes for the climate impact variables and use these in impact analyses, such as the CLIMAAX risk workflows. These will help you explore the range of potential outcomes, from worst-case to moderate scenarios.\n",
    "\n",
    "2. Adjusting Historical Weather Patterns with a Stochastic Weather Generator\n",
    "\n",
    "    *Why this matters*: Simply applying model projections can be too coarse for the complexity of daily weather variations. By adjusting historical weather patterns based on projected climate signals, you can generate more detailed scenarios for how weather might evolve under future climate conditions.\n",
    "\n",
    "    Action: Use a stochastic weather generator to blend the climate signals from the models with observed historical weather data. This process can mimic how variables like temperature and precipitation might shift, while preserving local conditions.\n",
    "\n",
    "3. Use these projections in combination with socioeconomic changes\n",
    "\n",
    "    *Why it matters*: The severity and impact of climate change depend not just on the physical climate but on how societies evolve. Integrating climate projections with different socioeconomic scenarios allows for more holistic scenarios, reflecting changes in population, technology, and governance that either increase or decrease vulnerability.\n",
    "\n",
    "    *Action*: Combine your climate model outputs with scenarios of regional socioeconomic development. For example, a lot of increased precipitation combined with rapid urban growth may result in higher risks than the same climate future with strong policy intervention and innovation. Use such combinations to explore how risks might change based on both climate and socioeconomic dynamics."
   ]
  },
  {
   "cell_type": "markdown",
   "metadata": {},
   "source": []
  }
 ],
 "metadata": {
  "kernelspec": {
   "display_name": "Python 3 (ipykernel)",
   "language": "python",
   "name": "python3"
  },
  "language_info": {
   "codemirror_mode": {
    "name": "ipython",
    "version": 3
   },
   "file_extension": ".py",
   "mimetype": "text/x-python",
   "name": "python",
   "nbconvert_exporter": "python",
   "pygments_lexer": "ipython3",
   "version": "3.11.4"
  }
 },
 "nbformat": 4,
 "nbformat_minor": 2
}
